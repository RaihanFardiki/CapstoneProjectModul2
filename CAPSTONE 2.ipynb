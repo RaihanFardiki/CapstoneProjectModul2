{
 "cells": [
  {
   "cell_type": "markdown",
   "id": "1931685f-f73d-47c4-8198-c2c5fcaf9799",
   "metadata": {},
   "source": [
    "# DATASET CRIMES IN BOSTON"
   ]
  },
  {
   "cell_type": "markdown",
   "id": "7e5f9adb-76a7-4ef3-8b33-2d9b8fce2d48",
   "metadata": {},
   "source": [
    "## Description\n",
    "Laporan kejadian kejahatan disediakan oleh Departemen Kepolisian Boston (BPD) untuk mendokumentasikan rincian awal seputar insiden yang ditanggapi oleh petugas BPD. Ini adalah kumpulan data yang berisi catatan dari sistem laporan insiden kejahatan baru, yang mencakup kumpulan bidang yang dikurangi yang difokuskan untuk menangkap jenis insiden serta kapan dan di mana itu terjadi.\n",
    "\n",
    "data didapatkan dari:\n",
    "https://www.kaggle.com/datasets/AnalyzeBoston/crimes-in-boston\n",
    "\n",
    "## Latar Belakang\n",
    "Departemen Kepolisian Boston (BPD) ingin membuat kebijakan baru untuk mengurangi tingkat kriminalitas di kota boston,sesuai dengan karakteristik kriminal yang ada di kota boston\n",
    "## Pernyataan Masalah\n",
    "Departemen Kepolisian Boston (BPD) ingin mengetahui bagaimana karakteristik dari kejahatan di Boston. selain itu  BPD, juga ingin mengetahui bagaimana karakteristik respon polisi dalam menangani suatu kejadian kejahatan. setelah mengetahui karakteristik kejahatan dan karakteristik respon polisi di boston, Departemen Kepolisian Boston (BPD) dapat membuat kebijakan dengan berlandaskan data yang ada, sehingga BPD dapat membuat kebijakan tepat yang dapat menurunkan atau mencegah kejahatan di boston.\n",
    "## GOALS\n",
    "1. mengetahui bagaimana karakteristik dari kejahatan di Boston dan karakteristik respon polisi dalam menangani suatu kejadian kejahatan di boston.\n",
    "1. memberikan rekomendasi kebijakan yang dapat dilakukan oleh Departemen Kepolisian Boston (BPD)"
   ]
  },
  {
   "cell_type": "markdown",
   "id": "2f57b43f-22c5-4eab-a115-4046b8045612",
   "metadata": {},
   "source": [
    "## 1. DATA\n",
    "### Import Library"
   ]
  },
  {
   "cell_type": "code",
   "execution_count": 1,
   "id": "1ba7ecea-fd6d-4db9-a61e-ba6ace4e32de",
   "metadata": {},
   "outputs": [],
   "source": [
    "#import library\n",
    "import pandas as pd\n",
    "import numpy as np\n",
    "import seaborn as sns\n",
    "import matplotlib.pyplot as plt\n",
    "import warnings\n",
    "warnings.filterwarnings(\"ignore\")"
   ]
  },
  {
   "cell_type": "markdown",
   "id": "83c4e625-b006-4c59-adc8-18858a61834b",
   "metadata": {},
   "source": [
    "### Read DataFrame"
   ]
  },
  {
   "cell_type": "code",
   "execution_count": 2,
   "id": "4233328f-e440-40e3-95fb-c9c2b5fa2d10",
   "metadata": {},
   "outputs": [
    {
     "data": {
      "text/html": [
       "<div>\n",
       "<style scoped>\n",
       "    .dataframe tbody tr th:only-of-type {\n",
       "        vertical-align: middle;\n",
       "    }\n",
       "\n",
       "    .dataframe tbody tr th {\n",
       "        vertical-align: top;\n",
       "    }\n",
       "\n",
       "    .dataframe thead th {\n",
       "        text-align: right;\n",
       "    }\n",
       "</style>\n",
       "<table border=\"1\" class=\"dataframe\">\n",
       "  <thead>\n",
       "    <tr style=\"text-align: right;\">\n",
       "      <th></th>\n",
       "      <th>INCIDENT_NUMBER</th>\n",
       "      <th>OFFENSE_CODE</th>\n",
       "      <th>OFFENSE_CODE_GROUP</th>\n",
       "      <th>OFFENSE_DESCRIPTION</th>\n",
       "      <th>DISTRICT</th>\n",
       "      <th>REPORTING_AREA</th>\n",
       "      <th>SHOOTING</th>\n",
       "      <th>OCCURRED_ON_DATE</th>\n",
       "      <th>YEAR</th>\n",
       "      <th>MONTH</th>\n",
       "      <th>DAY_OF_WEEK</th>\n",
       "      <th>HOUR</th>\n",
       "      <th>UCR_PART</th>\n",
       "      <th>STREET</th>\n",
       "      <th>Lat</th>\n",
       "      <th>Long</th>\n",
       "      <th>Location</th>\n",
       "    </tr>\n",
       "  </thead>\n",
       "  <tbody>\n",
       "    <tr>\n",
       "      <th>0</th>\n",
       "      <td>I182070945</td>\n",
       "      <td>619</td>\n",
       "      <td>Larceny</td>\n",
       "      <td>LARCENY ALL OTHERS</td>\n",
       "      <td>D14</td>\n",
       "      <td>808</td>\n",
       "      <td>NaN</td>\n",
       "      <td>2018-09-02 13:00:00</td>\n",
       "      <td>2018</td>\n",
       "      <td>9</td>\n",
       "      <td>Sunday</td>\n",
       "      <td>13</td>\n",
       "      <td>Part One</td>\n",
       "      <td>LINCOLN ST</td>\n",
       "      <td>42.357791</td>\n",
       "      <td>-71.139371</td>\n",
       "      <td>(42.35779134, -71.13937053)</td>\n",
       "    </tr>\n",
       "    <tr>\n",
       "      <th>1</th>\n",
       "      <td>I182070943</td>\n",
       "      <td>1402</td>\n",
       "      <td>Vandalism</td>\n",
       "      <td>VANDALISM</td>\n",
       "      <td>C11</td>\n",
       "      <td>347</td>\n",
       "      <td>NaN</td>\n",
       "      <td>2018-08-21 00:00:00</td>\n",
       "      <td>2018</td>\n",
       "      <td>8</td>\n",
       "      <td>Tuesday</td>\n",
       "      <td>0</td>\n",
       "      <td>Part Two</td>\n",
       "      <td>HECLA ST</td>\n",
       "      <td>42.306821</td>\n",
       "      <td>-71.060300</td>\n",
       "      <td>(42.30682138, -71.06030035)</td>\n",
       "    </tr>\n",
       "    <tr>\n",
       "      <th>2</th>\n",
       "      <td>I182070941</td>\n",
       "      <td>3410</td>\n",
       "      <td>Towed</td>\n",
       "      <td>TOWED MOTOR VEHICLE</td>\n",
       "      <td>D4</td>\n",
       "      <td>151</td>\n",
       "      <td>NaN</td>\n",
       "      <td>2018-09-03 19:27:00</td>\n",
       "      <td>2018</td>\n",
       "      <td>9</td>\n",
       "      <td>Monday</td>\n",
       "      <td>19</td>\n",
       "      <td>Part Three</td>\n",
       "      <td>CAZENOVE ST</td>\n",
       "      <td>42.346589</td>\n",
       "      <td>-71.072429</td>\n",
       "      <td>(42.34658879, -71.07242943)</td>\n",
       "    </tr>\n",
       "    <tr>\n",
       "      <th>3</th>\n",
       "      <td>I182070940</td>\n",
       "      <td>3114</td>\n",
       "      <td>Investigate Property</td>\n",
       "      <td>INVESTIGATE PROPERTY</td>\n",
       "      <td>D4</td>\n",
       "      <td>272</td>\n",
       "      <td>NaN</td>\n",
       "      <td>2018-09-03 21:16:00</td>\n",
       "      <td>2018</td>\n",
       "      <td>9</td>\n",
       "      <td>Monday</td>\n",
       "      <td>21</td>\n",
       "      <td>Part Three</td>\n",
       "      <td>NEWCOMB ST</td>\n",
       "      <td>42.334182</td>\n",
       "      <td>-71.078664</td>\n",
       "      <td>(42.33418175, -71.07866441)</td>\n",
       "    </tr>\n",
       "    <tr>\n",
       "      <th>4</th>\n",
       "      <td>I182070938</td>\n",
       "      <td>3114</td>\n",
       "      <td>Investigate Property</td>\n",
       "      <td>INVESTIGATE PROPERTY</td>\n",
       "      <td>B3</td>\n",
       "      <td>421</td>\n",
       "      <td>NaN</td>\n",
       "      <td>2018-09-03 21:05:00</td>\n",
       "      <td>2018</td>\n",
       "      <td>9</td>\n",
       "      <td>Monday</td>\n",
       "      <td>21</td>\n",
       "      <td>Part Three</td>\n",
       "      <td>DELHI ST</td>\n",
       "      <td>42.275365</td>\n",
       "      <td>-71.090361</td>\n",
       "      <td>(42.27536542, -71.09036101)</td>\n",
       "    </tr>\n",
       "  </tbody>\n",
       "</table>\n",
       "</div>"
      ],
      "text/plain": [
       "  INCIDENT_NUMBER  OFFENSE_CODE    OFFENSE_CODE_GROUP   OFFENSE_DESCRIPTION  \\\n",
       "0      I182070945           619               Larceny    LARCENY ALL OTHERS   \n",
       "1      I182070943          1402             Vandalism             VANDALISM   \n",
       "2      I182070941          3410                 Towed   TOWED MOTOR VEHICLE   \n",
       "3      I182070940          3114  Investigate Property  INVESTIGATE PROPERTY   \n",
       "4      I182070938          3114  Investigate Property  INVESTIGATE PROPERTY   \n",
       "\n",
       "  DISTRICT REPORTING_AREA SHOOTING     OCCURRED_ON_DATE  YEAR  MONTH  \\\n",
       "0      D14            808      NaN  2018-09-02 13:00:00  2018      9   \n",
       "1      C11            347      NaN  2018-08-21 00:00:00  2018      8   \n",
       "2       D4            151      NaN  2018-09-03 19:27:00  2018      9   \n",
       "3       D4            272      NaN  2018-09-03 21:16:00  2018      9   \n",
       "4       B3            421      NaN  2018-09-03 21:05:00  2018      9   \n",
       "\n",
       "  DAY_OF_WEEK  HOUR    UCR_PART       STREET        Lat       Long  \\\n",
       "0      Sunday    13    Part One   LINCOLN ST  42.357791 -71.139371   \n",
       "1     Tuesday     0    Part Two     HECLA ST  42.306821 -71.060300   \n",
       "2      Monday    19  Part Three  CAZENOVE ST  42.346589 -71.072429   \n",
       "3      Monday    21  Part Three   NEWCOMB ST  42.334182 -71.078664   \n",
       "4      Monday    21  Part Three     DELHI ST  42.275365 -71.090361   \n",
       "\n",
       "                      Location  \n",
       "0  (42.35779134, -71.13937053)  \n",
       "1  (42.30682138, -71.06030035)  \n",
       "2  (42.34658879, -71.07242943)  \n",
       "3  (42.33418175, -71.07866441)  \n",
       "4  (42.27536542, -71.09036101)  "
      ]
     },
     "execution_count": 2,
     "metadata": {},
     "output_type": "execute_result"
    }
   ],
   "source": [
    "#Read dataframe \"crime.csv\"\n",
    "df = pd.read_csv(\"crime.csv\",encoding_errors='ignore')\n",
    "df.head()"
   ]
  },
  {
   "cell_type": "code",
   "execution_count": 3,
   "id": "bf61c136-f45d-45db-818d-692bec795bb2",
   "metadata": {},
   "outputs": [
    {
     "data": {
      "text/html": [
       "<div>\n",
       "<style scoped>\n",
       "    .dataframe tbody tr th:only-of-type {\n",
       "        vertical-align: middle;\n",
       "    }\n",
       "\n",
       "    .dataframe tbody tr th {\n",
       "        vertical-align: top;\n",
       "    }\n",
       "\n",
       "    .dataframe thead th {\n",
       "        text-align: right;\n",
       "    }\n",
       "</style>\n",
       "<table border=\"1\" class=\"dataframe\">\n",
       "  <thead>\n",
       "    <tr style=\"text-align: right;\">\n",
       "      <th></th>\n",
       "      <th>CODE</th>\n",
       "      <th>NAME</th>\n",
       "    </tr>\n",
       "  </thead>\n",
       "  <tbody>\n",
       "    <tr>\n",
       "      <th>0</th>\n",
       "      <td>612</td>\n",
       "      <td>LARCENY PURSE SNATCH - NO FORCE</td>\n",
       "    </tr>\n",
       "    <tr>\n",
       "      <th>1</th>\n",
       "      <td>613</td>\n",
       "      <td>LARCENY SHOPLIFTING</td>\n",
       "    </tr>\n",
       "    <tr>\n",
       "      <th>2</th>\n",
       "      <td>615</td>\n",
       "      <td>LARCENY THEFT OF MV PARTS &amp; ACCESSORIES</td>\n",
       "    </tr>\n",
       "    <tr>\n",
       "      <th>3</th>\n",
       "      <td>1731</td>\n",
       "      <td>INCEST</td>\n",
       "    </tr>\n",
       "    <tr>\n",
       "      <th>4</th>\n",
       "      <td>3111</td>\n",
       "      <td>LICENSE PREMISE VIOLATION</td>\n",
       "    </tr>\n",
       "  </tbody>\n",
       "</table>\n",
       "</div>"
      ],
      "text/plain": [
       "   CODE                                     NAME\n",
       "0   612         LARCENY PURSE SNATCH - NO FORCE \n",
       "1   613                      LARCENY SHOPLIFTING\n",
       "2   615  LARCENY THEFT OF MV PARTS & ACCESSORIES\n",
       "3  1731                                   INCEST\n",
       "4  3111                LICENSE PREMISE VIOLATION"
      ]
     },
     "execution_count": 3,
     "metadata": {},
     "output_type": "execute_result"
    }
   ],
   "source": [
    "#Read \"offense_codes.csv\" \n",
    "df1 = pd.read_csv(\"offense_codes.csv\",encoding_errors='ignore')\n",
    "df1.head()"
   ]
  },
  {
   "cell_type": "markdown",
   "id": "50cf560d-4744-44cd-b5b7-70cc250d63b2",
   "metadata": {},
   "source": [
    "Didapatkan bahwa DataFrame \"offense_codes.csv\" sudah terkandung di DataSet \"crime.csv\", maka dari itu analisis akan difokuskan hanya di DataSet \"crime.csv\" saja."
   ]
  },
  {
   "cell_type": "markdown",
   "id": "3c9eeb99-b757-41bc-b65e-83f5023efaab",
   "metadata": {
    "tags": []
   },
   "source": [
    "## 2. Data Understanding dan Cleaning\n"
   ]
  },
  {
   "cell_type": "code",
   "execution_count": 4,
   "id": "61fe2450-5c9e-4c71-a59e-6dfbc3e93f35",
   "metadata": {},
   "outputs": [
    {
     "data": {
      "text/html": [
       "<div>\n",
       "<style scoped>\n",
       "    .dataframe tbody tr th:only-of-type {\n",
       "        vertical-align: middle;\n",
       "    }\n",
       "\n",
       "    .dataframe tbody tr th {\n",
       "        vertical-align: top;\n",
       "    }\n",
       "\n",
       "    .dataframe thead th {\n",
       "        text-align: right;\n",
       "    }\n",
       "</style>\n",
       "<table border=\"1\" class=\"dataframe\">\n",
       "  <thead>\n",
       "    <tr style=\"text-align: right;\">\n",
       "      <th></th>\n",
       "      <th>INCIDENT_NUMBER</th>\n",
       "      <th>OFFENSE_CODE</th>\n",
       "      <th>OFFENSE_CODE_GROUP</th>\n",
       "      <th>OFFENSE_DESCRIPTION</th>\n",
       "      <th>DISTRICT</th>\n",
       "      <th>REPORTING_AREA</th>\n",
       "      <th>SHOOTING</th>\n",
       "      <th>OCCURRED_ON_DATE</th>\n",
       "      <th>YEAR</th>\n",
       "      <th>MONTH</th>\n",
       "      <th>DAY_OF_WEEK</th>\n",
       "      <th>HOUR</th>\n",
       "      <th>UCR_PART</th>\n",
       "      <th>STREET</th>\n",
       "      <th>Lat</th>\n",
       "      <th>Long</th>\n",
       "      <th>Location</th>\n",
       "    </tr>\n",
       "  </thead>\n",
       "  <tbody>\n",
       "    <tr>\n",
       "      <th>0</th>\n",
       "      <td>I182070945</td>\n",
       "      <td>619</td>\n",
       "      <td>Larceny</td>\n",
       "      <td>LARCENY ALL OTHERS</td>\n",
       "      <td>D14</td>\n",
       "      <td>808</td>\n",
       "      <td>NaN</td>\n",
       "      <td>2018-09-02 13:00:00</td>\n",
       "      <td>2018</td>\n",
       "      <td>9</td>\n",
       "      <td>Sunday</td>\n",
       "      <td>13</td>\n",
       "      <td>Part One</td>\n",
       "      <td>LINCOLN ST</td>\n",
       "      <td>42.357791</td>\n",
       "      <td>-71.139371</td>\n",
       "      <td>(42.35779134, -71.13937053)</td>\n",
       "    </tr>\n",
       "    <tr>\n",
       "      <th>1</th>\n",
       "      <td>I182070943</td>\n",
       "      <td>1402</td>\n",
       "      <td>Vandalism</td>\n",
       "      <td>VANDALISM</td>\n",
       "      <td>C11</td>\n",
       "      <td>347</td>\n",
       "      <td>NaN</td>\n",
       "      <td>2018-08-21 00:00:00</td>\n",
       "      <td>2018</td>\n",
       "      <td>8</td>\n",
       "      <td>Tuesday</td>\n",
       "      <td>0</td>\n",
       "      <td>Part Two</td>\n",
       "      <td>HECLA ST</td>\n",
       "      <td>42.306821</td>\n",
       "      <td>-71.060300</td>\n",
       "      <td>(42.30682138, -71.06030035)</td>\n",
       "    </tr>\n",
       "    <tr>\n",
       "      <th>2</th>\n",
       "      <td>I182070941</td>\n",
       "      <td>3410</td>\n",
       "      <td>Towed</td>\n",
       "      <td>TOWED MOTOR VEHICLE</td>\n",
       "      <td>D4</td>\n",
       "      <td>151</td>\n",
       "      <td>NaN</td>\n",
       "      <td>2018-09-03 19:27:00</td>\n",
       "      <td>2018</td>\n",
       "      <td>9</td>\n",
       "      <td>Monday</td>\n",
       "      <td>19</td>\n",
       "      <td>Part Three</td>\n",
       "      <td>CAZENOVE ST</td>\n",
       "      <td>42.346589</td>\n",
       "      <td>-71.072429</td>\n",
       "      <td>(42.34658879, -71.07242943)</td>\n",
       "    </tr>\n",
       "    <tr>\n",
       "      <th>3</th>\n",
       "      <td>I182070940</td>\n",
       "      <td>3114</td>\n",
       "      <td>Investigate Property</td>\n",
       "      <td>INVESTIGATE PROPERTY</td>\n",
       "      <td>D4</td>\n",
       "      <td>272</td>\n",
       "      <td>NaN</td>\n",
       "      <td>2018-09-03 21:16:00</td>\n",
       "      <td>2018</td>\n",
       "      <td>9</td>\n",
       "      <td>Monday</td>\n",
       "      <td>21</td>\n",
       "      <td>Part Three</td>\n",
       "      <td>NEWCOMB ST</td>\n",
       "      <td>42.334182</td>\n",
       "      <td>-71.078664</td>\n",
       "      <td>(42.33418175, -71.07866441)</td>\n",
       "    </tr>\n",
       "    <tr>\n",
       "      <th>4</th>\n",
       "      <td>I182070938</td>\n",
       "      <td>3114</td>\n",
       "      <td>Investigate Property</td>\n",
       "      <td>INVESTIGATE PROPERTY</td>\n",
       "      <td>B3</td>\n",
       "      <td>421</td>\n",
       "      <td>NaN</td>\n",
       "      <td>2018-09-03 21:05:00</td>\n",
       "      <td>2018</td>\n",
       "      <td>9</td>\n",
       "      <td>Monday</td>\n",
       "      <td>21</td>\n",
       "      <td>Part Three</td>\n",
       "      <td>DELHI ST</td>\n",
       "      <td>42.275365</td>\n",
       "      <td>-71.090361</td>\n",
       "      <td>(42.27536542, -71.09036101)</td>\n",
       "    </tr>\n",
       "  </tbody>\n",
       "</table>\n",
       "</div>"
      ],
      "text/plain": [
       "  INCIDENT_NUMBER  OFFENSE_CODE    OFFENSE_CODE_GROUP   OFFENSE_DESCRIPTION  \\\n",
       "0      I182070945           619               Larceny    LARCENY ALL OTHERS   \n",
       "1      I182070943          1402             Vandalism             VANDALISM   \n",
       "2      I182070941          3410                 Towed   TOWED MOTOR VEHICLE   \n",
       "3      I182070940          3114  Investigate Property  INVESTIGATE PROPERTY   \n",
       "4      I182070938          3114  Investigate Property  INVESTIGATE PROPERTY   \n",
       "\n",
       "  DISTRICT REPORTING_AREA SHOOTING     OCCURRED_ON_DATE  YEAR  MONTH  \\\n",
       "0      D14            808      NaN  2018-09-02 13:00:00  2018      9   \n",
       "1      C11            347      NaN  2018-08-21 00:00:00  2018      8   \n",
       "2       D4            151      NaN  2018-09-03 19:27:00  2018      9   \n",
       "3       D4            272      NaN  2018-09-03 21:16:00  2018      9   \n",
       "4       B3            421      NaN  2018-09-03 21:05:00  2018      9   \n",
       "\n",
       "  DAY_OF_WEEK  HOUR    UCR_PART       STREET        Lat       Long  \\\n",
       "0      Sunday    13    Part One   LINCOLN ST  42.357791 -71.139371   \n",
       "1     Tuesday     0    Part Two     HECLA ST  42.306821 -71.060300   \n",
       "2      Monday    19  Part Three  CAZENOVE ST  42.346589 -71.072429   \n",
       "3      Monday    21  Part Three   NEWCOMB ST  42.334182 -71.078664   \n",
       "4      Monday    21  Part Three     DELHI ST  42.275365 -71.090361   \n",
       "\n",
       "                      Location  \n",
       "0  (42.35779134, -71.13937053)  \n",
       "1  (42.30682138, -71.06030035)  \n",
       "2  (42.34658879, -71.07242943)  \n",
       "3  (42.33418175, -71.07866441)  \n",
       "4  (42.27536542, -71.09036101)  "
      ]
     },
     "execution_count": 4,
     "metadata": {},
     "output_type": "execute_result"
    }
   ],
   "source": [
    "#melihat 5 baris data pertama dari DataFrame\n",
    "df.head()"
   ]
  },
  {
   "cell_type": "markdown",
   "id": "e32530cd-756b-45c8-8d2d-f32ff5133316",
   "metadata": {},
   "source": [
    "DataFrame \"crime.csv\" terdiri dari 17 kolom yang berisikan:\n",
    "1. incident_num\t= Nomor Laporan di BPD\n",
    "2. offense_code = Code Nomor dari Setiap Kejahatan\n",
    "3. Offense_Code_Group_Description = Pengelompokan dari tiap kejahatan (kategori kejahatan)\n",
    "4. Offense_Description = Penjelasan dari tiap kejahatan (kasus kejahatan)\n",
    "5. district = District tempat kejadian perkara\n",
    "6. reporting_area = Tempat pelaporan kejahatan, reporting area selalu terhubung dengan distrik tempat area perkara\n",
    "7. shooting = Penembakan di tempat.\n",
    "8. occurred_on = Tanggal dan Waktu kejadian kejahatan\n",
    "9. Year = Tahun kejadian kejahatan \n",
    "10. Month = Bulan kejadian kejahatan \n",
    "11. Day of Week = Hari kejadian kejahatan\n",
    "12. hour = Jam kejadian kejahatan \n",
    "13. UCR_Part = penggolongan bagian Kejahatan, di bagi menjadi 4 bagian(1,2, 3,other)\n",
    "14. street = Nama jalan tempat kejadian perkara\n",
    "15. lat = latitude dari tempat kejadian perkara\n",
    "16. long = longitude dari tempat kejadian perkara\n",
    "17. location = gabungan dari latitude dan longitude"
   ]
  },
  {
   "cell_type": "code",
   "execution_count": 5,
   "id": "fbb2ee41-6bc6-4409-a887-8868e88ef530",
   "metadata": {},
   "outputs": [
    {
     "data": {
      "text/plain": [
       "(319073, 17)"
      ]
     },
     "execution_count": 5,
     "metadata": {},
     "output_type": "execute_result"
    }
   ],
   "source": [
    "#melihat jumlah kolom dan baris pada DataFrame\n",
    "df.shape"
   ]
  },
  {
   "cell_type": "code",
   "execution_count": 6,
   "id": "47caf5aa-a5bf-4330-ad3e-65dcb36baab2",
   "metadata": {},
   "outputs": [
    {
     "name": "stdout",
     "output_type": "stream",
     "text": [
      "<class 'pandas.core.frame.DataFrame'>\n",
      "RangeIndex: 319073 entries, 0 to 319072\n",
      "Data columns (total 17 columns):\n",
      " #   Column               Non-Null Count   Dtype  \n",
      "---  ------               --------------   -----  \n",
      " 0   INCIDENT_NUMBER      319073 non-null  object \n",
      " 1   OFFENSE_CODE         319073 non-null  int64  \n",
      " 2   OFFENSE_CODE_GROUP   319073 non-null  object \n",
      " 3   OFFENSE_DESCRIPTION  319073 non-null  object \n",
      " 4   DISTRICT             317308 non-null  object \n",
      " 5   REPORTING_AREA       319073 non-null  object \n",
      " 6   SHOOTING             1019 non-null    object \n",
      " 7   OCCURRED_ON_DATE     319073 non-null  object \n",
      " 8   YEAR                 319073 non-null  int64  \n",
      " 9   MONTH                319073 non-null  int64  \n",
      " 10  DAY_OF_WEEK          319073 non-null  object \n",
      " 11  HOUR                 319073 non-null  int64  \n",
      " 12  UCR_PART             318983 non-null  object \n",
      " 13  STREET               308202 non-null  object \n",
      " 14  Lat                  299074 non-null  float64\n",
      " 15  Long                 299074 non-null  float64\n",
      " 16  Location             319073 non-null  object \n",
      "dtypes: float64(2), int64(4), object(11)\n",
      "memory usage: 41.4+ MB\n"
     ]
    }
   ],
   "source": [
    "# melihat sekilas info kolom DataFrame\n",
    "df.info()"
   ]
  },
  {
   "cell_type": "markdown",
   "id": "5e4f91ec-4e4f-4108-96a2-6d2999f5d7b8",
   "metadata": {},
   "source": [
    "## 2.1 Mengecek Data Unique Ditiap Kolom"
   ]
  },
  {
   "cell_type": "code",
   "execution_count": 7,
   "id": "ce813ef1-0058-4ee1-b790-29b32d4ecc3d",
   "metadata": {},
   "outputs": [
    {
     "data": {
      "text/html": [
       "<div>\n",
       "<style scoped>\n",
       "    .dataframe tbody tr th:only-of-type {\n",
       "        vertical-align: middle;\n",
       "    }\n",
       "\n",
       "    .dataframe tbody tr th {\n",
       "        vertical-align: top;\n",
       "    }\n",
       "\n",
       "    .dataframe thead th {\n",
       "        text-align: right;\n",
       "    }\n",
       "</style>\n",
       "<table border=\"1\" class=\"dataframe\">\n",
       "  <thead>\n",
       "    <tr style=\"text-align: right;\">\n",
       "      <th></th>\n",
       "      <th>Nama Kolum</th>\n",
       "      <th>Jumlah Data Unique</th>\n",
       "      <th>Unique Sample</th>\n",
       "    </tr>\n",
       "  </thead>\n",
       "  <tbody>\n",
       "    <tr>\n",
       "      <th>0</th>\n",
       "      <td>INCIDENT_NUMBER</td>\n",
       "      <td>282517</td>\n",
       "      <td>[142052550, I010370257-00, I030217815-08, I050310906-00, I060168073-00, I080542626-00, I090317057-00, I090321958-00, I100033064-00, I100222105-02, I100340225-00, I100636670-00, I110177502-00, I110261417-00, I110372326-00, I110551302-00, I110611058-00, I110694557-00, I120069826-00, I120189428-00, I120201612-00, I120260724-01, I120283195-00, I120470733-00, I120595668-00, I120719309-00, I120720047-00, I130007264-01, I130031413-00, I130041200-00, I130084703-00, I130126035-00, I130194606-00, I130202615-00, I130204032-00, I130304171-00, I130325877-00, I130371627-00, I130452692-00, I130513834-00, I130559249-00, I130626822-00, I130634867-00, I130731947-00, I130739503-00, I130769339-00, I130789976-00, I140036361-00, I140039570-00, I140041532-00, I140042060-00, I140056633-00, I140110321-00, I140148421-00, I140160427-01, I140173500-00, I140188130-00, I140254285-00, I140295154-00, I140300475-02, I140311903-00, I140319608-00, I140346143-00, I140356025-00, I140372066-00, I142002101-00, I142004681-00, I142010194-00, I142013220-00, I142014620-00, I142016089-00, I142017108-00, I142020701-00, I142020933-00, I142022633-00, I142023661-00, I142024796-00, I142025834-00, I142025900-00, I142029747-00, I142032469-00, I142033071-00, I142033219-00, I142034820-00, I142035471-00, I142036405-00, I142039468-00, I142041046-00, I142041685-01, I142042232-00, I142044610-00, I142045442-00, I142045856-00, I142045979-00, I142048539-00, I142049917-00, I142050174-00, I142050207-00, I142051855-00, I142052022-00, ...]</td>\n",
       "    </tr>\n",
       "    <tr>\n",
       "      <th>1</th>\n",
       "      <td>OFFENSE_CODE</td>\n",
       "      <td>222</td>\n",
       "      <td>[111, 112, 121, 123, 301, 311, 315, 334, 335, 338, 339, 349, 351, 361, 371, 381, 402, 403, 404, 413, 423, 432, 511, 520, 521, 522, 527, 530, 540, 541, 542, 547, 560, 561, 562, 611, 612, 613, 614, 615, 616, 617, 618, 619, 623, 624, 627, 629, 633, 634, 637, 639, 670, 706, 714, 724, 727, 735, 770, 801, 802, 803, 804, 900, 1001, 1002, 1102, 1105, 1106, 1107, 1108, 1109, 1201, 1300, 1302, 1304, 1402, 1415, 1501, 1502, 1503, 1504, 1510, 1601, 1602, 1603, 1605, 1610, 1620, 1805, 1806, 1807, 1810, 1815, 1825, 1830, 1831, 1832, 1841, 1842, ...]</td>\n",
       "    </tr>\n",
       "    <tr>\n",
       "      <th>2</th>\n",
       "      <td>OFFENSE_CODE_GROUP</td>\n",
       "      <td>67</td>\n",
       "      <td>[Aggravated Assault, Aircraft, Arson, Assembly or Gathering Violations, Auto Theft, Auto Theft Recovery, Ballistics, Biological Threat, Bomb Hoax, Burglary - No Property Taken, Commercial Burglary, Confidence Games, Counterfeiting, Criminal Harassment, Disorderly Conduct, Drug Violation, Embezzlement, Evading Fare, Explosives, Fire Related Reports, Firearm Discovery, Firearm Violations, Fraud, Gambling, HOME INVASION, HUMAN TRAFFICKING, HUMAN TRAFFICKING - INVOLUNTARY SERVITUDE, Harassment, Harbor Related Incidents, Homicide, INVESTIGATE PERSON, Investigate Person, Investigate Property, Landlord/Tenant Disputes, Larceny, Larceny From Motor Vehicle, License Plate Related Incidents, License Violation, Liquor Violation, Manslaughter, Medical Assistance, Missing Person Located, Missing Person Reported, Motor Vehicle Accident Response, Offenses Against Child / Family, Operating Under the Influence, Other, Other Burglary, Phone Call Complaints, Police Service Incidents, Prisoner Related Incidents, Property Found, Property Lost, Property Related Damage, Prostitution, Recovered Stolen Property, Residential Burglary, Restraining Order Violations, Robbery, Search Warrants, Service, Simple Assault, Towed, Vandalism, Verbal Disputes, Violations, Warrant Arrests]</td>\n",
       "    </tr>\n",
       "    <tr>\n",
       "      <th>3</th>\n",
       "      <td>OFFENSE_DESCRIPTION</td>\n",
       "      <td>244</td>\n",
       "      <td>[A&amp;B HANDS, FEET, ETC.  - MED. ATTENTION REQ., A&amp;B ON POLICE OFFICER, ABDUCTION - INTICING, AFFRAY, AIRCRAFT INCIDENTS, ANIMAL ABUSE, ANIMAL CONTROL - DOG BITES - ETC., ANIMAL INCIDENTS, ANNOYING AND ACCOSTIN, ANNOYING AND ACCOSTING, ARSON, ASSAULT &amp; BATTERY, ASSAULT &amp; BATTERY D/W - KNIFE, ASSAULT &amp; BATTERY D/W - OTHER, ASSAULT &amp; BATTERY D/W - OTHER ON POLICE OFFICER, ASSAULT - AGGRAVATED, ASSAULT - AGGRAVATED - BATTERY, ASSAULT - SIMPLE, ASSAULT D/W - KNIFE ON POLICE OFFICER, ASSAULT D/W - OTHER, ASSAULT SIMPLE - BATTERY, AUTO THEFT, AUTO THEFT - LEASED/RENTED VEHICLE, AUTO THEFT - MOTORCYCLE / SCOOTER, AUTO THEFT - OUTSIDE - RECOVERED IN BOSTON, AUTO THEFT - RECOVERED IN BY POLICE, AUTO THEFT LEASE/RENT VEHICLE, AUTO THEFT OTHER, B&amp;E NON-RESIDENCE DAY - FORCIBLE, B&amp;E NON-RESIDENCE DAY - NO FORCE, B&amp;E NON-RESIDENCE DAY - NO PROP TAKEN, B&amp;E NON-RESIDENCE NIGHT - FORCE, B&amp;E RESIDENCE DAY - NO FORCE, B&amp;E RESIDENCE DAY - NO PROP TAKEN, B&amp;E RESIDENCE NIGHT - ATTEMPT FORCE, BALLISTICS EVIDENCE/FOUND, BIOLOGICAL THREATS, BOMB THREAT, BURGLARY - COMMERICAL - ATTEMPT, BURGLARY - COMMERICAL - FORCE, BURGLARY - COMMERICAL - NO FORCE, BURGLARY - OTHER - ATTEMPT, BURGLARY - OTHER - FORCE, BURGLARY - OTHER - NO FORCE, BURGLARY - RESIDENTIAL - ATTEMPT, BURGLARY - RESIDENTIAL - FORCE, BURGLARY - RESIDENTIAL - NO FORCE, CHILD ABANDONMENT (NO ASSAULT), CHILD ABUSE, CHILD ENDANGERMENT, CHILD ENDANGERMENT (NO ASSAULT), CHINS, CONSPIRACY EXCEPT DRUG LAW, CONTRIBUTING TO DELINQUENCY OF MINOR, COUNTERFEITING, CRIMINAL HARASSMENT, CUSTODIAL KIDNAPPING, DANGEROUS OR HAZARDOUS CONDITION, DEATH INVESTIGATION, DEMONSTRATIONS/RIOT, DISORDERLY CONDUCT, DISORDERLY PERSON, DISTURBING THE PEACE, DRUGS - CLASS A TRAFFICKING OVER 18 GRAMS, DRUGS - CLASS B TRAFFICKING OVER 18 GRAMS, DRUGS - CLASS D TRAFFICKING OVER 50 GRAMS, DRUGS - CONSP TO VIOL CONTROLLED SUBSTANCE, DRUGS - GLUE INHALATION, DRUGS - OTHER, DRUGS - POSS CLASS A - HEROIN, ETC., DRUGS - POSS CLASS A - HEROIN, ETC. , DRUGS - POSS CLASS A - INTENT TO MFR DIST DISP, DRUGS - POSS CLASS B - COCAINE, ETC., DRUGS - POSS CLASS B - INTENT TO MFR DIST DISP, DRUGS - POSS CLASS C, DRUGS - POSS CLASS C - INTENT TO MFR DIST DISP, DRUGS - POSS CLASS D, DRUGS - POSS CLASS D - INTENT MFR DIST DISP, DRUGS - POSS CLASS D - INTENT TO MFR DIST DISP, DRUGS - POSS CLASS D - MARIJUANA, ETC., DRUGS - POSS CLASS E, DRUGS - POSS CLASS E - INTENT TO MFR DIST DISP, DRUGS - POSS CLASS E INTENT TO MF DIST DISP, DRUGS - POSSESSION, DRUGS - POSSESSION OF DRUG PARAPHANALIA, DRUGS - SALE / MANUFACTURING, DRUGS - SICK ASSIST - HEROIN, DRUGS - SICK ASSIST - OTHER HARMFUL DRUG, DRUGS - SICK ASSIST - OTHER NARCOTIC, EMBEZZLEMENT, EVADING FARE, EXPLOSIVES - POSSESSION OR USE, EXPLOSIVES - TURNED IN OR FOUND, EXTORTION OR BLACKMAIL, FIRE REPORT - CAR, BRUSH, ETC., FIRE REPORT - HOUSE, BUILDING, ETC., FIRE REPORT/ALARM - FALSE, FIREARM/WEAPON - ACCIDENTAL INJURY / DEATH, FIREARM/WEAPON - CARRY - SELL - RENT, FIREARM/WEAPON - FOUND OR CONFISCATED, ...]</td>\n",
       "    </tr>\n",
       "    <tr>\n",
       "      <th>4</th>\n",
       "      <td>DISTRICT</td>\n",
       "      <td>12</td>\n",
       "      <td>[A1, A15, A7, B2, B3, C11, C6, D14, D4, E13, E18, E5, nan]</td>\n",
       "    </tr>\n",
       "    <tr>\n",
       "      <th>5</th>\n",
       "      <td>REPORTING_AREA</td>\n",
       "      <td>879</td>\n",
       "      <td>[ , 000, 1, 10, 100, 101, 102, 103, 104, 105, 106, 107, 108, 109, 11, 110, 111, 112, 113, 114, 115, 116, 117, 118, 119, 12, 120, 121, 122, 123, 124, 125, 126, 127, 128, 129, 13, 130, 131, 132, 133, 134, 135, 136, 137, 138, 139, 14, 140, 141, 142, 143, 144, 145, 146, 147, 148, 149, 15, 150, 151, 152, 153, 154, 155, 156, 157, 158, 159, 16, 160, 161, 162, 163, 164, 165, 166, 167, 168, 169, 17, 170, 171, 172, 173, 174, 175, 176, 177, 178, 179, 18, 180, 181, 182, 183, 184, 185, 186, 187, ...]</td>\n",
       "    </tr>\n",
       "    <tr>\n",
       "      <th>6</th>\n",
       "      <td>SHOOTING</td>\n",
       "      <td>1</td>\n",
       "      <td>[Y, nan]</td>\n",
       "    </tr>\n",
       "    <tr>\n",
       "      <th>7</th>\n",
       "      <td>OCCURRED_ON_DATE</td>\n",
       "      <td>233229</td>\n",
       "      <td>[2015-06-15 00:00:00, 2015-06-15 00:01:00, 2015-06-15 00:03:00, 2015-06-15 00:45:00, 2015-06-15 01:02:00, 2015-06-15 01:07:00, 2015-06-15 01:15:00, 2015-06-15 01:24:00, 2015-06-15 01:30:00, 2015-06-15 01:40:00, 2015-06-15 01:53:00, 2015-06-15 01:55:00, 2015-06-15 02:00:00, 2015-06-15 02:11:00, 2015-06-15 02:12:00, 2015-06-15 02:45:00, 2015-06-15 02:47:00, 2015-06-15 03:00:00, 2015-06-15 03:22:00, 2015-06-15 04:48:00, 2015-06-15 05:26:00, 2015-06-15 06:05:00, 2015-06-15 06:53:00, 2015-06-15 07:00:00, 2015-06-15 07:10:00, 2015-06-15 07:17:00, 2015-06-15 07:30:00, 2015-06-15 07:31:00, 2015-06-15 07:34:00, 2015-06-15 07:45:00, 2015-06-15 08:00:00, 2015-06-15 08:10:00, 2015-06-15 08:13:00, 2015-06-15 08:15:00, 2015-06-15 08:20:00, 2015-06-15 08:30:00, 2015-06-15 08:33:00, 2015-06-15 08:54:00, 2015-06-15 09:00:00, 2015-06-15 09:01:00, 2015-06-15 09:05:00, 2015-06-15 09:10:00, 2015-06-15 09:19:00, 2015-06-15 09:23:00, 2015-06-15 09:28:00, 2015-06-15 09:39:00, 2015-06-15 09:40:00, 2015-06-15 09:56:00, 2015-06-15 10:00:00, 2015-06-15 10:11:00, 2015-06-15 10:19:00, 2015-06-15 10:21:00, 2015-06-15 10:26:00, 2015-06-15 10:30:00, 2015-06-15 10:40:00, 2015-06-15 10:45:00, 2015-06-15 11:00:00, 2015-06-15 11:02:00, 2015-06-15 11:09:00, 2015-06-15 11:10:00, 2015-06-15 11:30:00, 2015-06-15 11:45:00, 2015-06-15 11:51:59, 2015-06-15 11:55:00, 2015-06-15 12:00:00, 2015-06-15 12:03:00, 2015-06-15 12:04:00, 2015-06-15 12:10:00, 2015-06-15 12:15:00, 2015-06-15 12:35:00, 2015-06-15 12:36:00, 2015-06-15 12:42:00, 2015-06-15 12:43:00, 2015-06-15 12:45:00, 2015-06-15 13:00:00, 2015-06-15 13:02:00, 2015-06-15 13:23:00, 2015-06-15 13:27:00, 2015-06-15 13:28:00, 2015-06-15 13:30:00, 2015-06-15 13:34:00, 2015-06-15 13:40:00, 2015-06-15 13:42:00, 2015-06-15 13:45:00, 2015-06-15 13:46:00, 2015-06-15 13:47:00, 2015-06-15 13:51:00, 2015-06-15 13:58:00, 2015-06-15 14:00:00, 2015-06-15 14:05:00, 2015-06-15 14:20:00, 2015-06-15 14:40:00, 2015-06-15 14:42:00, 2015-06-15 14:45:00, 2015-06-15 14:55:00, 2015-06-15 15:00:00, 2015-06-15 15:15:00, 2015-06-15 15:18:00, 2015-06-15 15:30:00, 2015-06-15 15:45:00, ...]</td>\n",
       "    </tr>\n",
       "    <tr>\n",
       "      <th>8</th>\n",
       "      <td>YEAR</td>\n",
       "      <td>4</td>\n",
       "      <td>[2015, 2016, 2017, 2018]</td>\n",
       "    </tr>\n",
       "    <tr>\n",
       "      <th>9</th>\n",
       "      <td>MONTH</td>\n",
       "      <td>12</td>\n",
       "      <td>[1, 2, 3, 4, 5, 6, 7, 8, 9, 10, 11, 12]</td>\n",
       "    </tr>\n",
       "    <tr>\n",
       "      <th>10</th>\n",
       "      <td>DAY_OF_WEEK</td>\n",
       "      <td>7</td>\n",
       "      <td>[Friday, Monday, Saturday, Sunday, Thursday, Tuesday, Wednesday]</td>\n",
       "    </tr>\n",
       "    <tr>\n",
       "      <th>11</th>\n",
       "      <td>HOUR</td>\n",
       "      <td>24</td>\n",
       "      <td>[0, 1, 2, 3, 4, 5, 6, 7, 8, 9, 10, 11, 12, 13, 14, 15, 16, 17, 18, 19, 20, 21, 22, 23]</td>\n",
       "    </tr>\n",
       "    <tr>\n",
       "      <th>12</th>\n",
       "      <td>UCR_PART</td>\n",
       "      <td>4</td>\n",
       "      <td>[Other, Part One, Part Three, Part Two, nan]</td>\n",
       "    </tr>\n",
       "    <tr>\n",
       "      <th>13</th>\n",
       "      <td>STREET</td>\n",
       "      <td>4657</td>\n",
       "      <td>[ ALBANY ST ,  BLUE HILL AVE ,  COLUMBUS AVE ,  COMMONWEALTH AVE ,  MASSACHUSETTS AVE , 0 BURRELL, 0 MASS AVE, 00 CENTRE ST, 00 MASS AVE, 00 OLD COLONY AVE, 12 BREED ST, 12 BROOKVIEW ST, 12 WOODWARD PARK ST, 13 DIXWELL ST, 1307 COMMONWEALTH AVE, 132 BROOK AVE, 139 BOWER ST, 14 HALF MOON ST, 1463 BLUE HILL AVE, 15 1, 150 1, 186 HEATH ST, 1915 RIVER ST, 1ST &amp; O, 20 BISHOP JOE L SMITH WAY, 246 PARKER HILL AVE, 29 HARLOW ST, 4 NORTH SQ, 42 LAWRENCE AVE, 475 GENEVA AVE, 4TH, 5 BEACON ST, 5 BREMEN ST, 5 CONDOR ST, 5 REVERE ST, 50 FOODMART RD, 54, 55 FAYWOOD AVE, 555 AMORY ST, 6 AVE SE, 61 HILLSIDE ST, 774 E THIRD ST, 8 NEWBURG ST, 9 AVE, 93 S, 97 HUTCHINGS ST, 98 WOODLEDGE ST, A ST, ABBOT ST, ABBOT ST 3, ABBOT ST BSTN, ABBOTSFORD ST, ABBY RD, ABERDEEN ST, ACADEMY CT, ACADEMY HILL RD, ACADEMY RD, ACADEMY TER, ACADIA ST, ACCOLON WAY, ACHORN CIR, ACKLEY PL, ACORN ST, ADA, ADA ST, ADAIR RD, ADAMS S, ADAMS ST, ADAMS TER, ADAMS TERRACE WAY, ADAMSON ST, ADANAC TER, ADDELAIDE PL, ADDINGTON RD, ADDISON ST, ADELAIDE ST, ADELAIDE TER, ADELLA PL, ADRIAN ST, AGANNIS ARENA, AGASSIZ RD, AGAWAM ST, AGGANIS ARENA, AGNES AVE, AGUADILLA ST, AINSLEY ST, AINSWORTH ST, AIRPORT RD, AKRON PL, AKRON ST, AL ZWIERCAN WAY, ALABAMA ST, ALAMEDA RD, ALARIC ST, ALARIC TER, ALASKA ST, ALASKA STRET, ALBAN ST, ALBANO ST, ALBANY, ...]</td>\n",
       "    </tr>\n",
       "    <tr>\n",
       "      <th>14</th>\n",
       "      <td>Lat</td>\n",
       "      <td>18178</td>\n",
       "      <td>[-1.0, 42.2324133, 42.23265556, 42.23287025, 42.23290729, 42.2330858, 42.23312147, 42.23315741, 42.23334151, 42.23337226, 42.23346994, 42.23357448, 42.23358147, 42.23362594, 42.23371303, 42.23375394, 42.23382322, 42.23396095, 42.23405146, 42.23421715, 42.23429066, 42.23430215, 42.23452842, 42.2345432, 42.23455259, 42.23477776, 42.23480079, 42.23483513, 42.23490232, 42.23496335, 42.23504691, 42.23519372, 42.23520062, 42.23541409, 42.23546565, 42.23550153, 42.23552076, 42.23567221, 42.2357641, 42.23578713, 42.23582689, 42.23583053, 42.23591132, 42.23603929, 42.23604809, 42.23617932, 42.23628029, 42.23631051, 42.23638294, 42.23640083, 42.23649723, 42.23651386, 42.23651388, 42.23661152, 42.23666732, 42.23674093, 42.2368647, 42.2370095, 42.23707712, 42.2372097, 42.23722567, 42.23727444, 42.23730137, 42.23739303, 42.23755192, 42.2376579, 42.23771856, 42.23796336, 42.23797683, 42.23798912, 42.23812523, 42.23842358, 42.23850959, 42.23856857, 42.23861212, 42.23868787, 42.23880605, 42.23881016, 42.23892422, 42.2391354, 42.23915557, 42.23924089, 42.23935616, 42.23949178, 42.23951493, 42.23967781, 42.23982523, 42.23997571, 42.24003544, 42.24004714, 42.24005118, 42.24022026, 42.24025009, 42.24042076, 42.24042362, 42.24049963, 42.24052845, 42.24060494, 42.24071718, 42.24076725, ...]</td>\n",
       "    </tr>\n",
       "    <tr>\n",
       "      <th>15</th>\n",
       "      <td>Long</td>\n",
       "      <td>18178</td>\n",
       "      <td>[-71.17867378, -71.17745696, -71.17680515, -71.17563839, -71.17519031, -71.17469203, -71.17444066, -71.17441429, -71.17430816, -71.17423701, -71.17409904, -71.17402201, -71.17377805, -71.1737388, -71.17371844, -71.17354863, -71.17352578, -71.1733972, -71.17336028, -71.17307606, -71.17306177, -71.1729465, -71.17291563, -71.17274868, -71.17267965, -71.17261237, -71.17259777, -71.17249239, -71.17244016, -71.17231993, -71.17225873, -71.17222257, -71.17218093, -71.17217123, -71.17214447, -71.17213583, -71.17208952, -71.17208826, -71.17204938, -71.17201882, -71.17201532, -71.17200676, -71.1719647, -71.17195887, -71.17187576, -71.17186766, -71.17183457, -71.17183138, -71.1717622, -71.17174469, -71.17172573, -71.17166432, -71.17160765, -71.17159664, -71.17158836, -71.1715847, -71.17152831, -71.17150139, -71.17147165, -71.17143892, -71.17137818, -71.17135386, -71.17133937, -71.17132051, -71.17131805, -71.17129736, -71.17121865, -71.171183, -71.17117596, -71.17110585, -71.17109777, -71.1710665, -71.17105151, -71.17101442, -71.17098197, -71.17091524, -71.17091152, -71.17089633, -71.17089312, -71.17087959, -71.17087708, -71.17085962, -71.17085098, -71.17077278, -71.17067357, -71.17066429, -71.17066178, -71.17062376, -71.17059169, -71.17058928, -71.17055526, -71.17054045, -71.17053018, -71.17045603, -71.17044853, -71.17039784, -71.1703941, -71.17036373, -71.17034661, -71.17028987, ...]</td>\n",
       "    </tr>\n",
       "    <tr>\n",
       "      <th>16</th>\n",
       "      <td>Location</td>\n",
       "      <td>18194</td>\n",
       "      <td>[(-1.00000000, -1.00000000), (0.00000000, 0.00000000), (42.23241330, -71.12971531), (42.23265556, -71.13069992), (42.23287025, -71.13004959), (42.23290729, -71.13167059), (42.23308580, -71.12815697), (42.23312147, -71.13102697), (42.23315741, -71.13265354), (42.23334151, -71.13368781), (42.23337226, -71.13200359), (42.23346994, -71.13862962), (42.23357448, -71.12917748), (42.23358147, -71.13453781), (42.23362594, -71.13299328), (42.23371303, -71.13129839), (42.23375394, -71.13349324), (42.23382322, -71.13015658), (42.23396095, -71.13228408), (42.23405146, -71.13882916), (42.23421715, -71.13327736), (42.23429066, -71.12834199), (42.23430215, -71.13158084), (42.23452842, -71.12928352), (42.23454320, -71.13091490), (42.23455259, -71.13256874), (42.23477776, -71.13025716), (42.23480079, -71.13396522), (42.23483513, -71.12773597), (42.23490232, -71.13791008), (42.23496335, -71.12962264), (42.23504691, -71.13289238), (42.23519372, -71.12799499), (42.23520062, -71.12916993), (42.23541409, -71.13272569), (42.23546565, -71.13728527), (42.23550153, -71.12551848), (42.23552076, -71.13315135), (42.23567221, -71.12597459), (42.23576410, -71.12623564), (42.23578713, -71.13034026), (42.23582689, -71.13686223), (42.23583053, -71.12921886), (42.23591132, -71.12710162), (42.23603929, -71.12718154), (42.23604809, -71.13131300), (42.23617932, -71.12812972), (42.23628029, -71.12859233), (42.23631051, -71.13231083), (42.23638294, -71.12895989), (42.23640083, -71.13625139), (42.23649723, -71.12935123), (42.23651386, -71.12503429), (42.23651388, -71.13317161), (42.23661152, -71.12974258), (42.23666732, -71.12993363), (42.23674093, -71.13019536), (42.23686470, -71.12859139), (42.23700950, -71.12956606), (42.23707712, -71.13141342), (42.23720970, -71.13190786), (42.23722567, -71.13190217), (42.23727444, -71.12624263), (42.23730137, -71.13232346), (42.23739303, -71.13273907), (42.23755192, -71.13034635), (42.23765790, -71.13829126), (42.23771856, -71.13231767), (42.23796336, -71.13154728), (42.23797683, -71.13000944), (42.23798912, -71.13535351), (42.23812523, -71.13528115), (42.23842358, -71.13512185), (42.23850959, -71.13277923), (42.23856857, -71.13576271), (42.23861212, -71.13691336), (42.23868787, -71.13487885), (42.23880605, -71.13536644), (42.23881016, -71.13450429), (42.23892422, -71.13585403), (42.23913540, -71.13397939), (42.23915557, -71.13855577), (42.23924089, -71.13210757), (42.23935616, -71.13258084), (42.23949178, -71.13595442), (42.23951493, -71.13964409), (42.23967781, -71.13379687), (42.23982523, -71.14058530), (42.23997571, -71.13895907), (42.24003544, -71.12539334), (42.24004714, -71.14126069), (42.24005118, -71.13578825), (42.24022026, -71.13656386), (42.24025009, -71.13566985), (42.24042076, -71.12465619), (42.24042362, -71.13742760), (42.24049963, -71.14262002), (42.24052845, -71.13550853), (42.24060494, -71.14142437), (42.24071718, -71.13935624), ...]</td>\n",
       "    </tr>\n",
       "  </tbody>\n",
       "</table>\n",
       "</div>"
      ],
      "text/plain": [
       "             Nama Kolum  Jumlah Data Unique  \\\n",
       "0       INCIDENT_NUMBER              282517   \n",
       "1          OFFENSE_CODE                 222   \n",
       "2    OFFENSE_CODE_GROUP                  67   \n",
       "3   OFFENSE_DESCRIPTION                 244   \n",
       "4              DISTRICT                  12   \n",
       "5        REPORTING_AREA                 879   \n",
       "6              SHOOTING                   1   \n",
       "7      OCCURRED_ON_DATE              233229   \n",
       "8                  YEAR                   4   \n",
       "9                 MONTH                  12   \n",
       "10          DAY_OF_WEEK                   7   \n",
       "11                 HOUR                  24   \n",
       "12             UCR_PART                   4   \n",
       "13               STREET                4657   \n",
       "14                  Lat               18178   \n",
       "15                 Long               18178   \n",
       "16             Location               18194   \n",
       "\n",
       "                                                                                                                                                                                                                                                                                                                                                                                                                                                                                                                                                                                                                                                                                                                                                                                                                                                                                                                                                                                                                                                                                                                                                                                                                                                                                                                                                                                                                                                                                                                                                                                                                                                                                                                                                                                                                                                                                                                                                                                                                                                                                                                                                                                                                                                                                                                                                                                                                                                                                                                                                                                                                                                                                                                                                                                                                                                                                                                                                                                                                                                                                                         Unique Sample  \n",
       "0                                                                                                                                                                                                                                                                                                                                                                                                                                                                                                                                                                                                                                                                                                                                                                                                                                                                                                                                                                                                                                                                                                                                                                                                                                                                                                                                                                                                                                                                                                                                                        [142052550, I010370257-00, I030217815-08, I050310906-00, I060168073-00, I080542626-00, I090317057-00, I090321958-00, I100033064-00, I100222105-02, I100340225-00, I100636670-00, I110177502-00, I110261417-00, I110372326-00, I110551302-00, I110611058-00, I110694557-00, I120069826-00, I120189428-00, I120201612-00, I120260724-01, I120283195-00, I120470733-00, I120595668-00, I120719309-00, I120720047-00, I130007264-01, I130031413-00, I130041200-00, I130084703-00, I130126035-00, I130194606-00, I130202615-00, I130204032-00, I130304171-00, I130325877-00, I130371627-00, I130452692-00, I130513834-00, I130559249-00, I130626822-00, I130634867-00, I130731947-00, I130739503-00, I130769339-00, I130789976-00, I140036361-00, I140039570-00, I140041532-00, I140042060-00, I140056633-00, I140110321-00, I140148421-00, I140160427-01, I140173500-00, I140188130-00, I140254285-00, I140295154-00, I140300475-02, I140311903-00, I140319608-00, I140346143-00, I140356025-00, I140372066-00, I142002101-00, I142004681-00, I142010194-00, I142013220-00, I142014620-00, I142016089-00, I142017108-00, I142020701-00, I142020933-00, I142022633-00, I142023661-00, I142024796-00, I142025834-00, I142025900-00, I142029747-00, I142032469-00, I142033071-00, I142033219-00, I142034820-00, I142035471-00, I142036405-00, I142039468-00, I142041046-00, I142041685-01, I142042232-00, I142044610-00, I142045442-00, I142045856-00, I142045979-00, I142048539-00, I142049917-00, I142050174-00, I142050207-00, I142051855-00, I142052022-00, ...]  \n",
       "1                                                                                                                                                                                                                                                                                                                                                                                                                                                                                                                                                                                                                                                                                                                                                                                                                                                                                                                                                                                                                                                                                                                                                                                                                                                                                                                                                                                                                                                                                                                                                                                                                                                                                                                                                                                                                                                                                                                                                                                                                                                                                                                                                                                                                                                                                                                                                                                                                                                                                                                                                        [111, 112, 121, 123, 301, 311, 315, 334, 335, 338, 339, 349, 351, 361, 371, 381, 402, 403, 404, 413, 423, 432, 511, 520, 521, 522, 527, 530, 540, 541, 542, 547, 560, 561, 562, 611, 612, 613, 614, 615, 616, 617, 618, 619, 623, 624, 627, 629, 633, 634, 637, 639, 670, 706, 714, 724, 727, 735, 770, 801, 802, 803, 804, 900, 1001, 1002, 1102, 1105, 1106, 1107, 1108, 1109, 1201, 1300, 1302, 1304, 1402, 1415, 1501, 1502, 1503, 1504, 1510, 1601, 1602, 1603, 1605, 1610, 1620, 1805, 1806, 1807, 1810, 1815, 1825, 1830, 1831, 1832, 1841, 1842, ...]  \n",
       "2                                                                                                                                                                                                                                                                                                                                                                                                                                                                                                                                                                                                                                                                                                                                                                                                                                                                                                                                                                                                                                                                                                                                                                                                                                                                                                                                                                                                                                                                                                                                                                                                                                                                                                                                                                                               [Aggravated Assault, Aircraft, Arson, Assembly or Gathering Violations, Auto Theft, Auto Theft Recovery, Ballistics, Biological Threat, Bomb Hoax, Burglary - No Property Taken, Commercial Burglary, Confidence Games, Counterfeiting, Criminal Harassment, Disorderly Conduct, Drug Violation, Embezzlement, Evading Fare, Explosives, Fire Related Reports, Firearm Discovery, Firearm Violations, Fraud, Gambling, HOME INVASION, HUMAN TRAFFICKING, HUMAN TRAFFICKING - INVOLUNTARY SERVITUDE, Harassment, Harbor Related Incidents, Homicide, INVESTIGATE PERSON, Investigate Person, Investigate Property, Landlord/Tenant Disputes, Larceny, Larceny From Motor Vehicle, License Plate Related Incidents, License Violation, Liquor Violation, Manslaughter, Medical Assistance, Missing Person Located, Missing Person Reported, Motor Vehicle Accident Response, Offenses Against Child / Family, Operating Under the Influence, Other, Other Burglary, Phone Call Complaints, Police Service Incidents, Prisoner Related Incidents, Property Found, Property Lost, Property Related Damage, Prostitution, Recovered Stolen Property, Residential Burglary, Restraining Order Violations, Robbery, Search Warrants, Service, Simple Assault, Towed, Vandalism, Verbal Disputes, Violations, Warrant Arrests]  \n",
       "3   [A&B HANDS, FEET, ETC.  - MED. ATTENTION REQ., A&B ON POLICE OFFICER, ABDUCTION - INTICING, AFFRAY, AIRCRAFT INCIDENTS, ANIMAL ABUSE, ANIMAL CONTROL - DOG BITES - ETC., ANIMAL INCIDENTS, ANNOYING AND ACCOSTIN, ANNOYING AND ACCOSTING, ARSON, ASSAULT & BATTERY, ASSAULT & BATTERY D/W - KNIFE, ASSAULT & BATTERY D/W - OTHER, ASSAULT & BATTERY D/W - OTHER ON POLICE OFFICER, ASSAULT - AGGRAVATED, ASSAULT - AGGRAVATED - BATTERY, ASSAULT - SIMPLE, ASSAULT D/W - KNIFE ON POLICE OFFICER, ASSAULT D/W - OTHER, ASSAULT SIMPLE - BATTERY, AUTO THEFT, AUTO THEFT - LEASED/RENTED VEHICLE, AUTO THEFT - MOTORCYCLE / SCOOTER, AUTO THEFT - OUTSIDE - RECOVERED IN BOSTON, AUTO THEFT - RECOVERED IN BY POLICE, AUTO THEFT LEASE/RENT VEHICLE, AUTO THEFT OTHER, B&E NON-RESIDENCE DAY - FORCIBLE, B&E NON-RESIDENCE DAY - NO FORCE, B&E NON-RESIDENCE DAY - NO PROP TAKEN, B&E NON-RESIDENCE NIGHT - FORCE, B&E RESIDENCE DAY - NO FORCE, B&E RESIDENCE DAY - NO PROP TAKEN, B&E RESIDENCE NIGHT - ATTEMPT FORCE, BALLISTICS EVIDENCE/FOUND, BIOLOGICAL THREATS, BOMB THREAT, BURGLARY - COMMERICAL - ATTEMPT, BURGLARY - COMMERICAL - FORCE, BURGLARY - COMMERICAL - NO FORCE, BURGLARY - OTHER - ATTEMPT, BURGLARY - OTHER - FORCE, BURGLARY - OTHER - NO FORCE, BURGLARY - RESIDENTIAL - ATTEMPT, BURGLARY - RESIDENTIAL - FORCE, BURGLARY - RESIDENTIAL - NO FORCE, CHILD ABANDONMENT (NO ASSAULT), CHILD ABUSE, CHILD ENDANGERMENT, CHILD ENDANGERMENT (NO ASSAULT), CHINS, CONSPIRACY EXCEPT DRUG LAW, CONTRIBUTING TO DELINQUENCY OF MINOR, COUNTERFEITING, CRIMINAL HARASSMENT, CUSTODIAL KIDNAPPING, DANGEROUS OR HAZARDOUS CONDITION, DEATH INVESTIGATION, DEMONSTRATIONS/RIOT, DISORDERLY CONDUCT, DISORDERLY PERSON, DISTURBING THE PEACE, DRUGS - CLASS A TRAFFICKING OVER 18 GRAMS, DRUGS - CLASS B TRAFFICKING OVER 18 GRAMS, DRUGS - CLASS D TRAFFICKING OVER 50 GRAMS, DRUGS - CONSP TO VIOL CONTROLLED SUBSTANCE, DRUGS - GLUE INHALATION, DRUGS - OTHER, DRUGS - POSS CLASS A - HEROIN, ETC., DRUGS - POSS CLASS A - HEROIN, ETC. , DRUGS - POSS CLASS A - INTENT TO MFR DIST DISP, DRUGS - POSS CLASS B - COCAINE, ETC., DRUGS - POSS CLASS B - INTENT TO MFR DIST DISP, DRUGS - POSS CLASS C, DRUGS - POSS CLASS C - INTENT TO MFR DIST DISP, DRUGS - POSS CLASS D, DRUGS - POSS CLASS D - INTENT MFR DIST DISP, DRUGS - POSS CLASS D - INTENT TO MFR DIST DISP, DRUGS - POSS CLASS D - MARIJUANA, ETC., DRUGS - POSS CLASS E, DRUGS - POSS CLASS E - INTENT TO MFR DIST DISP, DRUGS - POSS CLASS E INTENT TO MF DIST DISP, DRUGS - POSSESSION, DRUGS - POSSESSION OF DRUG PARAPHANALIA, DRUGS - SALE / MANUFACTURING, DRUGS - SICK ASSIST - HEROIN, DRUGS - SICK ASSIST - OTHER HARMFUL DRUG, DRUGS - SICK ASSIST - OTHER NARCOTIC, EMBEZZLEMENT, EVADING FARE, EXPLOSIVES - POSSESSION OR USE, EXPLOSIVES - TURNED IN OR FOUND, EXTORTION OR BLACKMAIL, FIRE REPORT - CAR, BRUSH, ETC., FIRE REPORT - HOUSE, BUILDING, ETC., FIRE REPORT/ALARM - FALSE, FIREARM/WEAPON - ACCIDENTAL INJURY / DEATH, FIREARM/WEAPON - CARRY - SELL - RENT, FIREARM/WEAPON - FOUND OR CONFISCATED, ...]  \n",
       "4                                                                                                                                                                                                                                                                                                                                                                                                                                                                                                                                                                                                                                                                                                                                                                                                                                                                                                                                                                                                                                                                                                                                                                                                                                                                                                                                                                                                                                                                                                                                                                                                                                                                                                                                                                                                                                                                                                                                                                                                                                                                                                                                                                                                                                                                                                                                                                                                                                                                                                                                                                                                                                                                                                                                                                                                                                                                                                                                                                                                                                                           [A1, A15, A7, B2, B3, C11, C6, D14, D4, E13, E18, E5, nan]  \n",
       "5                                                                                                                                                                                                                                                                                                                                                                                                                                                                                                                                                                                                                                                                                                                                                                                                                                                                                                                                                                                                                                                                                                                                                                                                                                                                                                                                                                                                                                                                                                                                                                                                                                                                                                                                                                                                                                                                                                                                                                                                                                                                                                                                                                                                                                                                                                                                                                                                                                                                                                                                                                                                         [ , 000, 1, 10, 100, 101, 102, 103, 104, 105, 106, 107, 108, 109, 11, 110, 111, 112, 113, 114, 115, 116, 117, 118, 119, 12, 120, 121, 122, 123, 124, 125, 126, 127, 128, 129, 13, 130, 131, 132, 133, 134, 135, 136, 137, 138, 139, 14, 140, 141, 142, 143, 144, 145, 146, 147, 148, 149, 15, 150, 151, 152, 153, 154, 155, 156, 157, 158, 159, 16, 160, 161, 162, 163, 164, 165, 166, 167, 168, 169, 17, 170, 171, 172, 173, 174, 175, 176, 177, 178, 179, 18, 180, 181, 182, 183, 184, 185, 186, 187, ...]  \n",
       "6                                                                                                                                                                                                                                                                                                                                                                                                                                                                                                                                                                                                                                                                                                                                                                                                                                                                                                                                                                                                                                                                                                                                                                                                                                                                                                                                                                                                                                                                                                                                                                                                                                                                                                                                                                                                                                                                                                                                                                                                                                                                                                                                                                                                                                                                                                                                                                                                                                                                                                                                                                                                                                                                                                                                                                                                                                                                                                                                                                                                                                                                                                             [Y, nan]  \n",
       "7                                                                                                                                                                                                                                                                                                                                                                                                                                                                                                                                                                                                                                                                                                                                                                                                                                                                                                                            [2015-06-15 00:00:00, 2015-06-15 00:01:00, 2015-06-15 00:03:00, 2015-06-15 00:45:00, 2015-06-15 01:02:00, 2015-06-15 01:07:00, 2015-06-15 01:15:00, 2015-06-15 01:24:00, 2015-06-15 01:30:00, 2015-06-15 01:40:00, 2015-06-15 01:53:00, 2015-06-15 01:55:00, 2015-06-15 02:00:00, 2015-06-15 02:11:00, 2015-06-15 02:12:00, 2015-06-15 02:45:00, 2015-06-15 02:47:00, 2015-06-15 03:00:00, 2015-06-15 03:22:00, 2015-06-15 04:48:00, 2015-06-15 05:26:00, 2015-06-15 06:05:00, 2015-06-15 06:53:00, 2015-06-15 07:00:00, 2015-06-15 07:10:00, 2015-06-15 07:17:00, 2015-06-15 07:30:00, 2015-06-15 07:31:00, 2015-06-15 07:34:00, 2015-06-15 07:45:00, 2015-06-15 08:00:00, 2015-06-15 08:10:00, 2015-06-15 08:13:00, 2015-06-15 08:15:00, 2015-06-15 08:20:00, 2015-06-15 08:30:00, 2015-06-15 08:33:00, 2015-06-15 08:54:00, 2015-06-15 09:00:00, 2015-06-15 09:01:00, 2015-06-15 09:05:00, 2015-06-15 09:10:00, 2015-06-15 09:19:00, 2015-06-15 09:23:00, 2015-06-15 09:28:00, 2015-06-15 09:39:00, 2015-06-15 09:40:00, 2015-06-15 09:56:00, 2015-06-15 10:00:00, 2015-06-15 10:11:00, 2015-06-15 10:19:00, 2015-06-15 10:21:00, 2015-06-15 10:26:00, 2015-06-15 10:30:00, 2015-06-15 10:40:00, 2015-06-15 10:45:00, 2015-06-15 11:00:00, 2015-06-15 11:02:00, 2015-06-15 11:09:00, 2015-06-15 11:10:00, 2015-06-15 11:30:00, 2015-06-15 11:45:00, 2015-06-15 11:51:59, 2015-06-15 11:55:00, 2015-06-15 12:00:00, 2015-06-15 12:03:00, 2015-06-15 12:04:00, 2015-06-15 12:10:00, 2015-06-15 12:15:00, 2015-06-15 12:35:00, 2015-06-15 12:36:00, 2015-06-15 12:42:00, 2015-06-15 12:43:00, 2015-06-15 12:45:00, 2015-06-15 13:00:00, 2015-06-15 13:02:00, 2015-06-15 13:23:00, 2015-06-15 13:27:00, 2015-06-15 13:28:00, 2015-06-15 13:30:00, 2015-06-15 13:34:00, 2015-06-15 13:40:00, 2015-06-15 13:42:00, 2015-06-15 13:45:00, 2015-06-15 13:46:00, 2015-06-15 13:47:00, 2015-06-15 13:51:00, 2015-06-15 13:58:00, 2015-06-15 14:00:00, 2015-06-15 14:05:00, 2015-06-15 14:20:00, 2015-06-15 14:40:00, 2015-06-15 14:42:00, 2015-06-15 14:45:00, 2015-06-15 14:55:00, 2015-06-15 15:00:00, 2015-06-15 15:15:00, 2015-06-15 15:18:00, 2015-06-15 15:30:00, 2015-06-15 15:45:00, ...]  \n",
       "8                                                                                                                                                                                                                                                                                                                                                                                                                                                                                                                                                                                                                                                                                                                                                                                                                                                                                                                                                                                                                                                                                                                                                                                                                                                                                                                                                                                                                                                                                                                                                                                                                                                                                                                                                                                                                                                                                                                                                                                                                                                                                                                                                                                                                                                                                                                                                                                                                                                                                                                                                                                                                                                                                                                                                                                                                                                                                                                                                                                                                                                                                             [2015, 2016, 2017, 2018]  \n",
       "9                                                                                                                                                                                                                                                                                                                                                                                                                                                                                                                                                                                                                                                                                                                                                                                                                                                                                                                                                                                                                                                                                                                                                                                                                                                                                                                                                                                                                                                                                                                                                                                                                                                                                                                                                                                                                                                                                                                                                                                                                                                                                                                                                                                                                                                                                                                                                                                                                                                                                                                                                                                                                                                                                                                                                                                                                                                                                                                                                                                                                                                                              [1, 2, 3, 4, 5, 6, 7, 8, 9, 10, 11, 12]  \n",
       "10                                                                                                                                                                                                                                                                                                                                                                                                                                                                                                                                                                                                                                                                                                                                                                                                                                                                                                                                                                                                                                                                                                                                                                                                                                                                                                                                                                                                                                                                                                                                                                                                                                                                                                                                                                                                                                                                                                                                                                                                                                                                                                                                                                                                                                                                                                                                                                                                                                                                                                                                                                                                                                                                                                                                                                                                                                                                                                                                                                                                                                                    [Friday, Monday, Saturday, Sunday, Thursday, Tuesday, Wednesday]  \n",
       "11                                                                                                                                                                                                                                                                                                                                                                                                                                                                                                                                                                                                                                                                                                                                                                                                                                                                                                                                                                                                                                                                                                                                                                                                                                                                                                                                                                                                                                                                                                                                                                                                                                                                                                                                                                                                                                                                                                                                                                                                                                                                                                                                                                                                                                                                                                                                                                                                                                                                                                                                                                                                                                                                                                                                                                                                                                                                                                                                                                                                                              [0, 1, 2, 3, 4, 5, 6, 7, 8, 9, 10, 11, 12, 13, 14, 15, 16, 17, 18, 19, 20, 21, 22, 23]  \n",
       "12                                                                                                                                                                                                                                                                                                                                                                                                                                                                                                                                                                                                                                                                                                                                                                                                                                                                                                                                                                                                                                                                                                                                                                                                                                                                                                                                                                                                                                                                                                                                                                                                                                                                                                                                                                                                                                                                                                                                                                                                                                                                                                                                                                                                                                                                                                                                                                                                                                                                                                                                                                                                                                                                                                                                                                                                                                                                                                                                                                                                                                                                        [Other, Part One, Part Three, Part Two, nan]  \n",
       "13                                                                                                                                                                                                                                                                                                                                                                                                                                                                                                                                                                                                                                                                                                                                                                                                                                                                                                                                                                                                                                                                                                                                                                                                                                                                                                                                                                                                                                                                                                                                                                                                                                                                                                                                                  [ ALBANY ST ,  BLUE HILL AVE ,  COLUMBUS AVE ,  COMMONWEALTH AVE ,  MASSACHUSETTS AVE , 0 BURRELL, 0 MASS AVE, 00 CENTRE ST, 00 MASS AVE, 00 OLD COLONY AVE, 12 BREED ST, 12 BROOKVIEW ST, 12 WOODWARD PARK ST, 13 DIXWELL ST, 1307 COMMONWEALTH AVE, 132 BROOK AVE, 139 BOWER ST, 14 HALF MOON ST, 1463 BLUE HILL AVE, 15 1, 150 1, 186 HEATH ST, 1915 RIVER ST, 1ST & O, 20 BISHOP JOE L SMITH WAY, 246 PARKER HILL AVE, 29 HARLOW ST, 4 NORTH SQ, 42 LAWRENCE AVE, 475 GENEVA AVE, 4TH, 5 BEACON ST, 5 BREMEN ST, 5 CONDOR ST, 5 REVERE ST, 50 FOODMART RD, 54, 55 FAYWOOD AVE, 555 AMORY ST, 6 AVE SE, 61 HILLSIDE ST, 774 E THIRD ST, 8 NEWBURG ST, 9 AVE, 93 S, 97 HUTCHINGS ST, 98 WOODLEDGE ST, A ST, ABBOT ST, ABBOT ST 3, ABBOT ST BSTN, ABBOTSFORD ST, ABBY RD, ABERDEEN ST, ACADEMY CT, ACADEMY HILL RD, ACADEMY RD, ACADEMY TER, ACADIA ST, ACCOLON WAY, ACHORN CIR, ACKLEY PL, ACORN ST, ADA, ADA ST, ADAIR RD, ADAMS S, ADAMS ST, ADAMS TER, ADAMS TERRACE WAY, ADAMSON ST, ADANAC TER, ADDELAIDE PL, ADDINGTON RD, ADDISON ST, ADELAIDE ST, ADELAIDE TER, ADELLA PL, ADRIAN ST, AGANNIS ARENA, AGASSIZ RD, AGAWAM ST, AGGANIS ARENA, AGNES AVE, AGUADILLA ST, AINSLEY ST, AINSWORTH ST, AIRPORT RD, AKRON PL, AKRON ST, AL ZWIERCAN WAY, ALABAMA ST, ALAMEDA RD, ALARIC ST, ALARIC TER, ALASKA ST, ALASKA STRET, ALBAN ST, ALBANO ST, ALBANY, ...]  \n",
       "14                                                                                                                                                                                                                                                                                                                                                                                                                                                                                                                                                                                                                                                                                                                                                                                                                                                                                                                                                                                                                                                                                                                                                                                                                                                                                                                                                                                                                                                                                                                                                                                                                                                                                                                                                                           [-1.0, 42.2324133, 42.23265556, 42.23287025, 42.23290729, 42.2330858, 42.23312147, 42.23315741, 42.23334151, 42.23337226, 42.23346994, 42.23357448, 42.23358147, 42.23362594, 42.23371303, 42.23375394, 42.23382322, 42.23396095, 42.23405146, 42.23421715, 42.23429066, 42.23430215, 42.23452842, 42.2345432, 42.23455259, 42.23477776, 42.23480079, 42.23483513, 42.23490232, 42.23496335, 42.23504691, 42.23519372, 42.23520062, 42.23541409, 42.23546565, 42.23550153, 42.23552076, 42.23567221, 42.2357641, 42.23578713, 42.23582689, 42.23583053, 42.23591132, 42.23603929, 42.23604809, 42.23617932, 42.23628029, 42.23631051, 42.23638294, 42.23640083, 42.23649723, 42.23651386, 42.23651388, 42.23661152, 42.23666732, 42.23674093, 42.2368647, 42.2370095, 42.23707712, 42.2372097, 42.23722567, 42.23727444, 42.23730137, 42.23739303, 42.23755192, 42.2376579, 42.23771856, 42.23796336, 42.23797683, 42.23798912, 42.23812523, 42.23842358, 42.23850959, 42.23856857, 42.23861212, 42.23868787, 42.23880605, 42.23881016, 42.23892422, 42.2391354, 42.23915557, 42.23924089, 42.23935616, 42.23949178, 42.23951493, 42.23967781, 42.23982523, 42.23997571, 42.24003544, 42.24004714, 42.24005118, 42.24022026, 42.24025009, 42.24042076, 42.24042362, 42.24049963, 42.24052845, 42.24060494, 42.24071718, 42.24076725, ...]  \n",
       "15                                                                                                                                                                                                                                                                                                                                                                                                                                                                                                                                                                                                                                                                                                                                                                                                                                                                                                                                                                                                                                                                                                                                                                                                                                                                                                                                                                                                                                                                                                                                                                                                                                                                 [-71.17867378, -71.17745696, -71.17680515, -71.17563839, -71.17519031, -71.17469203, -71.17444066, -71.17441429, -71.17430816, -71.17423701, -71.17409904, -71.17402201, -71.17377805, -71.1737388, -71.17371844, -71.17354863, -71.17352578, -71.1733972, -71.17336028, -71.17307606, -71.17306177, -71.1729465, -71.17291563, -71.17274868, -71.17267965, -71.17261237, -71.17259777, -71.17249239, -71.17244016, -71.17231993, -71.17225873, -71.17222257, -71.17218093, -71.17217123, -71.17214447, -71.17213583, -71.17208952, -71.17208826, -71.17204938, -71.17201882, -71.17201532, -71.17200676, -71.1719647, -71.17195887, -71.17187576, -71.17186766, -71.17183457, -71.17183138, -71.1717622, -71.17174469, -71.17172573, -71.17166432, -71.17160765, -71.17159664, -71.17158836, -71.1715847, -71.17152831, -71.17150139, -71.17147165, -71.17143892, -71.17137818, -71.17135386, -71.17133937, -71.17132051, -71.17131805, -71.17129736, -71.17121865, -71.171183, -71.17117596, -71.17110585, -71.17109777, -71.1710665, -71.17105151, -71.17101442, -71.17098197, -71.17091524, -71.17091152, -71.17089633, -71.17089312, -71.17087959, -71.17087708, -71.17085962, -71.17085098, -71.17077278, -71.17067357, -71.17066429, -71.17066178, -71.17062376, -71.17059169, -71.17058928, -71.17055526, -71.17054045, -71.17053018, -71.17045603, -71.17044853, -71.17039784, -71.1703941, -71.17036373, -71.17034661, -71.17028987, ...]  \n",
       "16                                                                                               [(-1.00000000, -1.00000000), (0.00000000, 0.00000000), (42.23241330, -71.12971531), (42.23265556, -71.13069992), (42.23287025, -71.13004959), (42.23290729, -71.13167059), (42.23308580, -71.12815697), (42.23312147, -71.13102697), (42.23315741, -71.13265354), (42.23334151, -71.13368781), (42.23337226, -71.13200359), (42.23346994, -71.13862962), (42.23357448, -71.12917748), (42.23358147, -71.13453781), (42.23362594, -71.13299328), (42.23371303, -71.13129839), (42.23375394, -71.13349324), (42.23382322, -71.13015658), (42.23396095, -71.13228408), (42.23405146, -71.13882916), (42.23421715, -71.13327736), (42.23429066, -71.12834199), (42.23430215, -71.13158084), (42.23452842, -71.12928352), (42.23454320, -71.13091490), (42.23455259, -71.13256874), (42.23477776, -71.13025716), (42.23480079, -71.13396522), (42.23483513, -71.12773597), (42.23490232, -71.13791008), (42.23496335, -71.12962264), (42.23504691, -71.13289238), (42.23519372, -71.12799499), (42.23520062, -71.12916993), (42.23541409, -71.13272569), (42.23546565, -71.13728527), (42.23550153, -71.12551848), (42.23552076, -71.13315135), (42.23567221, -71.12597459), (42.23576410, -71.12623564), (42.23578713, -71.13034026), (42.23582689, -71.13686223), (42.23583053, -71.12921886), (42.23591132, -71.12710162), (42.23603929, -71.12718154), (42.23604809, -71.13131300), (42.23617932, -71.12812972), (42.23628029, -71.12859233), (42.23631051, -71.13231083), (42.23638294, -71.12895989), (42.23640083, -71.13625139), (42.23649723, -71.12935123), (42.23651386, -71.12503429), (42.23651388, -71.13317161), (42.23661152, -71.12974258), (42.23666732, -71.12993363), (42.23674093, -71.13019536), (42.23686470, -71.12859139), (42.23700950, -71.12956606), (42.23707712, -71.13141342), (42.23720970, -71.13190786), (42.23722567, -71.13190217), (42.23727444, -71.12624263), (42.23730137, -71.13232346), (42.23739303, -71.13273907), (42.23755192, -71.13034635), (42.23765790, -71.13829126), (42.23771856, -71.13231767), (42.23796336, -71.13154728), (42.23797683, -71.13000944), (42.23798912, -71.13535351), (42.23812523, -71.13528115), (42.23842358, -71.13512185), (42.23850959, -71.13277923), (42.23856857, -71.13576271), (42.23861212, -71.13691336), (42.23868787, -71.13487885), (42.23880605, -71.13536644), (42.23881016, -71.13450429), (42.23892422, -71.13585403), (42.23913540, -71.13397939), (42.23915557, -71.13855577), (42.23924089, -71.13210757), (42.23935616, -71.13258084), (42.23949178, -71.13595442), (42.23951493, -71.13964409), (42.23967781, -71.13379687), (42.23982523, -71.14058530), (42.23997571, -71.13895907), (42.24003544, -71.12539334), (42.24004714, -71.14126069), (42.24005118, -71.13578825), (42.24022026, -71.13656386), (42.24025009, -71.13566985), (42.24042076, -71.12465619), (42.24042362, -71.13742760), (42.24049963, -71.14262002), (42.24052845, -71.13550853), (42.24060494, -71.14142437), (42.24071718, -71.13935624), ...]  "
      ]
     },
     "execution_count": 7,
     "metadata": {},
     "output_type": "execute_result"
    }
   ],
   "source": [
    "## mengecek data unique ditiap kolom\n",
    "pd.set_option('display.max_colwidth', None)\n",
    "list1 = []\n",
    "for col in df.columns :\n",
    "    list1.append([col, df[col].nunique(), df.sort_values(col)[col].unique()])\n",
    "\n",
    "tabel_unique = pd.DataFrame(columns=['Nama Kolum', 'Jumlah Data Unique', 'Unique Sample'],\n",
    "                     data=list1)\n",
    "tabel_unique"
   ]
  },
  {
   "cell_type": "markdown",
   "id": "f3c7470e-22ca-469a-897d-a1932c9803eb",
   "metadata": {},
   "source": [
    "didapatkan beberapa data yang bernilai aneh seperti:\n",
    "1. kolom **reporting area** terdapat data string kosong(''), dan data bernilai 000 yang memiliki district berbeda beda,umumnya satu reporting area hanya mewakili 1/2 distrik. Penangannya nanti akan diganti menjadi NaN.\n",
    "1. kolom **lat** dan **long** terdapat nilai -1, sesuai dengan domain knowledge kita ini adalah suatu hal yang tidak mungkin.Penangannya nanti akan diganti menjadi NaN.\n",
    "1. kolom **location** nilai ((-1.00000000, -1.00000000), (0.00000000, 0.00000000)), sesuai dengan domain knowledge kita ini adalah suatu hal yang tidak mungkin. Penangannya nanti akan diganti menjadi NaN.\n",
    "\n",
    "selain itu juga beberapa kolom akan dilakukan modifikasi seperti:\n",
    "1. mengganti code yang ada di kolom district dengan nama kotanya agar memudahkan interpretasi\n",
    "2. mengganti tipe data kolom occured date menjadi datetime\n",
    "3. mengekstrak kolom occured date menjadi beberapa kolom, seperti year,month,day, dll agar meminimalisir apabila ada kesalahan pada data awal\n",
    "4. membagi UCR_Part hanya menjadi 3 bagian saja(sebelumnya 4)\n",
    "5. menghapus kolom OFFENSE_CODE karena sudah diwakilkan oleh OFFENSE_CODE_GROUP dan OFFENSE_DESCRIPTION"
   ]
  },
  {
   "cell_type": "markdown",
   "id": "3cf83e50-80ab-42a2-95f8-7be1fec25250",
   "metadata": {},
   "source": [
    "## 2.2 Penanganan Beberapa Kolom"
   ]
  },
  {
   "cell_type": "markdown",
   "id": "e1c6bb26-16aa-4994-b544-a57d7c928408",
   "metadata": {
    "tags": []
   },
   "source": [
    "### 2.2.1. Penanganan Kolom Reporting Area"
   ]
  },
  {
   "cell_type": "code",
   "execution_count": 8,
   "id": "ab8afc82-8a08-4765-8fa3-79e2841ad0e1",
   "metadata": {},
   "outputs": [],
   "source": [
    "#kolom reporting area, mengganti string kosong kosong dan whitespace menjadi nan\n",
    "df['REPORTING_AREA'] = df['REPORTING_AREA'].replace('000',np.nan)\n",
    "df['REPORTING_AREA'] = df['REPORTING_AREA'].replace(\" \",np.nan)"
   ]
  },
  {
   "cell_type": "code",
   "execution_count": 9,
   "id": "d293a425-525b-490d-b663-fe3fd245ce98",
   "metadata": {},
   "outputs": [
    {
     "data": {
      "text/html": [
       "<div>\n",
       "<style scoped>\n",
       "    .dataframe tbody tr th:only-of-type {\n",
       "        vertical-align: middle;\n",
       "    }\n",
       "\n",
       "    .dataframe tbody tr th {\n",
       "        vertical-align: top;\n",
       "    }\n",
       "\n",
       "    .dataframe thead th {\n",
       "        text-align: right;\n",
       "    }\n",
       "</style>\n",
       "<table border=\"1\" class=\"dataframe\">\n",
       "  <thead>\n",
       "    <tr style=\"text-align: right;\">\n",
       "      <th></th>\n",
       "      <th>INCIDENT_NUMBER</th>\n",
       "      <th>OFFENSE_CODE</th>\n",
       "      <th>OFFENSE_CODE_GROUP</th>\n",
       "      <th>OFFENSE_DESCRIPTION</th>\n",
       "      <th>DISTRICT</th>\n",
       "      <th>REPORTING_AREA</th>\n",
       "      <th>SHOOTING</th>\n",
       "      <th>OCCURRED_ON_DATE</th>\n",
       "      <th>YEAR</th>\n",
       "      <th>MONTH</th>\n",
       "      <th>DAY_OF_WEEK</th>\n",
       "      <th>HOUR</th>\n",
       "      <th>UCR_PART</th>\n",
       "      <th>STREET</th>\n",
       "      <th>Lat</th>\n",
       "      <th>Long</th>\n",
       "      <th>Location</th>\n",
       "    </tr>\n",
       "  </thead>\n",
       "  <tbody>\n",
       "  </tbody>\n",
       "</table>\n",
       "</div>"
      ],
      "text/plain": [
       "Empty DataFrame\n",
       "Columns: [INCIDENT_NUMBER, OFFENSE_CODE, OFFENSE_CODE_GROUP, OFFENSE_DESCRIPTION, DISTRICT, REPORTING_AREA, SHOOTING, OCCURRED_ON_DATE, YEAR, MONTH, DAY_OF_WEEK, HOUR, UCR_PART, STREET, Lat, Long, Location]\n",
       "Index: []"
      ]
     },
     "execution_count": 9,
     "metadata": {},
     "output_type": "execute_result"
    }
   ],
   "source": [
    "#pengecekan ulang apakah nilai 000 dan string kosong sudah hilang\n",
    "df[(df['REPORTING_AREA']==\"000\") | (df['REPORTING_AREA']==\" \")]"
   ]
  },
  {
   "cell_type": "markdown",
   "id": "73309b1a-4be2-4775-9c8b-dff19a89874f",
   "metadata": {},
   "source": [
    "didapatkan bahwa nilai \"000\" dan \"white space\" sudah menjadi NaN "
   ]
  },
  {
   "cell_type": "markdown",
   "id": "0e1d9723-a56d-46bf-bf07-a895d7d90e04",
   "metadata": {},
   "source": [
    "### 2.2.2 Penanganan Kolom **lat** dan Kolom **long**"
   ]
  },
  {
   "cell_type": "code",
   "execution_count": 10,
   "id": "d00c5032-b3b8-4b94-8a3a-f7310be6c124",
   "metadata": {},
   "outputs": [],
   "source": [
    "# merubah data yang mempunya nilai -1.0 di kolom lat dan long menjadi NaN\n",
    "df['Lat'] = df['Lat'].replace(-1.0, np.nan)\n",
    "df['Long'] = df['Long'].replace(-1.0, np.nan)"
   ]
  },
  {
   "cell_type": "code",
   "execution_count": 11,
   "id": "d2404d9f-3abe-4dee-a2db-3e59e5a32bcd",
   "metadata": {},
   "outputs": [
    {
     "data": {
      "text/html": [
       "<div>\n",
       "<style scoped>\n",
       "    .dataframe tbody tr th:only-of-type {\n",
       "        vertical-align: middle;\n",
       "    }\n",
       "\n",
       "    .dataframe tbody tr th {\n",
       "        vertical-align: top;\n",
       "    }\n",
       "\n",
       "    .dataframe thead th {\n",
       "        text-align: right;\n",
       "    }\n",
       "</style>\n",
       "<table border=\"1\" class=\"dataframe\">\n",
       "  <thead>\n",
       "    <tr style=\"text-align: right;\">\n",
       "      <th></th>\n",
       "      <th>INCIDENT_NUMBER</th>\n",
       "      <th>OFFENSE_CODE</th>\n",
       "      <th>OFFENSE_CODE_GROUP</th>\n",
       "      <th>OFFENSE_DESCRIPTION</th>\n",
       "      <th>DISTRICT</th>\n",
       "      <th>REPORTING_AREA</th>\n",
       "      <th>SHOOTING</th>\n",
       "      <th>OCCURRED_ON_DATE</th>\n",
       "      <th>YEAR</th>\n",
       "      <th>MONTH</th>\n",
       "      <th>DAY_OF_WEEK</th>\n",
       "      <th>HOUR</th>\n",
       "      <th>UCR_PART</th>\n",
       "      <th>STREET</th>\n",
       "      <th>Lat</th>\n",
       "      <th>Long</th>\n",
       "      <th>Location</th>\n",
       "    </tr>\n",
       "  </thead>\n",
       "  <tbody>\n",
       "  </tbody>\n",
       "</table>\n",
       "</div>"
      ],
      "text/plain": [
       "Empty DataFrame\n",
       "Columns: [INCIDENT_NUMBER, OFFENSE_CODE, OFFENSE_CODE_GROUP, OFFENSE_DESCRIPTION, DISTRICT, REPORTING_AREA, SHOOTING, OCCURRED_ON_DATE, YEAR, MONTH, DAY_OF_WEEK, HOUR, UCR_PART, STREET, Lat, Long, Location]\n",
       "Index: []"
      ]
     },
     "execution_count": 11,
     "metadata": {},
     "output_type": "execute_result"
    }
   ],
   "source": [
    "#pengecekan ulang apakah nilai 000 dan string kosong sudah hilang\n",
    "df[(df['Lat']==-1.0) | (df['Long']==-1.0)]"
   ]
  },
  {
   "cell_type": "markdown",
   "id": "c20b787d-f62e-4e17-988b-0f86e74f96e8",
   "metadata": {},
   "source": [
    "didapatkan bahwa nilai Lat = -1.0 dan Long = -1.0 sudah menjadi NaN "
   ]
  },
  {
   "cell_type": "markdown",
   "id": "10eb8cc4-bd8c-4b5a-bd8e-e9287632684d",
   "metadata": {},
   "source": [
    "## 2.2.3. Penanganan Kolom Location"
   ]
  },
  {
   "cell_type": "code",
   "execution_count": 12,
   "id": "daae803a-2ec0-4856-aeec-c758461a89fd",
   "metadata": {},
   "outputs": [],
   "source": [
    "# merubah data yang mempunya nilai (-1.00000000, -1.00000000) dan (0.00000000, 0.00000000) di kolom location menjadi NaN\n",
    "df['Location'] = df['Location'].replace('(-1.00000000, -1.00000000)', np.nan)\n",
    "df['Location'] = df['Location'].replace('(0.00000000, 0.00000000)', np.nan)"
   ]
  },
  {
   "cell_type": "code",
   "execution_count": 13,
   "id": "8ff79d47-d522-4e52-ade9-dac6dc970ae6",
   "metadata": {
    "tags": []
   },
   "outputs": [
    {
     "data": {
      "text/html": [
       "<div>\n",
       "<style scoped>\n",
       "    .dataframe tbody tr th:only-of-type {\n",
       "        vertical-align: middle;\n",
       "    }\n",
       "\n",
       "    .dataframe tbody tr th {\n",
       "        vertical-align: top;\n",
       "    }\n",
       "\n",
       "    .dataframe thead th {\n",
       "        text-align: right;\n",
       "    }\n",
       "</style>\n",
       "<table border=\"1\" class=\"dataframe\">\n",
       "  <thead>\n",
       "    <tr style=\"text-align: right;\">\n",
       "      <th></th>\n",
       "      <th>INCIDENT_NUMBER</th>\n",
       "      <th>OFFENSE_CODE</th>\n",
       "      <th>OFFENSE_CODE_GROUP</th>\n",
       "      <th>OFFENSE_DESCRIPTION</th>\n",
       "      <th>DISTRICT</th>\n",
       "      <th>REPORTING_AREA</th>\n",
       "      <th>SHOOTING</th>\n",
       "      <th>OCCURRED_ON_DATE</th>\n",
       "      <th>YEAR</th>\n",
       "      <th>MONTH</th>\n",
       "      <th>DAY_OF_WEEK</th>\n",
       "      <th>HOUR</th>\n",
       "      <th>UCR_PART</th>\n",
       "      <th>STREET</th>\n",
       "      <th>Lat</th>\n",
       "      <th>Long</th>\n",
       "      <th>Location</th>\n",
       "    </tr>\n",
       "  </thead>\n",
       "  <tbody>\n",
       "  </tbody>\n",
       "</table>\n",
       "</div>"
      ],
      "text/plain": [
       "Empty DataFrame\n",
       "Columns: [INCIDENT_NUMBER, OFFENSE_CODE, OFFENSE_CODE_GROUP, OFFENSE_DESCRIPTION, DISTRICT, REPORTING_AREA, SHOOTING, OCCURRED_ON_DATE, YEAR, MONTH, DAY_OF_WEEK, HOUR, UCR_PART, STREET, Lat, Long, Location]\n",
       "Index: []"
      ]
     },
     "execution_count": 13,
     "metadata": {},
     "output_type": "execute_result"
    }
   ],
   "source": [
    "# mengecek apakah kolom location masih mempunya nilai (-1.00000000, -1.00000000) dan (0.00000000, 0.00000000)\n",
    "df[(df[\"Location\"]==\"(-1.00000000, -1.00000000)\") | (df[\"Location\"]==\"(0.00000000, 0.00000000)\")]"
   ]
  },
  {
   "cell_type": "markdown",
   "id": "52eb894f-16c3-47c4-a8c3-6c58082b7532",
   "metadata": {},
   "source": [
    "didapatkan sudah tidak ada lagi data bernilai (-1.00000000, -1.00000000) dan (0.00000000, 0.00000000)"
   ]
  },
  {
   "cell_type": "markdown",
   "id": "87161b9a-517e-4638-a153-83ae576703cc",
   "metadata": {
    "jp-MarkdownHeadingCollapsed": true,
    "tags": []
   },
   "source": [
    "## 2.2.4. penanganan kolom district\n",
    "Mengganti kode districk dengan nama distrik agar memudahkan interpretasi berdasarkan sumber https://www.boston.gov/departments/police"
   ]
  },
  {
   "cell_type": "code",
   "execution_count": 14,
   "id": "1011a0b0-8cb0-4e88-b4c3-eccbfb9121ff",
   "metadata": {},
   "outputs": [],
   "source": [
    "#Mengganti isi data dari kolom district\n",
    "df.DISTRICT.replace({'A1' : 'Downtown',\n",
    "'A15': 'Charlestown',\n",
    "'A7': 'East Boston',\n",
    "'B2': 'Roxbury',\n",
    "'B3': 'Mattapan',\n",
    "'C6': 'South Boston',\n",
    "'C11': 'Dorchester',\n",
    "'D4': 'South End',\n",
    "'D14': 'Brighton',\n",
    "'E5': 'West Roxbury',\n",
    "'E13': 'Jamaica Plain',\n",
    "'E18':'Hyde Park'}, inplace=True)"
   ]
  },
  {
   "cell_type": "markdown",
   "id": "4ef761fe-b822-45df-a6b4-12031363aa98",
   "metadata": {},
   "source": [
    "## 2.2.5. penanganan kolom occured date\n",
    "mengganti tipe data kolom occured date menjadi date time"
   ]
  },
  {
   "cell_type": "code",
   "execution_count": 15,
   "id": "46d714d2-248d-4dfe-ab49-a41209bb5708",
   "metadata": {},
   "outputs": [],
   "source": [
    "#mengganti tipe data date menjadi datetime\n",
    "df[\"OCCURRED_ON_DATE\"] = pd.to_datetime(df['OCCURRED_ON_DATE'])"
   ]
  },
  {
   "cell_type": "markdown",
   "id": "71a9b677-4815-4e08-8153-19441767140f",
   "metadata": {},
   "source": [
    "## 2.2.6. penanganan kolom year, month, dayofweek, hour\n",
    "melakukan ekstraksi pada kolom occured date untuk mendapatkan year, month, dayofweek, hour. dilakukan untuk meminimalisir kesalahan dari input."
   ]
  },
  {
   "cell_type": "code",
   "execution_count": 16,
   "id": "9ea6999d-5def-4afa-8dd3-8569e9ed5a44",
   "metadata": {},
   "outputs": [],
   "source": [
    "#melakukan ekstarasi data dari kolom occured on date\n",
    "df[\"YEAR\"]=df[\"OCCURRED_ON_DATE\"].dt.year\n",
    "df[\"MONTH\"]=df[\"OCCURRED_ON_DATE\"].dt.month\n",
    "df[\"DAY_OF_WEEK\"]=df[\"OCCURRED_ON_DATE\"].dt.day_name()\n",
    "df[\"HOUR\"]=df[\"OCCURRED_ON_DATE\"].dt.hour"
   ]
  },
  {
   "cell_type": "markdown",
   "id": "fa025fb4-6d46-4257-98d6-1ea33e22f6fc",
   "metadata": {
    "tags": []
   },
   "source": [
    "## 2.2.7. penanganan kolom ucr_part\n",
    "Membagi UCR_Part menjadi hanya 3 bagian(sebelumnya 4 bagian):\n",
    "1. part One\n",
    "2. part Two\n",
    "3. part Three <br>\n",
    "berdasarkan sumber https://operationladyjustice.usdoj.gov/sites/g/files/xyckuh281/files/media/document/oljfbiucrfactsheet.pdf dan https://www2.fbi.gov/ucr/cius_04/appendices/appendix_02.html"
   ]
  },
  {
   "cell_type": "code",
   "execution_count": 17,
   "id": "248966a8-59b2-44b7-9026-bf72f9128d66",
   "metadata": {},
   "outputs": [
    {
     "data": {
      "text/plain": [
       "array(['Arson', 'License Plate Related Incidents', 'Auto Theft Recovery',\n",
       "       'Other', 'Manslaughter', 'Burglary - No Property Taken'],\n",
       "      dtype=object)"
      ]
     },
     "execution_count": 17,
     "metadata": {},
     "output_type": "execute_result"
    }
   ],
   "source": [
    "#mengecek offense code group dari ucr_part other\n",
    "df[df[\"UCR_PART\"]==\"Other\"][\"OFFENSE_CODE_GROUP\"].unique()"
   ]
  },
  {
   "cell_type": "markdown",
   "id": "0f51ddeb-1726-4b2a-8768-45952f15edd2",
   "metadata": {},
   "source": [
    "diketahui UCR part dengan kelas other memiliki offense code group :Arson, License Plate Related Incidents, Auto Theft Recovery, Other, Manslaughter, Burglary - No Property Taken. setelah di laukanan analisis melalui sumber, diketahui bahwa **offense code group** seperti : *arson, auto theft recovery, Burglary - No Property Taken, manslaughter* masuk kedalam UCR_part One, sedangkan offense code group dengan kelas License Plate Related Incidents'dan other dimasukkan kedalam UCR_part 2"
   ]
  },
  {
   "cell_type": "code",
   "execution_count": 18,
   "id": "0ff20fa1-08bd-4201-a056-d1acd3839d19",
   "metadata": {},
   "outputs": [],
   "source": [
    "#memasukkan UCR PART other sesuai dengan UCR Part nya menurut sumber\n",
    "code_group = [['Other','License Plate Related Incidents'],['Arson', 'Auto Theft Recovery', 'Manslaughter', 'Burglary - No Property Taken']]\n",
    "ucr = ['Part Two', 'Part One']\n",
    "\n",
    "for code, part in zip(code_group, ucr) :\n",
    "    df.loc[df['OFFENSE_CODE_GROUP'].isin(code), 'UCR_PART'] = part"
   ]
  },
  {
   "cell_type": "code",
   "execution_count": 19,
   "id": "9db8bbc1-49d4-423d-b011-79f2555f39e4",
   "metadata": {},
   "outputs": [
    {
     "data": {
      "text/html": [
       "<div>\n",
       "<style scoped>\n",
       "    .dataframe tbody tr th:only-of-type {\n",
       "        vertical-align: middle;\n",
       "    }\n",
       "\n",
       "    .dataframe tbody tr th {\n",
       "        vertical-align: top;\n",
       "    }\n",
       "\n",
       "    .dataframe thead th {\n",
       "        text-align: right;\n",
       "    }\n",
       "</style>\n",
       "<table border=\"1\" class=\"dataframe\">\n",
       "  <thead>\n",
       "    <tr style=\"text-align: right;\">\n",
       "      <th></th>\n",
       "      <th>INCIDENT_NUMBER</th>\n",
       "      <th>OFFENSE_CODE</th>\n",
       "      <th>OFFENSE_CODE_GROUP</th>\n",
       "      <th>OFFENSE_DESCRIPTION</th>\n",
       "      <th>DISTRICT</th>\n",
       "      <th>REPORTING_AREA</th>\n",
       "      <th>SHOOTING</th>\n",
       "      <th>OCCURRED_ON_DATE</th>\n",
       "      <th>YEAR</th>\n",
       "      <th>MONTH</th>\n",
       "      <th>DAY_OF_WEEK</th>\n",
       "      <th>HOUR</th>\n",
       "      <th>UCR_PART</th>\n",
       "      <th>STREET</th>\n",
       "      <th>Lat</th>\n",
       "      <th>Long</th>\n",
       "      <th>Location</th>\n",
       "    </tr>\n",
       "  </thead>\n",
       "  <tbody>\n",
       "  </tbody>\n",
       "</table>\n",
       "</div>"
      ],
      "text/plain": [
       "Empty DataFrame\n",
       "Columns: [INCIDENT_NUMBER, OFFENSE_CODE, OFFENSE_CODE_GROUP, OFFENSE_DESCRIPTION, DISTRICT, REPORTING_AREA, SHOOTING, OCCURRED_ON_DATE, YEAR, MONTH, DAY_OF_WEEK, HOUR, UCR_PART, STREET, Lat, Long, Location]\n",
       "Index: []"
      ]
     },
     "execution_count": 19,
     "metadata": {},
     "output_type": "execute_result"
    }
   ],
   "source": [
    "#pengecekan apakah UCR part kelas other masih ada\n",
    "df[df[\"UCR_PART\"]==\"Other\"]"
   ]
  },
  {
   "cell_type": "markdown",
   "id": "2ae7e2dd-e9ef-4c8f-a08a-bd2818be73c4",
   "metadata": {},
   "source": [
    "sudah tidak ada UCR_PART kelas Other"
   ]
  },
  {
   "cell_type": "markdown",
   "id": "323bce6d-a9c7-4c21-8ba7-aaf9e1921c19",
   "metadata": {},
   "source": [
    "### problem pada UCR PART Part Two \n",
    "Ditemukan Bahwa UCR PART kelas Part Two memiliki OFFENSE_CODE_GROUP yang bernilai Other. OFFENSE_CODE_GROUP other yang terdapat di UCR part Two ini juga memiliki persentasi yang tinggi. sesuai dengan domain knowledge seharusnya klasifikasi OFFENSE_CODE_GROUP yang other ialah kejahatan-kejahatan yang jarang dilakukan, sehingga di golongkan kepada OFFENSE_CODE_GROUP kelas other. seharusnya kejahatan apabila sering dilakukan akan masuk kedalam OFFENSE_CODE_GROUP nya sendiri. maka dari itu OFFENSE_CODE_GROUP other pada UCR part 2 yang memiliki nilai 3 tertinggi akan digolongkan lagi sesuai domain knowledge offense description dari berbagai sumber yang didapatkan"
   ]
  },
  {
   "cell_type": "code",
   "execution_count": 20,
   "id": "ac8d64b6-10bc-4e98-b917-b2d723cfe7aa",
   "metadata": {},
   "outputs": [
    {
     "data": {
      "text/plain": [
       "Other                              18075\n",
       "Drug Violation                     16548\n",
       "Simple Assault                     15826\n",
       "Vandalism                          15415\n",
       "Violations                          6095\n",
       "Fraud                               5829\n",
       "Harassment                          4007\n",
       "Confidence Games                    3147\n",
       "Disorderly Conduct                  2611\n",
       "Firearm Violations                  1777\n",
       "Restraining Order Violations        1607\n",
       "Recovered Stolen Property           1455\n",
       "Counterfeiting                      1454\n",
       "Liquor Violation                    1052\n",
       "Ballistics                           981\n",
       "Operating Under the Influence        574\n",
       "License Plate Related Incidents      560\n",
       "Offenses Against Child / Family      545\n",
       "Evading Fare                         407\n",
       "Embezzlement                         296\n",
       "Prisoner Related Incidents           230\n",
       "Prostitution                         207\n",
       "Criminal Harassment                  131\n",
       "Fire Related Reports                 126\n",
       "Bomb Hoax                             75\n",
       "Phone Call Complaints                 31\n",
       "Missing Person Reported               31\n",
       "Explosives                            13\n",
       "Gambling                               8\n",
       "Biological Threat                      2\n",
       "Name: OFFENSE_CODE_GROUP, dtype: int64"
      ]
     },
     "execution_count": 20,
     "metadata": {},
     "output_type": "execute_result"
    }
   ],
   "source": [
    "#melihat jumlah data yang berkategori kejahatan Other di UCR part 2\n",
    "df[df['UCR_PART']==\"Part Two\"]['OFFENSE_CODE_GROUP'].value_counts()"
   ]
  },
  {
   "cell_type": "code",
   "execution_count": 21,
   "id": "3d3bfb3e-1aaa-4b58-9ed3-649cf906dbde",
   "metadata": {},
   "outputs": [
    {
     "data": {
      "text/plain": [
       "THREATS TO DO BODILY HARM                         9042\n",
       "TRESPASSING                                       3254\n",
       "VAL - VIOLATION OF AUTO LAW - OTHER               2894\n",
       "OTHER OFFENSE                                      644\n",
       "VIOLATION - CITY ORDINANCE                         370\n",
       "INTIMIDATING WITNESS                               309\n",
       "DANGEROUS OR HAZARDOUS CONDITION                   307\n",
       "POSSESSION OF BURGLARIOUS TOOLS                    227\n",
       "INVESTIGATION FOR ANOTHER AGENCY                   194\n",
       "EXTORTION OR BLACKMAIL                             188\n",
       "REPORT AFFECTING OTHER DEPTS.                      166\n",
       "WEAPON - OTHER - OTHER VIOLATION                   147\n",
       "OBSCENE MATERIALS - PORNOGRAPHY                     80\n",
       "ANIMAL ABUSE                                        64\n",
       "VIOLATION - CITY ORDINANCE CONSTRUCTION PERMIT      51\n",
       "KIDNAPPING/CUSTODIAL KIDNAPPING                     48\n",
       "KIDNAPPING - ENTICING OR ATTEMPTED                  44\n",
       "VIOLATION - HAWKER AND PEDDLER                      15\n",
       "ABDUCTION - INTICING                                12\n",
       "PROPERTY - CONCEALING LEASED                        10\n",
       "CUSTODIAL KIDNAPPING                                 9\n",
       "Name: OFFENSE_DESCRIPTION, dtype: int64"
      ]
     },
     "execution_count": 21,
     "metadata": {},
     "output_type": "execute_result"
    }
   ],
   "source": [
    "#meihat OFFENSE_DESCRIPTION berdasarkan OFFENSE_CODE_GROUP other\n",
    "df[df['OFFENSE_CODE_GROUP']==\"Other\"]['OFFENSE_DESCRIPTION'].value_counts()"
   ]
  },
  {
   "cell_type": "markdown",
   "id": "81a618b4-aca8-4ae9-a09e-d579da3c5569",
   "metadata": {},
   "source": [
    "Penggolongan OFFENSE_DESCRIPTION <br>\n",
    "3 data terbanyak pada offense description yang ada di OFFENSE_CODE_GROUP other akan dikelompokan sebagaimana berikut:\n",
    "1. OFFENSE_DESCRIPTION : THREATS TO DO BODILY HARM, akan dimasukkan ke OFFENSE_CODE_GROUP simple assault. dikarenankan menurut https://www.nolo.com/legal-encyclopedia/assault-battery-aggravated-assault-33775.htmlMengangkat diibaratkan seseorang menganngkat tinju pada seseorang dan mengancam akan memukul mereka sudah bisa dimasukkan menjadi menjadi kejahatan simple assault.\n",
    "2. OFFENSE_DESCRIPTION : TRESPASSING , akan dimasukkan ke kelompok Burglary - No Property Taken dikarenakan berdasarkan https://www.law.cornell.edu/wex/trespass trespassing/menerobos sudah bisa dikelompokan kedalam pencurian, yaitu pencurian hak orang lain dengan memaksa masuk ke wilayahnya kepunyaannya\n",
    "3. OFFENSE_DESCRIPTION : VAL - VIOLATION OF AUTO LAW - OTHER, setelah dilakukan analisis, kejahatan VAL - VIOLATION OF AUTO LAW - OTHER, akan dimasukkan ke kelompok kejahatan Violations dikarenakan semua yang kejahatan yang berjenis VAL akan masuk kedalam grup Violations."
   ]
  },
  {
   "cell_type": "code",
   "execution_count": 22,
   "id": "23b2eea1-7090-410b-ae27-68852eb6d94a",
   "metadata": {},
   "outputs": [],
   "source": [
    "#memasukkan OFFENSE_DESCRIPTION = THREATS TO DO BODILY HARM ke OFFENSE_CODE_GROUP kelas Simple Assault\n",
    "df.loc[df[\"OFFENSE_DESCRIPTION\"]==\"THREATS TO DO BODILY HARM\",\"OFFENSE_CODE_GROUP\"]=\"Simple Assault\""
   ]
  },
  {
   "cell_type": "code",
   "execution_count": 23,
   "id": "85496522-2995-4070-8fbf-e66862a67f13",
   "metadata": {},
   "outputs": [
    {
     "data": {
      "text/plain": [
       "13        Simple Assault\n",
       "18        Simple Assault\n",
       "83        Simple Assault\n",
       "95        Simple Assault\n",
       "117       Simple Assault\n",
       "               ...      \n",
       "318649    Simple Assault\n",
       "318658    Simple Assault\n",
       "318832    Simple Assault\n",
       "318860    Simple Assault\n",
       "319028    Simple Assault\n",
       "Name: OFFENSE_CODE_GROUP, Length: 9042, dtype: object"
      ]
     },
     "execution_count": 23,
     "metadata": {},
     "output_type": "execute_result"
    }
   ],
   "source": [
    "#mengecek OFFENSE_CODE_GROUP baru untuk OFFENSE_DESCRIPTION = THREATS TO DO BODILY HARM\n",
    "df.loc[df[\"OFFENSE_DESCRIPTION\"]==\"THREATS TO DO BODILY HARM\"][\"OFFENSE_CODE_GROUP\"]"
   ]
  },
  {
   "cell_type": "code",
   "execution_count": 24,
   "id": "000712f4-b54b-4f66-848d-84eeec247364",
   "metadata": {},
   "outputs": [],
   "source": [
    "#memasukkan OFFENSE_DESCRIPTION = TRESPASSING ke OFFENSE_CODE_GROUP kelas Burglary - No Property Taken\n",
    "#mengganti UCR Part OFFENSE_DESCRIPTION = TRESPASSING sesuai dengan UCR Part kategori kejahatan yang baru\n",
    "df.loc[df[\"OFFENSE_DESCRIPTION\"]==\"TRESPASSING\",\"OFFENSE_CODE_GROUP\"] = \"Burglary - No Property Taken\"\n",
    "df.loc[df[\"OFFENSE_DESCRIPTION\"]==\"TRESPASSING\",\"UCR_PART\"] = \"Part One\""
   ]
  },
  {
   "cell_type": "code",
   "execution_count": 25,
   "id": "a40122f8-ddcf-44ca-bc82-d774edf02717",
   "metadata": {},
   "outputs": [
    {
     "data": {
      "text/html": [
       "<div>\n",
       "<style scoped>\n",
       "    .dataframe tbody tr th:only-of-type {\n",
       "        vertical-align: middle;\n",
       "    }\n",
       "\n",
       "    .dataframe tbody tr th {\n",
       "        vertical-align: top;\n",
       "    }\n",
       "\n",
       "    .dataframe thead th {\n",
       "        text-align: right;\n",
       "    }\n",
       "</style>\n",
       "<table border=\"1\" class=\"dataframe\">\n",
       "  <thead>\n",
       "    <tr style=\"text-align: right;\">\n",
       "      <th></th>\n",
       "      <th>OFFENSE_CODE_GROUP</th>\n",
       "      <th>UCR_PART</th>\n",
       "    </tr>\n",
       "  </thead>\n",
       "  <tbody>\n",
       "    <tr>\n",
       "      <th>148</th>\n",
       "      <td>Burglary - No Property Taken</td>\n",
       "      <td>Part One</td>\n",
       "    </tr>\n",
       "    <tr>\n",
       "      <th>180</th>\n",
       "      <td>Burglary - No Property Taken</td>\n",
       "      <td>Part One</td>\n",
       "    </tr>\n",
       "    <tr>\n",
       "      <th>221</th>\n",
       "      <td>Burglary - No Property Taken</td>\n",
       "      <td>Part One</td>\n",
       "    </tr>\n",
       "    <tr>\n",
       "      <th>490</th>\n",
       "      <td>Burglary - No Property Taken</td>\n",
       "      <td>Part One</td>\n",
       "    </tr>\n",
       "    <tr>\n",
       "      <th>492</th>\n",
       "      <td>Burglary - No Property Taken</td>\n",
       "      <td>Part One</td>\n",
       "    </tr>\n",
       "    <tr>\n",
       "      <th>...</th>\n",
       "      <td>...</td>\n",
       "      <td>...</td>\n",
       "    </tr>\n",
       "    <tr>\n",
       "      <th>318863</th>\n",
       "      <td>Burglary - No Property Taken</td>\n",
       "      <td>Part One</td>\n",
       "    </tr>\n",
       "    <tr>\n",
       "      <th>318933</th>\n",
       "      <td>Burglary - No Property Taken</td>\n",
       "      <td>Part One</td>\n",
       "    </tr>\n",
       "    <tr>\n",
       "      <th>318960</th>\n",
       "      <td>Burglary - No Property Taken</td>\n",
       "      <td>Part One</td>\n",
       "    </tr>\n",
       "    <tr>\n",
       "      <th>318961</th>\n",
       "      <td>Burglary - No Property Taken</td>\n",
       "      <td>Part One</td>\n",
       "    </tr>\n",
       "    <tr>\n",
       "      <th>319036</th>\n",
       "      <td>Burglary - No Property Taken</td>\n",
       "      <td>Part One</td>\n",
       "    </tr>\n",
       "  </tbody>\n",
       "</table>\n",
       "<p>3254 rows × 2 columns</p>\n",
       "</div>"
      ],
      "text/plain": [
       "                  OFFENSE_CODE_GROUP  UCR_PART\n",
       "148     Burglary - No Property Taken  Part One\n",
       "180     Burglary - No Property Taken  Part One\n",
       "221     Burglary - No Property Taken  Part One\n",
       "490     Burglary - No Property Taken  Part One\n",
       "492     Burglary - No Property Taken  Part One\n",
       "...                              ...       ...\n",
       "318863  Burglary - No Property Taken  Part One\n",
       "318933  Burglary - No Property Taken  Part One\n",
       "318960  Burglary - No Property Taken  Part One\n",
       "318961  Burglary - No Property Taken  Part One\n",
       "319036  Burglary - No Property Taken  Part One\n",
       "\n",
       "[3254 rows x 2 columns]"
      ]
     },
     "execution_count": 25,
     "metadata": {},
     "output_type": "execute_result"
    }
   ],
   "source": [
    "#mengecek OFFENSE_CODE_GROUP dan UCR Part baru untuk OFFENSE_DESCRIPTION = TRESPASSING\n",
    "df.loc[df[\"OFFENSE_DESCRIPTION\"]==\"TRESPASSING\"][[\"OFFENSE_CODE_GROUP\",\"UCR_PART\"]]"
   ]
  },
  {
   "cell_type": "code",
   "execution_count": 26,
   "id": "d79cc77d-9a51-48fc-88d4-91efc8410503",
   "metadata": {},
   "outputs": [
    {
     "data": {
      "text/plain": [
       "OFFENSE_DESCRIPTION                     \n",
       "VAL - OPERATING AFTER REV/SUSP.             2618\n",
       "VAL - OPERATING WITHOUT LICENSE             1963\n",
       "VAL - OPERATING UNREG/UNINS CAR             1051\n",
       "VAL - OPERATING W/O AUTHORIZATION LAWFUL     463\n",
       "dtype: int64"
      ]
     },
     "execution_count": 26,
     "metadata": {},
     "output_type": "execute_result"
    }
   ],
   "source": [
    "#mengecek isi dari kejahatan yang ada di OFFENSE_CODE_GROUP kelas Violations'\n",
    "df[df[\"OFFENSE_CODE_GROUP\"]=='Violations'][['OFFENSE_DESCRIPTION']].value_counts()"
   ]
  },
  {
   "cell_type": "code",
   "execution_count": 27,
   "id": "6ec473fa-7ea3-4c96-8be0-d87b2385cc45",
   "metadata": {
    "jupyter": {
     "source_hidden": true
    },
    "tags": []
   },
   "outputs": [],
   "source": [
    "#memasukkan OFFENSE_DESCRIPTION = VAL - VIOLATION OF AUTO LAW - OTHER ke OFFENSE_CODE_GROUP kelas Violation\n",
    "df.loc[df[\"OFFENSE_DESCRIPTION\"]==\"VAL - VIOLATION OF AUTO LAW - OTHER\",\"OFFENSE_CODE_GROUP\"] = \"Violations\""
   ]
  },
  {
   "cell_type": "code",
   "execution_count": 28,
   "id": "65165b93-d795-4bd7-a586-086f140629c2",
   "metadata": {},
   "outputs": [
    {
     "data": {
      "text/html": [
       "<div>\n",
       "<style scoped>\n",
       "    .dataframe tbody tr th:only-of-type {\n",
       "        vertical-align: middle;\n",
       "    }\n",
       "\n",
       "    .dataframe tbody tr th {\n",
       "        vertical-align: top;\n",
       "    }\n",
       "\n",
       "    .dataframe thead th {\n",
       "        text-align: right;\n",
       "    }\n",
       "</style>\n",
       "<table border=\"1\" class=\"dataframe\">\n",
       "  <thead>\n",
       "    <tr style=\"text-align: right;\">\n",
       "      <th></th>\n",
       "      <th>OFFENSE_CODE_GROUP</th>\n",
       "    </tr>\n",
       "  </thead>\n",
       "  <tbody>\n",
       "    <tr>\n",
       "      <th>29</th>\n",
       "      <td>Violations</td>\n",
       "    </tr>\n",
       "    <tr>\n",
       "      <th>125</th>\n",
       "      <td>Violations</td>\n",
       "    </tr>\n",
       "    <tr>\n",
       "      <th>134</th>\n",
       "      <td>Violations</td>\n",
       "    </tr>\n",
       "    <tr>\n",
       "      <th>196</th>\n",
       "      <td>Violations</td>\n",
       "    </tr>\n",
       "    <tr>\n",
       "      <th>514</th>\n",
       "      <td>Violations</td>\n",
       "    </tr>\n",
       "    <tr>\n",
       "      <th>...</th>\n",
       "      <td>...</td>\n",
       "    </tr>\n",
       "    <tr>\n",
       "      <th>317985</th>\n",
       "      <td>Violations</td>\n",
       "    </tr>\n",
       "    <tr>\n",
       "      <th>317993</th>\n",
       "      <td>Violations</td>\n",
       "    </tr>\n",
       "    <tr>\n",
       "      <th>317998</th>\n",
       "      <td>Violations</td>\n",
       "    </tr>\n",
       "    <tr>\n",
       "      <th>318221</th>\n",
       "      <td>Violations</td>\n",
       "    </tr>\n",
       "    <tr>\n",
       "      <th>318227</th>\n",
       "      <td>Violations</td>\n",
       "    </tr>\n",
       "  </tbody>\n",
       "</table>\n",
       "<p>2894 rows × 1 columns</p>\n",
       "</div>"
      ],
      "text/plain": [
       "       OFFENSE_CODE_GROUP\n",
       "29             Violations\n",
       "125            Violations\n",
       "134            Violations\n",
       "196            Violations\n",
       "514            Violations\n",
       "...                   ...\n",
       "317985         Violations\n",
       "317993         Violations\n",
       "317998         Violations\n",
       "318221         Violations\n",
       "318227         Violations\n",
       "\n",
       "[2894 rows x 1 columns]"
      ]
     },
     "execution_count": 28,
     "metadata": {},
     "output_type": "execute_result"
    }
   ],
   "source": [
    "#mengecek OFFENSE_CODE_GROUP baru untuk OFFENSE_DESCRIPTION = VAL - VIOLATION OF AUTO LAW - OTHER\n",
    "df[df[\"OFFENSE_DESCRIPTION\"]=='VAL - VIOLATION OF AUTO LAW - OTHER'][['OFFENSE_CODE_GROUP']]"
   ]
  },
  {
   "cell_type": "code",
   "execution_count": 29,
   "id": "f0987db8-6c33-4f6d-aa42-0fd9f7fbfa2f",
   "metadata": {},
   "outputs": [
    {
     "data": {
      "text/plain": [
       "Simple Assault                     24868\n",
       "Drug Violation                     16548\n",
       "Vandalism                          15415\n",
       "Violations                          8989\n",
       "Fraud                               5829\n",
       "Harassment                          4007\n",
       "Confidence Games                    3147\n",
       "Other                               2885\n",
       "Disorderly Conduct                  2611\n",
       "Firearm Violations                  1777\n",
       "Restraining Order Violations        1607\n",
       "Recovered Stolen Property           1455\n",
       "Counterfeiting                      1454\n",
       "Liquor Violation                    1052\n",
       "Ballistics                           981\n",
       "Operating Under the Influence        574\n",
       "License Plate Related Incidents      560\n",
       "Offenses Against Child / Family      545\n",
       "Evading Fare                         407\n",
       "Embezzlement                         296\n",
       "Prisoner Related Incidents           230\n",
       "Prostitution                         207\n",
       "Criminal Harassment                  131\n",
       "Fire Related Reports                 126\n",
       "Bomb Hoax                             75\n",
       "Phone Call Complaints                 31\n",
       "Missing Person Reported               31\n",
       "Explosives                            13\n",
       "Gambling                               8\n",
       "Biological Threat                      2\n",
       "Name: OFFENSE_CODE_GROUP, dtype: int64"
      ]
     },
     "execution_count": 29,
     "metadata": {},
     "output_type": "execute_result"
    }
   ],
   "source": [
    "#mengecek isi data dan jumlahnya pada kolom OFFENSE_CODE_GROUP di UCR Part 2\n",
    "df[df[\"UCR_PART\"]==\"Part Two\"][\"OFFENSE_CODE_GROUP\"].value_counts()"
   ]
  },
  {
   "cell_type": "markdown",
   "id": "2b25bf35-24ac-4191-af43-4579bc95c1cd",
   "metadata": {
    "tags": []
   },
   "source": [
    "### 2.2.8. Penanganan kolom **OFFENSE_CODE**\n",
    "menghapus kolom OFFENSE_CODE karena sudah diwakilkan oleh OFFENSE_CODE_GROUP dan OFFENSE_DESCRIPTION"
   ]
  },
  {
   "cell_type": "code",
   "execution_count": 30,
   "id": "15aaa9e0-c63c-45b5-8152-9fda1aa8ea61",
   "metadata": {},
   "outputs": [],
   "source": [
    "#menghapus kolom Offense Code\n",
    "df.drop(columns=\"OFFENSE_CODE\",inplace=True)"
   ]
  },
  {
   "cell_type": "markdown",
   "id": "121ffcf0-07f4-480e-bdfb-2b4bf8b08824",
   "metadata": {
    "tags": []
   },
   "source": [
    "### 2.2.9. menambahkan kolom week\n",
    "kolom week ialah kolom yang menjelaskan status hari dalam 1 minggu. contoh : weekday dan weekend."
   ]
  },
  {
   "cell_type": "code",
   "execution_count": 31,
   "id": "22e310e6-0515-48a9-be5d-b4cb321cc710",
   "metadata": {},
   "outputs": [],
   "source": [
    "# menambah kolom WEEK berdasarkan DAY_OF_WEEK\n",
    "df.insert(9, 'WEEK', df['DAY_OF_WEEK'].apply(lambda x : 'Weekend' if (x == 'Saturday') | (x == 'Sunday') else 'Weekday'))#['WEEK'] = df['DAY_OF_WEEK'].apply(lambda x : 'Weekend' if (x == 'Saturday') | (x == 'Sunday') else 'Weekday')"
   ]
  },
  {
   "cell_type": "code",
   "execution_count": 32,
   "id": "072c0cac-3a71-40f6-801a-77af02bfa364",
   "metadata": {},
   "outputs": [
    {
     "data": {
      "text/html": [
       "<div>\n",
       "<style scoped>\n",
       "    .dataframe tbody tr th:only-of-type {\n",
       "        vertical-align: middle;\n",
       "    }\n",
       "\n",
       "    .dataframe tbody tr th {\n",
       "        vertical-align: top;\n",
       "    }\n",
       "\n",
       "    .dataframe thead th {\n",
       "        text-align: right;\n",
       "    }\n",
       "</style>\n",
       "<table border=\"1\" class=\"dataframe\">\n",
       "  <thead>\n",
       "    <tr style=\"text-align: right;\">\n",
       "      <th></th>\n",
       "      <th>DAY_OF_WEEK</th>\n",
       "      <th>WEEK</th>\n",
       "    </tr>\n",
       "  </thead>\n",
       "  <tbody>\n",
       "    <tr>\n",
       "      <th>55340</th>\n",
       "      <td>Friday</td>\n",
       "      <td>Weekday</td>\n",
       "    </tr>\n",
       "    <tr>\n",
       "      <th>6347</th>\n",
       "      <td>Saturday</td>\n",
       "      <td>Weekend</td>\n",
       "    </tr>\n",
       "    <tr>\n",
       "      <th>146275</th>\n",
       "      <td>Tuesday</td>\n",
       "      <td>Weekday</td>\n",
       "    </tr>\n",
       "    <tr>\n",
       "      <th>203293</th>\n",
       "      <td>Saturday</td>\n",
       "      <td>Weekend</td>\n",
       "    </tr>\n",
       "    <tr>\n",
       "      <th>128098</th>\n",
       "      <td>Saturday</td>\n",
       "      <td>Weekend</td>\n",
       "    </tr>\n",
       "    <tr>\n",
       "      <th>141787</th>\n",
       "      <td>Friday</td>\n",
       "      <td>Weekday</td>\n",
       "    </tr>\n",
       "    <tr>\n",
       "      <th>78614</th>\n",
       "      <td>Saturday</td>\n",
       "      <td>Weekend</td>\n",
       "    </tr>\n",
       "    <tr>\n",
       "      <th>200097</th>\n",
       "      <td>Wednesday</td>\n",
       "      <td>Weekday</td>\n",
       "    </tr>\n",
       "    <tr>\n",
       "      <th>180433</th>\n",
       "      <td>Thursday</td>\n",
       "      <td>Weekday</td>\n",
       "    </tr>\n",
       "    <tr>\n",
       "      <th>217700</th>\n",
       "      <td>Thursday</td>\n",
       "      <td>Weekday</td>\n",
       "    </tr>\n",
       "  </tbody>\n",
       "</table>\n",
       "</div>"
      ],
      "text/plain": [
       "       DAY_OF_WEEK     WEEK\n",
       "55340       Friday  Weekday\n",
       "6347      Saturday  Weekend\n",
       "146275     Tuesday  Weekday\n",
       "203293    Saturday  Weekend\n",
       "128098    Saturday  Weekend\n",
       "141787      Friday  Weekday\n",
       "78614     Saturday  Weekend\n",
       "200097   Wednesday  Weekday\n",
       "180433    Thursday  Weekday\n",
       "217700    Thursday  Weekday"
      ]
     },
     "execution_count": 32,
     "metadata": {},
     "output_type": "execute_result"
    }
   ],
   "source": [
    "# melihat hari dan status minggunya\n",
    "df[['DAY_OF_WEEK', 'WEEK']].sample(10)"
   ]
  },
  {
   "cell_type": "markdown",
   "id": "e2a7b242-2de2-4346-95b7-fa1b17057805",
   "metadata": {},
   "source": [
    "## 2.3 mencari dan menghilangkan data duplikat\n",
    "setelah kita menangani dan memodifikasi beberapa kolom, selanjutnya kita akan Menghapus data duplikat (Baris data yang memiliki nilai yang sama persis ditiap kolomnya). data duplicat kemungkinan terjadi karena kesalahan disaat input data."
   ]
  },
  {
   "cell_type": "code",
   "execution_count": 33,
   "id": "b9e4b8b1-a4f0-4741-a69c-d2591c7f920d",
   "metadata": {},
   "outputs": [
    {
     "data": {
      "text/plain": [
       "24"
      ]
     },
     "execution_count": 33,
     "metadata": {},
     "output_type": "execute_result"
    }
   ],
   "source": [
    "#mencari jumlah duplicate pada DataFrame\n",
    "df.duplicated().sum()"
   ]
  },
  {
   "cell_type": "markdown",
   "id": "a9b114c3-2304-4ef3-8032-2ed9c3a88b1a",
   "metadata": {},
   "source": [
    "ditemukan terdapat 24 baris data yang memiliki nilai yang sama ditiap kolomnya"
   ]
  },
  {
   "cell_type": "code",
   "execution_count": 34,
   "id": "f4409527-324f-4429-b139-a937f34ed88a",
   "metadata": {},
   "outputs": [],
   "source": [
    "#menghapus data duplikat\n",
    "df.drop_duplicates(inplace=True)"
   ]
  },
  {
   "cell_type": "markdown",
   "id": "07d4d790-6c92-499c-bca5-061dc8846619",
   "metadata": {},
   "source": [
    "\"df.drop_duplicates(inplace=True)\" digunakan untuk menghapus baris yang tiap kolom nya mempunyai data yang persis sama dengan baris lainnya.<br>\n",
    "tetapi setelah dilanjutkan analisis lebih lanjut kolom incident_number bukanlah primary key, karna memiliki nilai duplikat di kolomnya. maka memungkinan ada yang memiliki duplikat incident_number. author biarkan karna walaupun memiliki incident_number yang sama tapi memiliki crime_description yang berbeda di asumsikan bahwa dalam satu incident_number dapat terjadi beberapa kejahatan dalam satu waktu bersamaan."
   ]
  },
  {
   "cell_type": "markdown",
   "id": "39ccc9e1-6d77-4307-b3a0-be0f84387f19",
   "metadata": {},
   "source": [
    "## 2.4 mencari dan menghilangkan missing value"
   ]
  },
  {
   "cell_type": "code",
   "execution_count": 35,
   "id": "318b0aaa-e758-41d7-9679-6efb60e22161",
   "metadata": {},
   "outputs": [
    {
     "data": {
      "text/html": [
       "<div>\n",
       "<style scoped>\n",
       "    .dataframe tbody tr th:only-of-type {\n",
       "        vertical-align: middle;\n",
       "    }\n",
       "\n",
       "    .dataframe tbody tr th {\n",
       "        vertical-align: top;\n",
       "    }\n",
       "\n",
       "    .dataframe thead th {\n",
       "        text-align: right;\n",
       "    }\n",
       "</style>\n",
       "<table border=\"1\" class=\"dataframe\">\n",
       "  <thead>\n",
       "    <tr style=\"text-align: right;\">\n",
       "      <th></th>\n",
       "      <th>total_missing</th>\n",
       "      <th>percent_missing</th>\n",
       "    </tr>\n",
       "  </thead>\n",
       "  <tbody>\n",
       "    <tr>\n",
       "      <th>SHOOTING</th>\n",
       "      <td>318030</td>\n",
       "      <td>99.680613</td>\n",
       "    </tr>\n",
       "    <tr>\n",
       "      <th>Location</th>\n",
       "      <td>20743</td>\n",
       "      <td>6.501509</td>\n",
       "    </tr>\n",
       "    <tr>\n",
       "      <th>Long</th>\n",
       "      <td>20743</td>\n",
       "      <td>6.501509</td>\n",
       "    </tr>\n",
       "    <tr>\n",
       "      <th>Lat</th>\n",
       "      <td>20743</td>\n",
       "      <td>6.501509</td>\n",
       "    </tr>\n",
       "    <tr>\n",
       "      <th>REPORTING_AREA</th>\n",
       "      <td>20263</td>\n",
       "      <td>6.351062</td>\n",
       "    </tr>\n",
       "    <tr>\n",
       "      <th>STREET</th>\n",
       "      <td>10871</td>\n",
       "      <td>3.407314</td>\n",
       "    </tr>\n",
       "    <tr>\n",
       "      <th>DISTRICT</th>\n",
       "      <td>1765</td>\n",
       "      <td>0.553207</td>\n",
       "    </tr>\n",
       "    <tr>\n",
       "      <th>UCR_PART</th>\n",
       "      <td>90</td>\n",
       "      <td>0.028209</td>\n",
       "    </tr>\n",
       "    <tr>\n",
       "      <th>DAY_OF_WEEK</th>\n",
       "      <td>0</td>\n",
       "      <td>0.000000</td>\n",
       "    </tr>\n",
       "    <tr>\n",
       "      <th>HOUR</th>\n",
       "      <td>0</td>\n",
       "      <td>0.000000</td>\n",
       "    </tr>\n",
       "    <tr>\n",
       "      <th>INCIDENT_NUMBER</th>\n",
       "      <td>0</td>\n",
       "      <td>0.000000</td>\n",
       "    </tr>\n",
       "    <tr>\n",
       "      <th>WEEK</th>\n",
       "      <td>0</td>\n",
       "      <td>0.000000</td>\n",
       "    </tr>\n",
       "    <tr>\n",
       "      <th>OFFENSE_CODE_GROUP</th>\n",
       "      <td>0</td>\n",
       "      <td>0.000000</td>\n",
       "    </tr>\n",
       "    <tr>\n",
       "      <th>YEAR</th>\n",
       "      <td>0</td>\n",
       "      <td>0.000000</td>\n",
       "    </tr>\n",
       "    <tr>\n",
       "      <th>OCCURRED_ON_DATE</th>\n",
       "      <td>0</td>\n",
       "      <td>0.000000</td>\n",
       "    </tr>\n",
       "    <tr>\n",
       "      <th>OFFENSE_DESCRIPTION</th>\n",
       "      <td>0</td>\n",
       "      <td>0.000000</td>\n",
       "    </tr>\n",
       "    <tr>\n",
       "      <th>MONTH</th>\n",
       "      <td>0</td>\n",
       "      <td>0.000000</td>\n",
       "    </tr>\n",
       "  </tbody>\n",
       "</table>\n",
       "</div>"
      ],
      "text/plain": [
       "                     total_missing  percent_missing\n",
       "SHOOTING                    318030        99.680613\n",
       "Location                     20743         6.501509\n",
       "Long                         20743         6.501509\n",
       "Lat                          20743         6.501509\n",
       "REPORTING_AREA               20263         6.351062\n",
       "STREET                       10871         3.407314\n",
       "DISTRICT                      1765         0.553207\n",
       "UCR_PART                        90         0.028209\n",
       "DAY_OF_WEEK                      0         0.000000\n",
       "HOUR                             0         0.000000\n",
       "INCIDENT_NUMBER                  0         0.000000\n",
       "WEEK                             0         0.000000\n",
       "OFFENSE_CODE_GROUP               0         0.000000\n",
       "YEAR                             0         0.000000\n",
       "OCCURRED_ON_DATE                 0         0.000000\n",
       "OFFENSE_DESCRIPTION              0         0.000000\n",
       "MONTH                            0         0.000000"
      ]
     },
     "execution_count": 35,
     "metadata": {},
     "output_type": "execute_result"
    }
   ],
   "source": [
    "#melihat jumlah missing di setiap kolom\n",
    "percent_missing = df.isna().sum() * 100 / len(df)\n",
    "missing_value_df = pd.DataFrame({\"total_missing\" : df.isna().sum(),\n",
    "                                 'percent_missing': percent_missing})\n",
    "missing_value_df.sort_values('percent_missing',ascending=False)"
   ]
  },
  {
   "cell_type": "code",
   "execution_count": 36,
   "id": "dc9ee18f-69a3-4dc9-943b-4bad5e3b7c83",
   "metadata": {},
   "outputs": [
    {
     "data": {
      "image/png": "[encoded data removed]",
      "text/plain": [
       "<Figure size 1152x576 with 2 Axes>"
      ]
     },
     "metadata": {
      "needs_background": "light"
     },
     "output_type": "display_data"
    }
   ],
   "source": [
    "#visualisasi missing value\n",
    "plt.figure(figsize=(16,8))\n",
    "sns.heatmap(df[[\"Long\",\"Lat\",\"STREET\",\"DISTRICT\"]].isna())\n",
    "plt.show()"
   ]
  },
  {
   "cell_type": "markdown",
   "id": "f849c22f-74a6-4bc9-b80e-0c15a2a71c7b",
   "metadata": {
    "tags": []
   },
   "source": [
    "## penanganan missing value\n",
    "sebenarnya ada banyak cara untuk menangani missing value:\n",
    "\n",
    "pertama, menghapus baris/kolom yang berisi missing value. Cara ini tidak disarankan dalam kasus kita, karena jumlah missing value yang tergolong cukup tinggi (sampai 32%).\n",
    "kedua, mengisi data yang hilang. Cara ini lebih disarankan. Ada beberapa metode yang bisa digunakan untuk mengisi missing value, cara yang paling baik adalah dengan mengisi data yang hilang dengan nilai sebenarnya, atau sedekat mungkin dengan nilai asli. Dalam kasus ini, kita akan mencoba mengisi missing value berdasarkan kolom lain yang secara domain knowledge atau secara statistik berkaitan dengan kolom yang memiliki missing value. Jika masih ada kolom yang tidak bisa diisi, barulah kita mengisi dengan angka mean, median atau modus. Menghapus data akan menjadi opsi terakhir.\n",
    "* Dapat dilihat kolom \"shooting\" memiliki missing value terbanyak dengan total 99%, disusul kolom \"lan\"(6.5%), \"long\"(6.5%), REPORTING_AREA(6.3%), \"STREET\"(3%), DISTRICT(0,5%), UCR_PART(0.03%).<br> \n",
    "* Dapat dilihat dari visualisasi juga bahwa setiap kolom \"lat\" yang kosong, kemungkinan kolom \"long\" kosong juga.\n",
    "<br>\n",
    "* penanganan yang akan dilakukan pada missing value pada DataFrame ini ialah \n",
    "    1. Menghapus kolom \"shooting\" karena memiliki missing value sampe 99 persen. karena kita tidak punya cukup bukti juga untuk mengasumsikan bahwa data yang kosong pada kolom shooting itu tidak melalakukan penembakan.\n",
    "    1. mengisi kolom UCR_Part dengan Domain Knowledge kita berdasarkan sumber\n",
    "    1. Menghapus baris yang terdapat missing value pada kolom \"lan\", \"reporting area\", \"long\", \"district\", \"UCR_Part\", '\"stree\", \"location\" karna missing value memiliki proporsi yang rendah(<10%) \n",
    "landasan argumen dalam menangani missing value:\n",
    "sebenarnya ada banyak cara untuk menangani missing value:\n",
    "pertama, mengisi data yang hilang. Ada beberapa metode yang bisa digunakan untuk mengisi missing value, cara yang paling baik adalah dengan mengisi data yang hilang dengan nilai sebenarnya, atau sedekat mungkin dengan nilai asli.\n",
    "\n",
    "kedua, menghapus baris/kolom yang berisi missing value apabila missing value hanya beberapa persen di data kita. tidak ada persenan yang mutlak untuk menjadi dasar untuk minimal untuk menghapus missing value. dalam beberapa sumber dikatakan masih normal untuk menghapus data missing value apabila missing value masih di bawah 10%. sedangkan data kita memiliki missing value paling besar hanya 6 persen. maka cara ini yang akan sering dipilih author dalam menangani missing value."
   ]
  },
  {
   "cell_type": "markdown",
   "id": "9d7c8eb7-9450-417a-9c4b-89a4fcf7d070",
   "metadata": {},
   "source": [
    "### 2.4.1 penanganan missing value pada kolom shooting\n",
    "kolom shooting akan dihapus saja, karena kolom shooting hanya terisi 5 persen saja kita tidak punya cukup bukti bahwa nilai yang kosong itu benar tidak melakukan penembakan."
   ]
  },
  {
   "cell_type": "code",
   "execution_count": 37,
   "id": "9a5ed518-642f-4d14-b258-596f0ee539de",
   "metadata": {},
   "outputs": [],
   "source": [
    "# menghapus kolom shooting\n",
    "df.drop(columns=\"SHOOTING\", inplace= True)"
   ]
  },
  {
   "cell_type": "markdown",
   "id": "1b20c75f-e76e-45e2-9d48-a813e926d92c",
   "metadata": {
    "tags": []
   },
   "source": [
    "### 2.4.2 penangan missing value pada kolom UCR_Part\n",
    "kolom UCR_Part dengan Domain Knowledge kita berdasarkan domain knowledge"
   ]
  },
  {
   "cell_type": "code",
   "execution_count": 38,
   "id": "9f8f954c-66aa-40a8-8f8f-54cfb3ec3d86",
   "metadata": {},
   "outputs": [
    {
     "data": {
      "text/plain": [
       "OFFENSE_CODE_GROUP                       \n",
       "HOME INVASION                                77\n",
       "HUMAN TRAFFICKING                             7\n",
       "INVESTIGATE PERSON                            4\n",
       "HUMAN TRAFFICKING - INVOLUNTARY SERVITUDE     2\n",
       "dtype: int64"
      ]
     },
     "execution_count": 38,
     "metadata": {},
     "output_type": "execute_result"
    }
   ],
   "source": [
    "#melihat kategori kejahatan yang Mempunyai missing value di UCR Partnya\n",
    "df[df[\"UCR_PART\"].isna()][['OFFENSE_CODE_GROUP']].value_counts()"
   ]
  },
  {
   "cell_type": "markdown",
   "id": "756677a0-277b-4ceb-84ba-4dad06b5722f",
   "metadata": {},
   "source": [
    "Penggolongan UCR_PART <br>\n",
    "OFFENSE_CODE_GROUP yang Mempunyai missing value di UCR Partnya akan di isi sebagaimana berikut:\n",
    "1. OFFENSE_CODE_GROUP : HOME INVASION, akan dimasukkan ke UCR_PART Part One. dikarenankan menurut https://www.bostoncriminaldefenselawyers.com  Home INvasion adalah bagian dari Buglary, sedangkanBuglary sendiri itu masuk dalam kejahatan bagian 1\n",
    "1. OFFENSE_CODE_GROUP : HUMAN TRAFFICKING dan HUMAN TRAFFICKING - INVOLUNTARY SERVITUDE , akan dimasukkan ke UCR_PART Part One. dikatakan dari https://ncvc.dspacedirect.org/handle/20.500.11990/1171  bahwa HUMAN TRAFFICKING dan HUMAN TRAFFICKING - INVOLUNTARY SERVITUDE ialah kejahatan UCR Part 1\n",
    "1. OFFENSE_CODE_GROUP : INVESTIGATE PERSON, akan dimasukkan ke UCR_PART Part Three. karna mayoritas INVESTIGATE PERSON masuk kedalam UCR Part 3"
   ]
  },
  {
   "cell_type": "code",
   "execution_count": 39,
   "id": "b1c42a22-bae8-4602-bc06-1a7cfec70ea3",
   "metadata": {},
   "outputs": [],
   "source": [
    "#memasukkan UCR PART sesuai dengan UCR Part nya menurut sumber\n",
    "code_group = [['HOME INVASION','HUMAN TRAFFICKING','HUMAN TRAFFICKING - INVOLUNTARY SERVITUDE'],['INVESTIGATE PERSON']]\n",
    "ucr = ['Part One', 'Part Three']\n",
    "\n",
    "for code, part in zip(code_group, ucr) :\n",
    "    df.loc[df['OFFENSE_CODE_GROUP'].isin(code), 'UCR_PART'] = part"
   ]
  },
  {
   "cell_type": "markdown",
   "id": "a3b9c9f9-0dc9-416e-a73f-91bd2498adee",
   "metadata": {},
   "source": [
    "### 2.4.3 penangan missing value pada kolom **lan**, **reporting area**, **long**, **district**, **UCR_Part**, **street**, **location**\n",
    "baris data yang mempunyai nilai kosong di kolom **lan**, **reporting area**, **long**, **district**, **UCR_Part**, **street**, **location** akan dihapus"
   ]
  },
  {
   "cell_type": "code",
   "execution_count": 40,
   "id": "72a2c2c7-fbb6-4042-a03f-b5d38af80767",
   "metadata": {},
   "outputs": [],
   "source": [
    "#menghapus data\n",
    "df.dropna(inplace= True)"
   ]
  },
  {
   "cell_type": "markdown",
   "id": "ed10f405-310b-4766-8405-7989a1df70a6",
   "metadata": {},
   "source": [
    "## 2.5 mengganti nama kolom\n",
    "nama kolom akan diganti agar memudahkan interpretasi dan enak dilihat mata"
   ]
  },
  {
   "cell_type": "code",
   "execution_count": 41,
   "id": "3aac4732-e3cb-4782-a451-1e389a303d98",
   "metadata": {},
   "outputs": [],
   "source": [
    "# mengganti nama kolom\n",
    "rename = {'INCIDENT_NUMBER' : 'Incident_Number',\n",
    "        'OFFENSE_CODE_GROUP':'Crime Classification',\n",
    "          'OFFENSE_DESCRIPTION':'Description',\n",
    "          'DISTRICT':'District',\n",
    "          'REPORTING_AREA' : 'Reporting Area',\n",
    "          'STREET':'Street',        \n",
    "          'OCCURRED_ON_DATE':'Date',\n",
    "          'YEAR':'Year',\n",
    "          'MONTH':'Month',\n",
    "          \"DAY\" : \"Day\",\n",
    "          'DAY_OF_WEEK':'Day Name',\n",
    "          'HOUR':'Hour',\n",
    "         'UCR_PART' : 'UCR Part'}\n",
    "\n",
    "df.rename(columns=rename, inplace=True)"
   ]
  },
  {
   "cell_type": "markdown",
   "id": "1c4d4469-065c-4e64-888e-a205e00ffe63",
   "metadata": {
    "tags": []
   },
   "source": [
    "## 2.6 MEMBAGI 2 DATAFRAME BERDASARKAN UCR_PART\n",
    "#### * sekilas tentang UCR Part<br>\n",
    "Uniform Crime Reporting (UCR) adalah sistem yang dibuat Biro Investigasi Federal (FBI) sebagai upaya statistik nasional dari lembaga penegak hukum federal, negara bagian, lokal, dan suku mewakili lebih dari 98 persen dari total populasi AS. Program ini didasarkan pada partisipasi sukarela untuk memberikan gambaran nasional tentang sifat dan ruang lingkup kejahatan. berdasarkan sistem UCR_Part ini hanya di bagi menjadi 2 bagian saja(Part I dan Part II).\n",
    "\n",
    "#### * UCR Part understanding <br>\n",
    "Setelah melakukan menganalisis Group terhadap tiap UCR_Part nya didapatkan kesimpulan bahwa, data yang yang memiliki UCR_Part 1 dan Part 2, merupakan laporan kejahatan yang diterima di kepolisian department boston, contoh pencurian, pembunuhan, narkoba, dll. Sedangkan data yang memiliki UCR_part Part 3, merupakan respon yang akan dilakukan dari kepolisian department Boston seperti investigasi seseorang, penangkapan, bantuan medis, bantuan kecelakaan lalu lintas,dll.\n",
    "\n",
    "maka dari itu apabila ingin menganalisa kejahatan di Boston hanya perlu menganalisa UCR_Part Part I dan Part II, ssedangkan untuk menganalisa bagaimana respon polisi, yang digunakan ialah UCR_Part Part III.\n",
    "\n",
    "maka dari itu Data akan dibagi menjadi 2, untuk memudahkan menganalisa kejahatan di kota boston dan bagaimana respon kota polisi di kota boston."
   ]
  },
  {
   "cell_type": "markdown",
   "id": "0030a570-850f-4f77-b801-98caedff8a6c",
   "metadata": {},
   "source": [
    "## Melihat kategori kejahatan berdasarkan UCR"
   ]
  },
  {
   "cell_type": "code",
   "execution_count": 42,
   "id": "bf9f2ccf-5b6c-4165-a0cb-3be1360a4f8d",
   "metadata": {},
   "outputs": [
    {
     "data": {
      "text/plain": [
       "array(['Larceny', 'Auto Theft', 'Robbery', 'Larceny From Motor Vehicle',\n",
       "       'Residential Burglary', 'Aggravated Assault', 'Other Burglary',\n",
       "       'Burglary - No Property Taken', 'Arson', 'Auto Theft Recovery',\n",
       "       'Commercial Burglary', 'HOME INVASION', 'Homicide', 'Manslaughter',\n",
       "       'HUMAN TRAFFICKING', 'HUMAN TRAFFICKING - INVOLUNTARY SERVITUDE'],\n",
       "      dtype=object)"
      ]
     },
     "execution_count": 42,
     "metadata": {},
     "output_type": "execute_result"
    }
   ],
   "source": [
    "### Melihat kategori kejahatan berdasarkan UCR Part 1\n",
    "df[df[\"UCR Part\"]==\"Part One\"][\"Crime Classification\"].unique()"
   ]
  },
  {
   "cell_type": "code",
   "execution_count": 43,
   "id": "50a464ba-0f64-4168-b1fe-549c90dbbe59",
   "metadata": {},
   "outputs": [
    {
     "data": {
      "text/plain": [
       "array(['Vandalism', 'Simple Assault', 'Restraining Order Violations',\n",
       "       'Violations', 'Harassment', 'Ballistics', 'Fire Related Reports',\n",
       "       'Disorderly Conduct', 'Other', 'Fraud', 'Drug Violation',\n",
       "       'License Plate Related Incidents', 'Firearm Violations',\n",
       "       'Bomb Hoax', 'Counterfeiting', 'Liquor Violation',\n",
       "       'Operating Under the Influence', 'Confidence Games',\n",
       "       'Recovered Stolen Property', 'Offenses Against Child / Family',\n",
       "       'Prostitution', 'Evading Fare', 'Prisoner Related Incidents',\n",
       "       'Embezzlement', 'Criminal Harassment', 'Explosives',\n",
       "       'Phone Call Complaints', 'Missing Person Reported',\n",
       "       'Biological Threat', 'Gambling'], dtype=object)"
      ]
     },
     "execution_count": 43,
     "metadata": {},
     "output_type": "execute_result"
    }
   ],
   "source": [
    "### Melihat kategori kejahatan berdasarkan UCR part 2\n",
    "df[df[\"UCR Part\"]==\"Part Two\"][\"Crime Classification\"].unique()"
   ]
  },
  {
   "cell_type": "markdown",
   "id": "04469d58-c55c-4ead-ae2c-7878c619dd6e",
   "metadata": {},
   "source": [
    "part I dan II dipenuhi dengan kasus-kasus kriminal"
   ]
  },
  {
   "cell_type": "code",
   "execution_count": 44,
   "id": "19603b8d-cd91-4bf8-a329-7cf6e0bd4ad8",
   "metadata": {},
   "outputs": [
    {
     "data": {
      "text/plain": [
       "array(['Towed', 'Investigate Property', 'Motor Vehicle Accident Response',\n",
       "       'Verbal Disputes', 'Fire Related Reports', 'Property Lost',\n",
       "       'Assembly or Gathering Violations', 'Medical Assistance',\n",
       "       'Property Found', 'Police Service Incidents',\n",
       "       'Property Related Damage', 'Missing Person Reported',\n",
       "       'Investigate Person', 'Warrant Arrests', 'Firearm Discovery',\n",
       "       'Landlord/Tenant Disputes', 'Missing Person Located', 'Service',\n",
       "       'Search Warrants', 'License Violation', 'Harbor Related Incidents',\n",
       "       'Explosives', 'Aircraft', 'Prisoner Related Incidents',\n",
       "       'INVESTIGATE PERSON'], dtype=object)"
      ]
     },
     "execution_count": 44,
     "metadata": {},
     "output_type": "execute_result"
    }
   ],
   "source": [
    "### Melihat kategori kejahatan berdasarkan UCR part 3\n",
    "df[df[\"UCR Part\"]==\"Part Three\"][\"Crime Classification\"].unique()"
   ]
  },
  {
   "cell_type": "markdown",
   "id": "55bc95b6-4d8a-472e-8d61-ef1473b4e063",
   "metadata": {},
   "source": [
    "sedangkan part III hanya respon dari kepolisian department boston terhadap kasus kejahatan"
   ]
  },
  {
   "cell_type": "markdown",
   "id": "87ef38af-c23a-4759-88bf-823632701d86",
   "metadata": {},
   "source": [
    "## membagi data frame yang sudah bersih\n",
    "dataframe yang dibagi ialah dataframe yang sudah dilakukan cleaning sebelumnya, seperti yang sudah dijelaskan sebelumnya dataframe dibagi menjadi 2 agar memudahkan dalam analisis karakteristik kejahatan dan analisis karakteristik respon kepolisian"
   ]
  },
  {
   "cell_type": "code",
   "execution_count": 45,
   "id": "b1995493-e621-4696-8cd9-2e071f1c19a2",
   "metadata": {},
   "outputs": [],
   "source": [
    "# membuat dataframe baru berdasarkan UCR, boleh part 1 atau part 2\n",
    "df_crime = df[(df[\"UCR Part\"]=='Part One') | (df[\"UCR Part\"]=='Part Two')]"
   ]
  },
  {
   "cell_type": "code",
   "execution_count": 46,
   "id": "6f05f1f3-c6ae-49b0-a78c-6bbac72fb353",
   "metadata": {},
   "outputs": [
    {
     "name": "stdout",
     "output_type": "stream",
     "text": [
      "<class 'pandas.core.frame.DataFrame'>\n",
      "Int64Index: 151685 entries, 0 to 319069\n",
      "Data columns (total 16 columns):\n",
      " #   Column                Non-Null Count   Dtype         \n",
      "---  ------                --------------   -----         \n",
      " 0   Incident_Number       151685 non-null  object        \n",
      " 1   Crime Classification  151685 non-null  object        \n",
      " 2   Description           151685 non-null  object        \n",
      " 3   District              151685 non-null  object        \n",
      " 4   Reporting Area        151685 non-null  object        \n",
      " 5   Date                  151685 non-null  datetime64[ns]\n",
      " 6   Year                  151685 non-null  int64         \n",
      " 7   Month                 151685 non-null  int64         \n",
      " 8   WEEK                  151685 non-null  object        \n",
      " 9   Day Name              151685 non-null  object        \n",
      " 10  Hour                  151685 non-null  int64         \n",
      " 11  UCR Part              151685 non-null  object        \n",
      " 12  Street                151685 non-null  object        \n",
      " 13  Lat                   151685 non-null  float64       \n",
      " 14  Long                  151685 non-null  float64       \n",
      " 15  Location              151685 non-null  object        \n",
      "dtypes: datetime64[ns](1), float64(2), int64(3), object(10)\n",
      "memory usage: 19.7+ MB\n"
     ]
    }
   ],
   "source": [
    "#melihat sekilas info dataframe df_crimecrime\n",
    "df_crime.info()"
   ]
  },
  {
   "cell_type": "markdown",
   "id": "014519e2-c35c-4654-a220-48c07fa91d4c",
   "metadata": {},
   "source": [
    "daapt dilihat dataframe df_crime sudah tidak memiliki missing value"
   ]
  },
  {
   "cell_type": "code",
   "execution_count": 47,
   "id": "84332c74-4aa8-4196-8b5a-75b230866bf1",
   "metadata": {},
   "outputs": [
    {
     "data": {
      "text/plain": [
       "(151685, 16)"
      ]
     },
     "execution_count": 47,
     "metadata": {},
     "output_type": "execute_result"
    }
   ],
   "source": [
    "# meihat jumlah baris dan kolom dataframe df_crime\n",
    "df_crime.shape"
   ]
  },
  {
   "cell_type": "markdown",
   "id": "509411bf-177a-4fa5-b8a3-f10c1a096ba4",
   "metadata": {},
   "source": [
    "terdapat 151599 baris dengan 16 kolom"
   ]
  },
  {
   "cell_type": "code",
   "execution_count": 48,
   "id": "782ac5d4-4e1b-4521-8935-3288e98d6bff",
   "metadata": {},
   "outputs": [],
   "source": [
    "df_police = df[df['UCR Part']==\"Part Three\"]"
   ]
  },
  {
   "cell_type": "code",
   "execution_count": 49,
   "id": "6b986a7b-04a9-4378-bd1c-830b75e094ac",
   "metadata": {},
   "outputs": [
    {
     "name": "stdout",
     "output_type": "stream",
     "text": [
      "<class 'pandas.core.frame.DataFrame'>\n",
      "Int64Index: 144434 entries, 2 to 319072\n",
      "Data columns (total 16 columns):\n",
      " #   Column                Non-Null Count   Dtype         \n",
      "---  ------                --------------   -----         \n",
      " 0   Incident_Number       144434 non-null  object        \n",
      " 1   Crime Classification  144434 non-null  object        \n",
      " 2   Description           144434 non-null  object        \n",
      " 3   District              144434 non-null  object        \n",
      " 4   Reporting Area        144434 non-null  object        \n",
      " 5   Date                  144434 non-null  datetime64[ns]\n",
      " 6   Year                  144434 non-null  int64         \n",
      " 7   Month                 144434 non-null  int64         \n",
      " 8   WEEK                  144434 non-null  object        \n",
      " 9   Day Name              144434 non-null  object        \n",
      " 10  Hour                  144434 non-null  int64         \n",
      " 11  UCR Part              144434 non-null  object        \n",
      " 12  Street                144434 non-null  object        \n",
      " 13  Lat                   144434 non-null  float64       \n",
      " 14  Long                  144434 non-null  float64       \n",
      " 15  Location              144434 non-null  object        \n",
      "dtypes: datetime64[ns](1), float64(2), int64(3), object(10)\n",
      "memory usage: 18.7+ MB\n"
     ]
    }
   ],
   "source": [
    "df_police.info()"
   ]
  },
  {
   "cell_type": "markdown",
   "id": "05ea5dec-7a05-4e1e-82e2-58f58b213e7b",
   "metadata": {},
   "source": [
    "dapat dilihat dataframe df_police sudah tidak memiliki missing value"
   ]
  },
  {
   "cell_type": "code",
   "execution_count": 50,
   "id": "d0f82b1d-437f-426e-9795-92f929616bd8",
   "metadata": {},
   "outputs": [
    {
     "data": {
      "text/plain": [
       "(144434, 16)"
      ]
     },
     "execution_count": 50,
     "metadata": {},
     "output_type": "execute_result"
    }
   ],
   "source": [
    "df_police.shape"
   ]
  },
  {
   "cell_type": "markdown",
   "id": "6b916a03-f739-4aeb-a8cd-b3639e1225de",
   "metadata": {},
   "source": [
    "terdapat 144430 baris dengan 16 kolom"
   ]
  },
  {
   "cell_type": "markdown",
   "id": "225c27a8-3456-4754-84ad-748209f8c648",
   "metadata": {},
   "source": [
    "## 2.7 melihat data baru yang akan dipakai"
   ]
  },
  {
   "cell_type": "markdown",
   "id": "631393a6-c75f-4a29-a7e0-fd5fb54ca3b9",
   "metadata": {},
   "source": [
    "Data frame yang akan digunakan ialah Data frame **df_crime** dan dataframe **df_police**"
   ]
  },
  {
   "cell_type": "code",
   "execution_count": 51,
   "id": "80c89fff-b9e8-40b4-937a-a568622f69ee",
   "metadata": {},
   "outputs": [
    {
     "data": {
      "text/html": [
       "<div>\n",
       "<style scoped>\n",
       "    .dataframe tbody tr th:only-of-type {\n",
       "        vertical-align: middle;\n",
       "    }\n",
       "\n",
       "    .dataframe tbody tr th {\n",
       "        vertical-align: top;\n",
       "    }\n",
       "\n",
       "    .dataframe thead th {\n",
       "        text-align: right;\n",
       "    }\n",
       "</style>\n",
       "<table border=\"1\" class=\"dataframe\">\n",
       "  <thead>\n",
       "    <tr style=\"text-align: right;\">\n",
       "      <th></th>\n",
       "      <th>dataFeatures</th>\n",
       "      <th>dataType</th>\n",
       "      <th>null</th>\n",
       "      <th>unique</th>\n",
       "      <th>uniqueSample</th>\n",
       "    </tr>\n",
       "  </thead>\n",
       "  <tbody>\n",
       "    <tr>\n",
       "      <th>0</th>\n",
       "      <td>Incident_Number</td>\n",
       "      <td>object</td>\n",
       "      <td>0</td>\n",
       "      <td>262765</td>\n",
       "      <td>[I162087003, I162062725]</td>\n",
       "    </tr>\n",
       "    <tr>\n",
       "      <th>1</th>\n",
       "      <td>Crime Classification</td>\n",
       "      <td>object</td>\n",
       "      <td>0</td>\n",
       "      <td>67</td>\n",
       "      <td>[Recovered Stolen Property, Investigate Property]</td>\n",
       "    </tr>\n",
       "    <tr>\n",
       "      <th>2</th>\n",
       "      <td>Description</td>\n",
       "      <td>object</td>\n",
       "      <td>0</td>\n",
       "      <td>239</td>\n",
       "      <td>[RECOVERED STOLEN PLATE, PROPERTY - CONCEALING LEASED]</td>\n",
       "    </tr>\n",
       "    <tr>\n",
       "      <th>3</th>\n",
       "      <td>District</td>\n",
       "      <td>object</td>\n",
       "      <td>0</td>\n",
       "      <td>12</td>\n",
       "      <td>[Hyde Park, Charlestown]</td>\n",
       "    </tr>\n",
       "    <tr>\n",
       "      <th>4</th>\n",
       "      <td>Reporting Area</td>\n",
       "      <td>object</td>\n",
       "      <td>0</td>\n",
       "      <td>877</td>\n",
       "      <td>[911, 158]</td>\n",
       "    </tr>\n",
       "    <tr>\n",
       "      <th>5</th>\n",
       "      <td>Date</td>\n",
       "      <td>datetime64[ns]</td>\n",
       "      <td>0</td>\n",
       "      <td>218266</td>\n",
       "      <td>[2017-02-17T12:37:00.000000000, 2017-08-11T22:18:00.000000000]</td>\n",
       "    </tr>\n",
       "    <tr>\n",
       "      <th>6</th>\n",
       "      <td>Year</td>\n",
       "      <td>int64</td>\n",
       "      <td>0</td>\n",
       "      <td>4</td>\n",
       "      <td>[2017, 2015]</td>\n",
       "    </tr>\n",
       "    <tr>\n",
       "      <th>7</th>\n",
       "      <td>Month</td>\n",
       "      <td>int64</td>\n",
       "      <td>0</td>\n",
       "      <td>12</td>\n",
       "      <td>[6, 12]</td>\n",
       "    </tr>\n",
       "    <tr>\n",
       "      <th>8</th>\n",
       "      <td>WEEK</td>\n",
       "      <td>object</td>\n",
       "      <td>0</td>\n",
       "      <td>2</td>\n",
       "      <td>[Weekend, Weekday]</td>\n",
       "    </tr>\n",
       "    <tr>\n",
       "      <th>9</th>\n",
       "      <td>Day Name</td>\n",
       "      <td>object</td>\n",
       "      <td>0</td>\n",
       "      <td>7</td>\n",
       "      <td>[Tuesday, Saturday]</td>\n",
       "    </tr>\n",
       "    <tr>\n",
       "      <th>10</th>\n",
       "      <td>Hour</td>\n",
       "      <td>int64</td>\n",
       "      <td>0</td>\n",
       "      <td>24</td>\n",
       "      <td>[16, 2]</td>\n",
       "    </tr>\n",
       "    <tr>\n",
       "      <th>11</th>\n",
       "      <td>UCR Part</td>\n",
       "      <td>object</td>\n",
       "      <td>0</td>\n",
       "      <td>3</td>\n",
       "      <td>[Part Three, Part One]</td>\n",
       "    </tr>\n",
       "    <tr>\n",
       "      <th>12</th>\n",
       "      <td>Street</td>\n",
       "      <td>object</td>\n",
       "      <td>0</td>\n",
       "      <td>3825</td>\n",
       "      <td>[HILLVIEW AVE, RONALD ST]</td>\n",
       "    </tr>\n",
       "    <tr>\n",
       "      <th>13</th>\n",
       "      <td>Lat</td>\n",
       "      <td>float64</td>\n",
       "      <td>0</td>\n",
       "      <td>17707</td>\n",
       "      <td>[42.29997192, 42.30723884]</td>\n",
       "    </tr>\n",
       "    <tr>\n",
       "      <th>14</th>\n",
       "      <td>Long</td>\n",
       "      <td>float64</td>\n",
       "      <td>0</td>\n",
       "      <td>17705</td>\n",
       "      <td>[-71.05482039, -71.14711055]</td>\n",
       "    </tr>\n",
       "    <tr>\n",
       "      <th>15</th>\n",
       "      <td>Location</td>\n",
       "      <td>object</td>\n",
       "      <td>0</td>\n",
       "      <td>17720</td>\n",
       "      <td>[(42.34778586, -71.07869776), (42.35264685, -71.15807153)]</td>\n",
       "    </tr>\n",
       "  </tbody>\n",
       "</table>\n",
       "</div>"
      ],
      "text/plain": [
       "            dataFeatures        dataType  null  unique  \\\n",
       "0        Incident_Number          object     0  262765   \n",
       "1   Crime Classification          object     0      67   \n",
       "2            Description          object     0     239   \n",
       "3               District          object     0      12   \n",
       "4         Reporting Area          object     0     877   \n",
       "5                   Date  datetime64[ns]     0  218266   \n",
       "6                   Year           int64     0       4   \n",
       "7                  Month           int64     0      12   \n",
       "8                   WEEK          object     0       2   \n",
       "9               Day Name          object     0       7   \n",
       "10                  Hour           int64     0      24   \n",
       "11              UCR Part          object     0       3   \n",
       "12                Street          object     0    3825   \n",
       "13                   Lat         float64     0   17707   \n",
       "14                  Long         float64     0   17705   \n",
       "15              Location          object     0   17720   \n",
       "\n",
       "                                                      uniqueSample  \n",
       "0                                         [I162087003, I162062725]  \n",
       "1                [Recovered Stolen Property, Investigate Property]  \n",
       "2           [RECOVERED STOLEN PLATE, PROPERTY - CONCEALING LEASED]  \n",
       "3                                         [Hyde Park, Charlestown]  \n",
       "4                                                       [911, 158]  \n",
       "5   [2017-02-17T12:37:00.000000000, 2017-08-11T22:18:00.000000000]  \n",
       "6                                                     [2017, 2015]  \n",
       "7                                                          [6, 12]  \n",
       "8                                               [Weekend, Weekday]  \n",
       "9                                              [Tuesday, Saturday]  \n",
       "10                                                         [16, 2]  \n",
       "11                                          [Part Three, Part One]  \n",
       "12                                       [HILLVIEW AVE, RONALD ST]  \n",
       "13                                      [42.29997192, 42.30723884]  \n",
       "14                                    [-71.05482039, -71.14711055]  \n",
       "15      [(42.34778586, -71.07869776), (42.35264685, -71.15807153)]  "
      ]
     },
     "execution_count": 51,
     "metadata": {},
     "output_type": "execute_result"
    }
   ],
   "source": [
    "#melihat nama kolom, tipe data, null, unique, unique sample pada dataframe df_crime\n",
    "listItem = []\n",
    "for col in df_crime.columns :\n",
    "    listItem.append([col, df[col].dtype, df[col].isna().sum(),\n",
    "                    df[col].nunique(), list(df[col].drop_duplicates().sample(2).values)]);\n",
    "\n",
    "df_crimeDesc = pd.DataFrame(columns=['dataFeatures', 'dataType', 'null', 'unique', 'uniqueSample'],\n",
    "                     data=listItem)\n",
    "df_crimeDesc"
   ]
  },
  {
   "cell_type": "code",
   "execution_count": 52,
   "id": "1bcd52d1-f7ef-4f19-b480-0723679e95b1",
   "metadata": {},
   "outputs": [
    {
     "data": {
      "text/html": [
       "<div>\n",
       "<style scoped>\n",
       "    .dataframe tbody tr th:only-of-type {\n",
       "        vertical-align: middle;\n",
       "    }\n",
       "\n",
       "    .dataframe tbody tr th {\n",
       "        vertical-align: top;\n",
       "    }\n",
       "\n",
       "    .dataframe thead th {\n",
       "        text-align: right;\n",
       "    }\n",
       "</style>\n",
       "<table border=\"1\" class=\"dataframe\">\n",
       "  <thead>\n",
       "    <tr style=\"text-align: right;\">\n",
       "      <th></th>\n",
       "      <th>dataFeatures</th>\n",
       "      <th>dataType</th>\n",
       "      <th>null</th>\n",
       "      <th>unique</th>\n",
       "      <th>uniqueSample</th>\n",
       "    </tr>\n",
       "  </thead>\n",
       "  <tbody>\n",
       "    <tr>\n",
       "      <th>0</th>\n",
       "      <td>Incident_Number</td>\n",
       "      <td>object</td>\n",
       "      <td>0</td>\n",
       "      <td>262765</td>\n",
       "      <td>[I172036530, I152082445]</td>\n",
       "    </tr>\n",
       "    <tr>\n",
       "      <th>1</th>\n",
       "      <td>Crime Classification</td>\n",
       "      <td>object</td>\n",
       "      <td>0</td>\n",
       "      <td>67</td>\n",
       "      <td>[Simple Assault, Other Burglary]</td>\n",
       "    </tr>\n",
       "    <tr>\n",
       "      <th>2</th>\n",
       "      <td>Description</td>\n",
       "      <td>object</td>\n",
       "      <td>0</td>\n",
       "      <td>239</td>\n",
       "      <td>[PROSTITUTION - ASSISTING OR PROMOTING, LARCENY ALL OTHERS]</td>\n",
       "    </tr>\n",
       "    <tr>\n",
       "      <th>3</th>\n",
       "      <td>District</td>\n",
       "      <td>object</td>\n",
       "      <td>0</td>\n",
       "      <td>12</td>\n",
       "      <td>[West Roxbury, South Boston]</td>\n",
       "    </tr>\n",
       "    <tr>\n",
       "      <th>4</th>\n",
       "      <td>Reporting Area</td>\n",
       "      <td>object</td>\n",
       "      <td>0</td>\n",
       "      <td>877</td>\n",
       "      <td>[623, 380]</td>\n",
       "    </tr>\n",
       "    <tr>\n",
       "      <th>5</th>\n",
       "      <td>Date</td>\n",
       "      <td>datetime64[ns]</td>\n",
       "      <td>0</td>\n",
       "      <td>218266</td>\n",
       "      <td>[2018-03-25T21:00:00.000000000, 2015-07-06T12:57:00.000000000]</td>\n",
       "    </tr>\n",
       "    <tr>\n",
       "      <th>6</th>\n",
       "      <td>Year</td>\n",
       "      <td>int64</td>\n",
       "      <td>0</td>\n",
       "      <td>4</td>\n",
       "      <td>[2017, 2015]</td>\n",
       "    </tr>\n",
       "    <tr>\n",
       "      <th>7</th>\n",
       "      <td>Month</td>\n",
       "      <td>int64</td>\n",
       "      <td>0</td>\n",
       "      <td>12</td>\n",
       "      <td>[12, 7]</td>\n",
       "    </tr>\n",
       "    <tr>\n",
       "      <th>8</th>\n",
       "      <td>WEEK</td>\n",
       "      <td>object</td>\n",
       "      <td>0</td>\n",
       "      <td>2</td>\n",
       "      <td>[Weekend, Weekday]</td>\n",
       "    </tr>\n",
       "    <tr>\n",
       "      <th>9</th>\n",
       "      <td>Day Name</td>\n",
       "      <td>object</td>\n",
       "      <td>0</td>\n",
       "      <td>7</td>\n",
       "      <td>[Friday, Monday]</td>\n",
       "    </tr>\n",
       "    <tr>\n",
       "      <th>10</th>\n",
       "      <td>Hour</td>\n",
       "      <td>int64</td>\n",
       "      <td>0</td>\n",
       "      <td>24</td>\n",
       "      <td>[23, 17]</td>\n",
       "    </tr>\n",
       "    <tr>\n",
       "      <th>11</th>\n",
       "      <td>UCR Part</td>\n",
       "      <td>object</td>\n",
       "      <td>0</td>\n",
       "      <td>3</td>\n",
       "      <td>[Part One, Part Two]</td>\n",
       "    </tr>\n",
       "    <tr>\n",
       "      <th>12</th>\n",
       "      <td>Street</td>\n",
       "      <td>object</td>\n",
       "      <td>0</td>\n",
       "      <td>3825</td>\n",
       "      <td>[MOTHER JULIA RD, ANTHONY J GRIECO TER]</td>\n",
       "    </tr>\n",
       "    <tr>\n",
       "      <th>13</th>\n",
       "      <td>Lat</td>\n",
       "      <td>float64</td>\n",
       "      <td>0</td>\n",
       "      <td>17707</td>\n",
       "      <td>[42.33664223, 42.28519882]</td>\n",
       "    </tr>\n",
       "    <tr>\n",
       "      <th>14</th>\n",
       "      <td>Long</td>\n",
       "      <td>float64</td>\n",
       "      <td>0</td>\n",
       "      <td>17705</td>\n",
       "      <td>[-71.14936688, -71.03930929]</td>\n",
       "    </tr>\n",
       "    <tr>\n",
       "      <th>15</th>\n",
       "      <td>Location</td>\n",
       "      <td>object</td>\n",
       "      <td>0</td>\n",
       "      <td>17720</td>\n",
       "      <td>[(42.26993218, -71.09750969), (42.30125000, -71.11103000)]</td>\n",
       "    </tr>\n",
       "  </tbody>\n",
       "</table>\n",
       "</div>"
      ],
      "text/plain": [
       "            dataFeatures        dataType  null  unique  \\\n",
       "0        Incident_Number          object     0  262765   \n",
       "1   Crime Classification          object     0      67   \n",
       "2            Description          object     0     239   \n",
       "3               District          object     0      12   \n",
       "4         Reporting Area          object     0     877   \n",
       "5                   Date  datetime64[ns]     0  218266   \n",
       "6                   Year           int64     0       4   \n",
       "7                  Month           int64     0      12   \n",
       "8                   WEEK          object     0       2   \n",
       "9               Day Name          object     0       7   \n",
       "10                  Hour           int64     0      24   \n",
       "11              UCR Part          object     0       3   \n",
       "12                Street          object     0    3825   \n",
       "13                   Lat         float64     0   17707   \n",
       "14                  Long         float64     0   17705   \n",
       "15              Location          object     0   17720   \n",
       "\n",
       "                                                      uniqueSample  \n",
       "0                                         [I172036530, I152082445]  \n",
       "1                                 [Simple Assault, Other Burglary]  \n",
       "2      [PROSTITUTION - ASSISTING OR PROMOTING, LARCENY ALL OTHERS]  \n",
       "3                                     [West Roxbury, South Boston]  \n",
       "4                                                       [623, 380]  \n",
       "5   [2018-03-25T21:00:00.000000000, 2015-07-06T12:57:00.000000000]  \n",
       "6                                                     [2017, 2015]  \n",
       "7                                                          [12, 7]  \n",
       "8                                               [Weekend, Weekday]  \n",
       "9                                                 [Friday, Monday]  \n",
       "10                                                        [23, 17]  \n",
       "11                                            [Part One, Part Two]  \n",
       "12                         [MOTHER JULIA RD, ANTHONY J GRIECO TER]  \n",
       "13                                      [42.33664223, 42.28519882]  \n",
       "14                                    [-71.14936688, -71.03930929]  \n",
       "15      [(42.26993218, -71.09750969), (42.30125000, -71.11103000)]  "
      ]
     },
     "execution_count": 52,
     "metadata": {},
     "output_type": "execute_result"
    }
   ],
   "source": [
    "#melihat nama kolom, tipe data, null, unique, unique sample pada dataframe df_police\n",
    "listItem = []\n",
    "for col in df_police.columns :\n",
    "    listItem.append([col, df[col].dtype, df[col].isna().sum(),\n",
    "                    df[col].nunique(), list(df[col].drop_duplicates().sample(2).values)]);\n",
    "\n",
    "df_policeDesc = pd.DataFrame(columns=['dataFeatures', 'dataType', 'null', 'unique', 'uniqueSample'],\n",
    "                     data=listItem)\n",
    "df_policeDesc"
   ]
  },
  {
   "cell_type": "markdown",
   "id": "f6d32051-ae7b-4c49-aefa-72d2d3d9d37f",
   "metadata": {
    "tags": []
   },
   "source": [
    "## 2.8 menyimpan dataframe baru\n",
    "dataframe yang baru akan dibuatkan file .csv nya sendiri untuk dilakukan visualisasi di tableu"
   ]
  },
  {
   "cell_type": "code",
   "execution_count": 53,
   "id": "55db61f6-e16c-4262-9a32-52fce0673a44",
   "metadata": {},
   "outputs": [],
   "source": [
    "#menyimpan dataframe baru ke file .csv\n",
    "df_crime.to_csv(\"df_crime.csv\", index = False)\n",
    "df_police.to_csv(\"df_police.csv\", index = False)"
   ]
  },
  {
   "cell_type": "markdown",
   "id": "d71cae88-ac46-413a-8b10-71020f4d4cc6",
   "metadata": {
    "tags": []
   },
   "source": [
    "# EXPLANATORY DATA ANALYSIS"
   ]
  },
  {
   "cell_type": "markdown",
   "id": "89fe8530-3f77-4035-9566-ddb255f2eef8",
   "metadata": {
    "tags": []
   },
   "source": [
    "## 1. Melihat Bagaimana Karakteristik Kejahatan di kota Boston\n",
    "sekarang kita akan melihat bagaimana Karakteristik Kejahatan Yang Ada Pada Kota Boston yang ditinjau dari beberapa aspek."
   ]
  },
  {
   "cell_type": "markdown",
   "id": "56e05596-9ae4-4a9c-beda-b698950218b6",
   "metadata": {},
   "source": [
    "## Melihat Jumlah Kasus Category Kejahatan Terbanyak di Boston"
   ]
  },
  {
   "cell_type": "code",
   "execution_count": 54,
   "id": "854d8d3d-3410-44f3-b919-6f6db7ee5557",
   "metadata": {},
   "outputs": [
    {
     "data": {
      "image/png": "[encoded data removed]",
      "text/plain": [
       "<Figure size 864x432 with 1 Axes>"
      ]
     },
     "metadata": {
      "needs_background": "light"
     },
     "output_type": "display_data"
    }
   ],
   "source": [
    "# membuat barplot berdasarkan jenis kejahatan [Crime Classification] dan kategori UCR I\n",
    "ucr_table = df_crime[['Crime Classification']].value_counts().reset_index().rename(columns={'Crime Classification' : 'Jenis Kejahatan', 0 : 'Jumlah Kasus'}).head(10)\n",
    "plt.figure(figsize=(12,6))\n",
    "ax = sns.barplot(data=ucr_table, x = 'Jumlah Kasus', y ='Jenis Kejahatan', ci=0, order=ucr_table['Jenis Kejahatan'], palette=['navy'])\n",
    "plt.title('TOP 10 Kejahatan yang sering terjadi di Boston')\n",
    "container = ax.containers[0]\n",
    "ax.bar_label(container , labels=[f'{x:,.0f}' for x in container.datavalues], label_type='edge', padding = 5)\n",
    "plt.xticks(range(0,40001,5000))\n",
    "plt.show()"
   ]
  },
  {
   "cell_type": "raw",
   "id": "fad11e4b-10c6-42f3-807a-ea0aa91f214e",
   "metadata": {},
   "source": [
    "dapat dilihat larceny/pencurian ialah kejahatan yang paling sering dilakukan di kota Boston, sedangkan Simple Assault menjadi kategori kejahatan kedua terbanyak setelah larceny. kategori kejahatan terbanyak nomor 1 dan 2 diboston mempunyai perbedaan jumlah kasus yang cukup tinggi, apabila dibandingkan dengan kategori-kategori kejahtan lainnya. kategori kejahatan terbanyak setelah larceny/pencurian dipegang oleh kategori seperti  Simple Assault, Drug Violation, Vandalism. Tindakan larceny disini ialah pencurian atau pengambilan milik seseorang tanpa izin dan dengan maksud untuk merampas secara permanen dari pemilik aslinya. seperti mencuri peralatan rumah , mencuri dompet, hp dll. sedangkan simple assault mengacu pada ancaman atau percobaan melukai individu lain. kejahatan larceny dan simple assault pada faktanya ialah kejahatan yang sering terjadi di \"jalanan\", maka dari itu perlu pengawasan yang lebih lagi dari kepolisian kota  boston untuk menaruh atau menyabarkan anggota-anggota nya dekat dengan titik yang banyak di lewati warga."
   ]
  },
  {
   "cell_type": "markdown",
   "id": "e5a83f40-71eb-4a56-8839-40ba98ee571c",
   "metadata": {},
   "source": [
    "## Melihat Jumlah Kasus Category Kejahatan Terbanyak di Boston berdasarkan UCR Part"
   ]
  },
  {
   "cell_type": "markdown",
   "id": "1859f09b-4c78-40c9-b3a8-59dc18ce2df6",
   "metadata": {},
   "source": [
    "seperti yang sudah dijelaskan sebelumnya bahwa kategori kejahatan dibagi menjadi 2 berdasarkan UCR Partnya oleh Department of Justice Federal Bureau of Investigation(FBI)  menjadi kategori kejahatan bagian 1 dan kategori kejahatan bagian 2. sekarang kita akan melihat kejahatan apa yang paling banyak di tiap kategorinya."
   ]
  },
  {
   "cell_type": "code",
   "execution_count": 55,
   "id": "dad0ac89-84ee-47aa-b995-ef3c7fbdf81e",
   "metadata": {},
   "outputs": [
    {
     "data": {
      "image/png": "[encoded data removed]",
      "text/plain": [
       "<Figure size 864x432 with 1 Axes>"
      ]
     },
     "metadata": {
      "needs_background": "light"
     },
     "output_type": "display_data"
    }
   ],
   "source": [
    "# membuat barplot berdasarkan jenis kejahatan [OFFENSE_CODE_GROUP] dan kategori UCR part One\n",
    "ucr_table = df_crime[df_crime['UCR Part']==\"Part One\"][['Crime Classification']].value_counts().reset_index().rename(columns={'Crime Classification' : 'Jenis Kejahatan', 0 : 'Jumlah Kasus'}).head(10)\n",
    "plt.figure(figsize=(12,6))\n",
    "ax = sns.barplot(data=ucr_table, x = 'Jumlah Kasus', y ='Jenis Kejahatan', ci=0, order=ucr_table['Jenis Kejahatan'], palette=['navy'])\n",
    "plt.title(\"TOP 10 Insiden Kejahatan pada kategori UCR Part One \")\n",
    "container = ax.containers[0]\n",
    "ax.bar_label(container , labels=[f'{x:,.0f}' for x in container.datavalues], label_type='edge', padding = 5)\n",
    "plt.xticks(range(0,40001,5000))\n",
    "plt.show()"
   ]
  },
  {
   "cell_type": "markdown",
   "id": "d4614550-4c6e-41c5-a59f-6235de192492",
   "metadata": {},
   "source": [
    "UCR Part 1 dapat dikatakan sebagai category kejahatan bagian 1. kategori-kategori kejahatan di UCR Part bagian 1 ini sudah diatur oleh Department of Justice Federal Bureau of Investigation(FBI). dapat dilihat pada visualisasi, kategori Larceni dan Larceny From Motor Vechicle masih menjadi kategori kriminal dengan kasus terbanyak dan kedua di UCR Part bagian 1, disusul  dengan aggravated Assault, Residential Burglary dan seterusnya seperti pada tampilan visual. dapat dilihat kebanyakan dari kategori kejahatan terbanyak di UCR Part 1 ini berhubungan dengan tindakan kriminal yang berjenis pencurian seperti(*Larceny, Larceny from Motor Vehicle, residential Burglary, Auto Theft dll*). kejahatan larceny bisa dicegah dengan memperbanyak pengawasan di kota boston, bisa dilakukan dengan penerapan cctv maupun penyebaran anggota di titik2 keramaian."
   ]
  },
  {
   "cell_type": "code",
   "execution_count": 56,
   "id": "8c391e6c-2338-4dbe-9255-3d2e9d55eebc",
   "metadata": {},
   "outputs": [
    {
     "data": {
      "image/png": "[encoded data removed]",
      "text/plain": [
       "<Figure size 864x432 with 1 Axes>"
      ]
     },
     "metadata": {
      "needs_background": "light"
     },
     "output_type": "display_data"
    }
   ],
   "source": [
    "# membuat barplot berdasarkan jenis kejahatan [Crime Classification] dan kategori UCR Part 2\n",
    "ucr_table = df_crime[df_crime['UCR Part']==\"Part Two\"][['Crime Classification']].value_counts().reset_index().rename(columns={'Crime Classification' : 'Jenis Kejahatan', 0 : 'Jumlah Kasus'}).head(10)\n",
    "plt.figure(figsize=(12,6))\n",
    "ax = sns.barplot(data=ucr_table, x = 'Jumlah Kasus', y ='Jenis Kejahatan', ci=0, order=ucr_table['Jenis Kejahatan'], palette=['navy'])\n",
    "plt.title(f'TOP 10 Insiden Kejahatan pada kategori UCR Part Two')\n",
    "container = ax.containers[0]\n",
    "ax.bar_label(container , labels=[f'{x:,.0f}' for x in container.datavalues], label_type='edge', padding = 5)\n",
    "plt.xticks(range(0,40001,5000))\n",
    "plt.show()"
   ]
  },
  {
   "cell_type": "markdown",
   "id": "feb3c040-3214-4736-a90b-4ac91f6a4f56",
   "metadata": {},
   "source": [
    "UCR Part 2 dapat dikatakan sebagai category kejahatan bagian 2. kategori-kategori kejahatan di UCR Part bagian 2 ini ialah kejahatan selain yang sudah diatur pada UCR Part bagian 1. dapat dilihat pada visualisasi, kategori Simple Assault menjadi kategori kriminal dengan jumlah kasus terbanyak di UCR Part Part 2. kategori Drug Violation, dan Vandalism juga mempunyai jumlah kasus cukup banyak di banding kategori-kategori kejahatan lainnya di UCR Part Part 2. dapat dilihat bahwa kasus kejahatan yang sering terjadi pada pada UCR Part 2 mayoritas ialah kejahatan yang melibatkan sesama penduduk kota Boston(simple assault, violations, fraud, harrasment, Disorderly Conduct). kejahatan jenis ini seharusnya dapat dicegah jika banyak anggota polisi yang berjaga di titik-titik yang rawan akan terjadinya singgungan antar tiap warga boston"
   ]
  },
  {
   "cell_type": "markdown",
   "id": "269d1ff6-272c-4d30-85bb-bc7e51ac0320",
   "metadata": {
    "tags": []
   },
   "source": [
    "## Melihat Tren Kejahatan Berdasarkan Waktu\n",
    "setelah mengetahui kejahatan mana yang paling sering terjadi di kota boston dan kejahatan mana yang paling sering terjadi di tiap UCR Partnya, sekarang kita akan melihat tren kejahatan berdasarkan waktu\n",
    "1. tren kejahatan berdasarkan Tahun\n",
    "1.. Tren kejahatan berdasarkan Bulan\n",
    "1. Tren Kejahatan berdasarkan minggu\n",
    "1. Tren Kejahatan berdasarkan hari\n",
    "1. Tren Kejahatan berdasarkan jam"
   ]
  },
  {
   "cell_type": "markdown",
   "id": "9d8bd33e-1d85-4d1e-8aea-b635cfae7487",
   "metadata": {},
   "source": [
    "### Tren Kejahatan Berdasarkan Tahun"
   ]
  },
  {
   "cell_type": "code",
   "execution_count": 57,
   "id": "dad86cac-d18a-4507-8ea6-59ab36375d4a",
   "metadata": {},
   "outputs": [
    {
     "data": {
      "text/plain": [
       "Year\n",
       "2015   2015-06-15\n",
       "2016   2016-01-01\n",
       "2017   2017-01-01\n",
       "2018   2018-01-01\n",
       "Name: Date, dtype: datetime64[ns]"
      ]
     },
     "metadata": {},
     "output_type": "display_data"
    },
    {
     "data": {
      "text/plain": [
       "Year\n",
       "2015   2015-12-31 23:54:00\n",
       "2016   2016-12-31 23:40:00\n",
       "2017   2017-12-31 23:57:00\n",
       "2018   2018-09-03 21:25:00\n",
       "Name: Date, dtype: datetime64[ns]"
      ]
     },
     "metadata": {},
     "output_type": "display_data"
    }
   ],
   "source": [
    "#melihat tanggal pengambilan data awal di tiap tahunnya\n",
    "display(df.groupby(\"Year\").min()[\"Date\"],df.groupby(\"Year\").max()[\"Date\"])"
   ]
  },
  {
   "cell_type": "markdown",
   "id": "177e8a8f-1cb6-4824-b7d9-4a9118646ef9",
   "metadata": {},
   "source": [
    "Setelah dilakukan analisis lebih lanjut ditemukan bahwa pengambilan data pada tahun 2015 dan 2018 tidaklah komplit/sempurna pengambilannya, dikarenakan pada tahun 2015 data  yang tersedia hanya dimulai dari tanggal 15 bulan juni, sedangkan untuk tahun 2018, pengambilan data hanya sampai tanggal 3 september saja. maka dari itu, untuk menghindari bias kita akan melihat rata-rata perharinya di tiap waktu yang akan di analisis."
   ]
  },
  {
   "cell_type": "code",
   "execution_count": 58,
   "id": "601e5879-60b9-419e-94dc-d89a1d2a2951",
   "metadata": {},
   "outputs": [
    {
     "data": {
      "text/html": [
       "<div>\n",
       "<style scoped>\n",
       "    .dataframe tbody tr th:only-of-type {\n",
       "        vertical-align: middle;\n",
       "    }\n",
       "\n",
       "    .dataframe tbody tr th {\n",
       "        vertical-align: top;\n",
       "    }\n",
       "\n",
       "    .dataframe thead th {\n",
       "        text-align: right;\n",
       "    }\n",
       "</style>\n",
       "<table border=\"1\" class=\"dataframe\">\n",
       "  <thead>\n",
       "    <tr style=\"text-align: right;\">\n",
       "      <th></th>\n",
       "      <th>Tanggal</th>\n",
       "      <th>Jumlah Kasus</th>\n",
       "      <th>Tahun</th>\n",
       "    </tr>\n",
       "  </thead>\n",
       "  <tbody>\n",
       "    <tr>\n",
       "      <th>0</th>\n",
       "      <td>01 Apr 16</td>\n",
       "      <td>175</td>\n",
       "      <td>2016</td>\n",
       "    </tr>\n",
       "    <tr>\n",
       "      <th>1</th>\n",
       "      <td>01 Apr 17</td>\n",
       "      <td>125</td>\n",
       "      <td>2017</td>\n",
       "    </tr>\n",
       "    <tr>\n",
       "      <th>2</th>\n",
       "      <td>01 Apr 18</td>\n",
       "      <td>111</td>\n",
       "      <td>2018</td>\n",
       "    </tr>\n",
       "    <tr>\n",
       "      <th>3</th>\n",
       "      <td>01 Aug 15</td>\n",
       "      <td>143</td>\n",
       "      <td>2015</td>\n",
       "    </tr>\n",
       "    <tr>\n",
       "      <th>4</th>\n",
       "      <td>01 Aug 16</td>\n",
       "      <td>143</td>\n",
       "      <td>2016</td>\n",
       "    </tr>\n",
       "  </tbody>\n",
       "</table>\n",
       "</div>"
      ],
      "text/plain": [
       "     Tanggal  Jumlah Kasus  Tahun\n",
       "0  01 Apr 16           175   2016\n",
       "1  01 Apr 17           125   2017\n",
       "2  01 Apr 18           111   2018\n",
       "3  01 Aug 15           143   2015\n",
       "4  01 Aug 16           143   2016"
      ]
     },
     "execution_count": 58,
     "metadata": {},
     "output_type": "execute_result"
    }
   ],
   "source": [
    "# membuat tabel yang berisi tanggal, jumlah kasus, dan tahun\n",
    "kasus_tahunan = df_crime[['Date', 'Year']].copy()\n",
    "kasus_tahunan['Date'] = pd.to_datetime(kasus_tahunan['Date'].sort_values()).dt.strftime('%d %b %y')\n",
    "df_A = kasus_tahunan.groupby('Date').count().reset_index().rename(columns={'Date' : 'Tanggal', 'Year' : 'Jumlah Kasus'})\n",
    "df_B = kasus_tahunan.groupby('Date').max().reset_index().rename(columns={'Date' : 'Tanggal', 'Year' : 'Tahun'})\n",
    "\n",
    "kasus_tahunan = df_A.merge(df_B)\n",
    "kasus_tahunan.head()"
   ]
  },
  {
   "cell_type": "code",
   "execution_count": 59,
   "id": "81b160c5-9515-45bb-b8a8-faa5918573dd",
   "metadata": {},
   "outputs": [
    {
     "data": {
      "text/html": [
       "<div>\n",
       "<style scoped>\n",
       "    .dataframe tbody tr th:only-of-type {\n",
       "        vertical-align: middle;\n",
       "    }\n",
       "\n",
       "    .dataframe tbody tr th {\n",
       "        vertical-align: top;\n",
       "    }\n",
       "\n",
       "    .dataframe thead th {\n",
       "        text-align: right;\n",
       "    }\n",
       "</style>\n",
       "<table border=\"1\" class=\"dataframe\">\n",
       "  <thead>\n",
       "    <tr style=\"text-align: right;\">\n",
       "      <th></th>\n",
       "      <th>Tahun</th>\n",
       "      <th>Jumlah Kasus</th>\n",
       "    </tr>\n",
       "  </thead>\n",
       "  <tbody>\n",
       "    <tr>\n",
       "      <th>0</th>\n",
       "      <td>2015</td>\n",
       "      <td>145.855000</td>\n",
       "    </tr>\n",
       "    <tr>\n",
       "      <th>1</th>\n",
       "      <td>2016</td>\n",
       "      <td>129.090164</td>\n",
       "    </tr>\n",
       "    <tr>\n",
       "      <th>2</th>\n",
       "      <td>2017</td>\n",
       "      <td>124.430137</td>\n",
       "    </tr>\n",
       "    <tr>\n",
       "      <th>3</th>\n",
       "      <td>2018</td>\n",
       "      <td>121.341463</td>\n",
       "    </tr>\n",
       "  </tbody>\n",
       "</table>\n",
       "</div>"
      ],
      "text/plain": [
       "   Tahun  Jumlah Kasus\n",
       "0   2015    145.855000\n",
       "1   2016    129.090164\n",
       "2   2017    124.430137\n",
       "3   2018    121.341463"
      ]
     },
     "execution_count": 59,
     "metadata": {},
     "output_type": "execute_result"
    }
   ],
   "source": [
    "# melihat rata-rata jumlah kasus pada tiap tahunan\n",
    "rata_tahunan = kasus_tahunan.groupby('Tahun').mean().reset_index()\n",
    "rata_tahunan.head()"
   ]
  },
  {
   "cell_type": "code",
   "execution_count": 60,
   "id": "7f780799-b2eb-4760-8abd-454a2fa5f5ee",
   "metadata": {},
   "outputs": [
    {
     "data": {
      "image/png": "[encoded data removed]",
      "text/plain": [
       "<Figure size 1008x576 with 1 Axes>"
      ]
     },
     "metadata": {
      "needs_background": "light"
     },
     "output_type": "display_data"
    }
   ],
   "source": [
    "#visualisasi untuk melihat rata-rata Kasus Kejahatan  perhari pada Tahun 2015-2018\n",
    "plt.figure(figsize=(14,8))\n",
    "sns.barplot(data=kasus_tahunan, x='Tahun', y = 'Jumlah Kasus', palette=['navy'])\n",
    "plt.title(f'Rata-Rata Jumlah Kejahatan perhari di tiap Tahunnya\\n dari tahun 2015-2018')\n",
    "for i in range(4):\n",
    "    plt.text(-0.0491+i,rata_tahunan[\"Jumlah Kasus\"].iloc[i]+4.5,round(rata_tahunan[\"Jumlah Kasus\"].iloc[i]))\n",
    "plt.ylabel(\"Rata-Rata Jumlah \\nKejahatan perhari\")\n",
    "plt.show()"
   ]
  },
  {
   "cell_type": "markdown",
   "id": "80ad4719-1a44-41ad-9c4a-a13141d01920",
   "metadata": {},
   "source": [
    "dapat dilihat di atas merupakan visualisasi rata-rata jumlajh kasus kejahatan perhari di tiap tahun dari tahun 2015-2018. alih-alih menggunakan jumlah kasus kriminal, digunakan rata-rata jumlah kasus perhari ditiap tahunnya seperti gambar visualisasi di atas agar memudahkan interpretasi dan mengurangi bias karena pengambilan data yang kurang lengkap di tiap tahunnya. dapat dilihat pada visualisasi dari tahun 2015 sampai 2018 terdapat tren penurunan rata-rata kasus kejahatan perharinya. hal ini membuktikan kebijakan yang sudah ada cukup baik sehingga dapat mengurangi rata-rata kasus perhari ditiap tahunnya. tapi tentu kebijakan perlu sering di tinjau ulang dan diperbaiki di kebijakan yang kurang efektif agar kebijakan selalu sesuai dengan keadaan yang dibutuhkan."
   ]
  },
  {
   "cell_type": "markdown",
   "id": "8e888e7e-f8a8-427b-a68d-9bd6977de159",
   "metadata": {},
   "source": [
    "## Melihat Tren Kejahatan Berdasarkan Bulan"
   ]
  },
  {
   "cell_type": "code",
   "execution_count": 61,
   "id": "ddb77f0b-fd63-4ce7-9c81-51253aac6e87",
   "metadata": {
    "tags": []
   },
   "outputs": [
    {
     "data": {
      "text/html": [
       "<div>\n",
       "<style scoped>\n",
       "    .dataframe tbody tr th:only-of-type {\n",
       "        vertical-align: middle;\n",
       "    }\n",
       "\n",
       "    .dataframe tbody tr th {\n",
       "        vertical-align: top;\n",
       "    }\n",
       "\n",
       "    .dataframe thead th {\n",
       "        text-align: right;\n",
       "    }\n",
       "</style>\n",
       "<table border=\"1\" class=\"dataframe\">\n",
       "  <thead>\n",
       "    <tr style=\"text-align: right;\">\n",
       "      <th></th>\n",
       "      <th>Tanggal</th>\n",
       "      <th>Jumlah Kasus</th>\n",
       "      <th>Bulan</th>\n",
       "    </tr>\n",
       "  </thead>\n",
       "  <tbody>\n",
       "    <tr>\n",
       "      <th>0</th>\n",
       "      <td>01 Apr 16</td>\n",
       "      <td>175</td>\n",
       "      <td>4</td>\n",
       "    </tr>\n",
       "    <tr>\n",
       "      <th>1</th>\n",
       "      <td>01 Apr 17</td>\n",
       "      <td>125</td>\n",
       "      <td>4</td>\n",
       "    </tr>\n",
       "    <tr>\n",
       "      <th>2</th>\n",
       "      <td>01 Apr 18</td>\n",
       "      <td>111</td>\n",
       "      <td>4</td>\n",
       "    </tr>\n",
       "    <tr>\n",
       "      <th>3</th>\n",
       "      <td>01 Aug 15</td>\n",
       "      <td>143</td>\n",
       "      <td>8</td>\n",
       "    </tr>\n",
       "    <tr>\n",
       "      <th>4</th>\n",
       "      <td>01 Aug 16</td>\n",
       "      <td>143</td>\n",
       "      <td>8</td>\n",
       "    </tr>\n",
       "  </tbody>\n",
       "</table>\n",
       "</div>"
      ],
      "text/plain": [
       "     Tanggal  Jumlah Kasus  Bulan\n",
       "0  01 Apr 16           175      4\n",
       "1  01 Apr 17           125      4\n",
       "2  01 Apr 18           111      4\n",
       "3  01 Aug 15           143      8\n",
       "4  01 Aug 16           143      8"
      ]
     },
     "execution_count": 61,
     "metadata": {},
     "output_type": "execute_result"
    }
   ],
   "source": [
    "# membuat tabel yang berisi tanggal, jumlah kasus, dan bulan\n",
    "kasus_bulanan = df_crime[['Date', 'Month']].copy()\n",
    "kasus_bulanan['Date'] = pd.to_datetime(kasus_bulanan['Date'].sort_values()).dt.strftime('%d %b %y')\n",
    "df_A = kasus_bulanan.groupby('Date').count().reset_index().rename(columns={'Date' : 'Tanggal', 'Month' : 'Jumlah Kasus'})\n",
    "df_B = kasus_bulanan.groupby('Date').max().reset_index().rename(columns={'Date' : 'Tanggal', 'Month' : 'Bulan'})\n",
    "\n",
    "kasus_bulanan = df_A.merge(df_B)\n",
    "kasus_bulanan.head()"
   ]
  },
  {
   "cell_type": "code",
   "execution_count": 62,
   "id": "8a64b5d7-a81f-4916-a006-13292a53243c",
   "metadata": {},
   "outputs": [
    {
     "data": {
      "image/png": "[encoded data removed]",
      "text/plain": [
       "<Figure size 1008x576 with 1 Axes>"
      ]
     },
     "metadata": {
      "needs_background": "light"
     },
     "output_type": "display_data"
    }
   ],
   "source": [
    "#visualisasi untuk melihat rata-rata Kasus Kejahatan di tiap bulannya pada Tahun 2015-2018\n",
    "plt.figure(figsize=(14,8))\n",
    "ax = sns.barplot(data=kasus_bulanan, x='Bulan', y = 'Jumlah Kasus', ci=0, palette=['navy', 'red'])\n",
    "plt.title(f'Rata-Rata Jumlah Kejahatan perhari di tiap bulannya\\n dari tahun 2015-2018')\n",
    "container = ax.containers[0]\n",
    "ax.bar_label(container , labels=[f'{x:,.0f}' for x in container.datavalues], label_type='edge', padding = 1)\n",
    "months = ['Jan','Feb','Mar','Apr','May','Jun','Jul','Aug','Sep','Oct','Nov','Dec']\n",
    "plt.yticks(range(0,201,50))\n",
    "plt.xticks(range(0,12),months)\n",
    "plt.ylabel('Rata-Rata Jumlah \\nKejahatan perhari')\n",
    "ax;"
   ]
  },
  {
   "cell_type": "markdown",
   "id": "ea1a847d-d9d5-493b-8c4d-5fdd087708ff",
   "metadata": {},
   "source": [
    "sama seperti visualisasi kejahatan di tiap tahunnya, untuk menghindari bias, maka saat membandingkan jumlah kejahatan di tiap bulannya yang dipakai adalah rata-rata jumlah kasus perhari ditiap bulannya dari tahun 2015 s/d 2018, seperti visualisasi diatas. didapatkan pola bahwa tingkat kriminalitas naik pada bulan sekitar april dan sampai puncaknya di bulan september. setelah september jumlah kriminalitas cenderung turun dari bulan ke bulan selanjutnya. hal ini kemungkinan besar berhubungan dengan bulan produktif di amerika serikat. akhir bulan maret ialah bulan berahirnya musim dingin, dan menandakan awal musim semi, yang dimana : \n",
    "1. boston akan dipenuhi oleh pelajar pelajar dari seluruh amerika bahkan seluruh dunia dikarenakan boston ialah kota pelajar di amerika karena banyaknya pelajar disana dan juga tentu karena kualitas pendidikan kota boston yang terbaik di amerika serikat, sehingga seluruh pelajar yang belajar di kota boston tentu akan kembali memnuhi kota boston setelah liburan musim dingin.\n",
    "2. bulan maret-agustus ialah bulan yang paling disenangi oleh turis untuk datang ke amerika karena sedang dalam musim semi dan gugur yang suhunya cenderung disukai oleh turis.\n",
    "alasan2 diataslah yang tentu akan menyababkan lonjakan populasi di boston daripada bulan2 lainnya, yang tentu akan membuat kemungkinan para pelaku kriminalitas melakukan kejahatan lebih tinggi. maka dari itu dibutuhkan anggota ekstra di bulan-bulan dengan tingkat kriminalitas yang tinggi yaitu bulan-bulan di bulan yang bermusim semi dan panas(april, mei, juni, juli, agustus, september).\n"
   ]
  },
  {
   "cell_type": "markdown",
   "id": "a60e3091-f575-4d40-8e2b-0cc5474815ed",
   "metadata": {
    "tags": []
   },
   "source": [
    "## Melihat Mayoritas Kejahatan yang muncul di Bulan yang mempunyai rata-rata jumlah kasus tertinggi.\n",
    "setelah mengetahui bulan-bulan mana yang memiliki rata-rata jumlah kasus tertinggi(april-september), sekarang akan dilakukan pengecekan untuk mengetahui mayoritas pelanggaran apa yang dilakukan di bulan-bulan tersebut."
   ]
  },
  {
   "cell_type": "code",
   "execution_count": 63,
   "id": "a3c5322b-930a-4641-a6f2-214c0c5efe02",
   "metadata": {},
   "outputs": [
    {
     "data": {
      "text/html": [
       "<div>\n",
       "<style scoped>\n",
       "    .dataframe tbody tr th:only-of-type {\n",
       "        vertical-align: middle;\n",
       "    }\n",
       "\n",
       "    .dataframe tbody tr th {\n",
       "        vertical-align: top;\n",
       "    }\n",
       "\n",
       "    .dataframe thead th {\n",
       "        text-align: right;\n",
       "    }\n",
       "</style>\n",
       "<table border=\"1\" class=\"dataframe\">\n",
       "  <thead>\n",
       "    <tr style=\"text-align: right;\">\n",
       "      <th></th>\n",
       "      <th>Jenis Kejahatan</th>\n",
       "      <th>Jumlah Kasus</th>\n",
       "    </tr>\n",
       "  </thead>\n",
       "  <tbody>\n",
       "    <tr>\n",
       "      <th>0</th>\n",
       "      <td>Larceny</td>\n",
       "      <td>13939</td>\n",
       "    </tr>\n",
       "    <tr>\n",
       "      <th>1</th>\n",
       "      <td>Simple Assault</td>\n",
       "      <td>13153</td>\n",
       "    </tr>\n",
       "    <tr>\n",
       "      <th>2</th>\n",
       "      <td>Vandalism</td>\n",
       "      <td>8248</td>\n",
       "    </tr>\n",
       "    <tr>\n",
       "      <th>3</th>\n",
       "      <td>Drug Violation</td>\n",
       "      <td>7798</td>\n",
       "    </tr>\n",
       "    <tr>\n",
       "      <th>4</th>\n",
       "      <td>Larceny From Motor Vehicle</td>\n",
       "      <td>5669</td>\n",
       "    </tr>\n",
       "    <tr>\n",
       "      <th>5</th>\n",
       "      <td>Aggravated Assault</td>\n",
       "      <td>4187</td>\n",
       "    </tr>\n",
       "    <tr>\n",
       "      <th>6</th>\n",
       "      <td>Violations</td>\n",
       "      <td>3946</td>\n",
       "    </tr>\n",
       "    <tr>\n",
       "      <th>7</th>\n",
       "      <td>Fraud</td>\n",
       "      <td>3146</td>\n",
       "    </tr>\n",
       "    <tr>\n",
       "      <th>8</th>\n",
       "      <td>Residential Burglary</td>\n",
       "      <td>3104</td>\n",
       "    </tr>\n",
       "    <tr>\n",
       "      <th>9</th>\n",
       "      <td>Auto Theft</td>\n",
       "      <td>2707</td>\n",
       "    </tr>\n",
       "  </tbody>\n",
       "</table>\n",
       "</div>"
      ],
      "text/plain": [
       "              Jenis Kejahatan  Jumlah Kasus\n",
       "0                     Larceny         13939\n",
       "1              Simple Assault         13153\n",
       "2                   Vandalism          8248\n",
       "3              Drug Violation          7798\n",
       "4  Larceny From Motor Vehicle          5669\n",
       "5          Aggravated Assault          4187\n",
       "6                  Violations          3946\n",
       "7                       Fraud          3146\n",
       "8        Residential Burglary          3104\n",
       "9                  Auto Theft          2707"
      ]
     },
     "execution_count": 63,
     "metadata": {},
     "output_type": "execute_result"
    }
   ],
   "source": [
    "#Melihat Mayoritas Kejahatan yang muncul di Bulan yang mempunyai rata-rata jumlah kasus tertinggi\n",
    "df_crime[df_crime['Month'].isin([4,5,6,7,8,9])][['Crime Classification']].value_counts().reset_index().rename(columns={'Crime Classification' : 'Jenis Kejahatan', 0 : 'Jumlah Kasus'}).head(10)"
   ]
  },
  {
   "cell_type": "code",
   "execution_count": 64,
   "id": "7b2eb400-eec9-4154-bcce-282cb67791e2",
   "metadata": {},
   "outputs": [
    {
     "data": {
      "image/png": "[encoded data removed]",
      "text/plain": [
       "<Figure size 864x432 with 1 Axes>"
      ]
     },
     "metadata": {
      "needs_background": "light"
     },
     "output_type": "display_data"
    }
   ],
   "source": [
    "# membuat barplot untuk melihat kejahatan apa yang sering terjadi di bulan-bulan dengan rata-rata jumlah kasus tertinggi\n",
    "ucr_table = df_crime[df_crime['Month'].isin([4,5,6,7,8,9])][['Crime Classification']].value_counts().reset_index().rename(columns={'Crime Classification' : 'Jenis Kejahatan', 0 : 'Jumlah Kasus'}).head(10)\n",
    "plt.figure(figsize=(12,6))\n",
    "ax = sns.barplot(data=ucr_table, x = 'Jumlah Kasus', y ='Jenis Kejahatan', ci=0, order=ucr_table['Jenis Kejahatan'], palette=['navy'])\n",
    "plt.title(f'TOP 10 jumlah kasus kejahatan yang terjadi di bulan \\nApril, mei, juni, juli, agustus, september ')\n",
    "container = ax.containers[0]\n",
    "ax.bar_label(container , labels=[f'{x:,.0f}' for x in container.datavalues], label_type='edge', padding = 5)\n",
    "plt.xticks(range(0,40001,5000))\n",
    "plt.show()"
   ]
  },
  {
   "cell_type": "markdown",
   "id": "9fd96ffc-d831-436c-91ad-42447a8acfc8",
   "metadata": {},
   "source": [
    "dapat dilihat pada visualisasi mayoritas kejahatan yang terjadi pada bulan dengan rata-rata kriminalitas tertinggi ialah masih Larceny dan Simple Assault. kejahatan Larceny dan Simple Assault sangat berhubungan sekali apabila dihubungkan dengan tingkat kepadatan suatu kota. seperti yang sudah dijelaskan sebelumnya bahwa semakin ramai orang yang melakukan aktifitas di suatu kota akan membuat peluang kejahatan semakin naik. meningkatkan pengawasan di area-area yang akan berpotensi ramai, maka dari itu dibutuhkan anggota ekstra di bulan-bulan dengan tingkat kriminalitas yang tinggi. selain itu juga perlu lebih dirutinkan kampanye untuk mengingatkan warga boston untuk selalu peduli dengan orang dan barang di bulan-bulan yang mempunyai rata-rata jumlah kasus tertinggi perhari di tiap bulan. dapat seperti membuat iklan di billboard kota, membuat pamplet tentang cara meminimalisir kejahatan, dan masih banyak lagi agar masyarakat menjadi lebih berhati-hati di bulan-bulan yang memiliki rata-rata jumlah kasus perhari tertinggi."
   ]
  },
  {
   "cell_type": "markdown",
   "id": "21363790-536a-4b01-97b2-7b08947c9d9d",
   "metadata": {},
   "source": [
    "## Melihat Tren Kejahatan Berdasarkan Minggu"
   ]
  },
  {
   "cell_type": "code",
   "execution_count": 65,
   "id": "004c3bde-0071-4aa3-9bca-f15084e2b04f",
   "metadata": {},
   "outputs": [
    {
     "data": {
      "text/html": [
       "<div>\n",
       "<style scoped>\n",
       "    .dataframe tbody tr th:only-of-type {\n",
       "        vertical-align: middle;\n",
       "    }\n",
       "\n",
       "    .dataframe tbody tr th {\n",
       "        vertical-align: top;\n",
       "    }\n",
       "\n",
       "    .dataframe thead th {\n",
       "        text-align: right;\n",
       "    }\n",
       "</style>\n",
       "<table border=\"1\" class=\"dataframe\">\n",
       "  <thead>\n",
       "    <tr style=\"text-align: right;\">\n",
       "      <th></th>\n",
       "      <th>Tanggal</th>\n",
       "      <th>Jumlah Kasus</th>\n",
       "      <th>Minggu</th>\n",
       "    </tr>\n",
       "  </thead>\n",
       "  <tbody>\n",
       "    <tr>\n",
       "      <th>0</th>\n",
       "      <td>01 Apr 16</td>\n",
       "      <td>175</td>\n",
       "      <td>Weekday</td>\n",
       "    </tr>\n",
       "    <tr>\n",
       "      <th>1</th>\n",
       "      <td>01 Apr 17</td>\n",
       "      <td>125</td>\n",
       "      <td>Weekend</td>\n",
       "    </tr>\n",
       "    <tr>\n",
       "      <th>2</th>\n",
       "      <td>01 Apr 18</td>\n",
       "      <td>111</td>\n",
       "      <td>Weekend</td>\n",
       "    </tr>\n",
       "    <tr>\n",
       "      <th>3</th>\n",
       "      <td>01 Aug 15</td>\n",
       "      <td>143</td>\n",
       "      <td>Weekend</td>\n",
       "    </tr>\n",
       "    <tr>\n",
       "      <th>4</th>\n",
       "      <td>01 Aug 16</td>\n",
       "      <td>143</td>\n",
       "      <td>Weekday</td>\n",
       "    </tr>\n",
       "  </tbody>\n",
       "</table>\n",
       "</div>"
      ],
      "text/plain": [
       "     Tanggal  Jumlah Kasus   Minggu\n",
       "0  01 Apr 16           175  Weekday\n",
       "1  01 Apr 17           125  Weekend\n",
       "2  01 Apr 18           111  Weekend\n",
       "3  01 Aug 15           143  Weekend\n",
       "4  01 Aug 16           143  Weekday"
      ]
     },
     "execution_count": 65,
     "metadata": {},
     "output_type": "execute_result"
    }
   ],
   "source": [
    "# membuat tabel yang berisi tanggal, jumlah kasus, dan status pekan (Weekday/Weekend)\n",
    "kasus_week = df_crime[['Date', 'WEEK']].copy()\n",
    "kasus_week['Date'] = pd.to_datetime(kasus_week['Date'].sort_values()).dt.strftime('%d %b %y')\n",
    "df_A = kasus_week.groupby('Date').count().reset_index().rename(columns={'Date' : 'Tanggal', 'WEEK' : 'Jumlah Kasus'})\n",
    "df_B = kasus_week.groupby('Date').max().reset_index().rename(columns={'Date' : 'Tanggal', 'WEEK' : 'Minggu'})\n",
    "\n",
    "kasus_week = df_A.merge(df_B)\n",
    "kasus_week.head()"
   ]
  },
  {
   "cell_type": "code",
   "execution_count": 66,
   "id": "8cbbb7b1-2066-46c8-aa49-b083aaafe880",
   "metadata": {},
   "outputs": [
    {
     "data": {
      "text/html": [
       "<div>\n",
       "<style scoped>\n",
       "    .dataframe tbody tr th:only-of-type {\n",
       "        vertical-align: middle;\n",
       "    }\n",
       "\n",
       "    .dataframe tbody tr th {\n",
       "        vertical-align: top;\n",
       "    }\n",
       "\n",
       "    .dataframe thead th {\n",
       "        text-align: right;\n",
       "    }\n",
       "</style>\n",
       "<table border=\"1\" class=\"dataframe\">\n",
       "  <thead>\n",
       "    <tr style=\"text-align: right;\">\n",
       "      <th></th>\n",
       "      <th>Minggu</th>\n",
       "      <th>Jumlah Kasus</th>\n",
       "    </tr>\n",
       "  </thead>\n",
       "  <tbody>\n",
       "    <tr>\n",
       "      <th>0</th>\n",
       "      <td>Weekday</td>\n",
       "      <td>133.158145</td>\n",
       "    </tr>\n",
       "    <tr>\n",
       "      <th>1</th>\n",
       "      <td>Weekend</td>\n",
       "      <td>118.151786</td>\n",
       "    </tr>\n",
       "  </tbody>\n",
       "</table>\n",
       "</div>"
      ],
      "text/plain": [
       "    Minggu  Jumlah Kasus\n",
       "0  Weekday    133.158145\n",
       "1  Weekend    118.151786"
      ]
     },
     "execution_count": 66,
     "metadata": {},
     "output_type": "execute_result"
    }
   ],
   "source": [
    "# melihat rata-rata kasus kejahatan perhari di minggunya \n",
    "rata_week = kasus_week.groupby(\"Minggu\").mean().reset_index()\n",
    "rata_week.head()"
   ]
  },
  {
   "cell_type": "code",
   "execution_count": 67,
   "id": "e64f1827-4249-48dc-bf88-a0d9eddd3bd3",
   "metadata": {
    "tags": []
   },
   "outputs": [
    {
     "data": {
      "image/png": "[encoded data removed]",
      "text/plain": [
       "<Figure size 864x432 with 1 Axes>"
      ]
     },
     "metadata": {
      "needs_background": "light"
     },
     "output_type": "display_data"
    }
   ],
   "source": [
    "# visualisasi untuk melihat rata-rata Kasus Kejahatan perhari ditiap status minggunya pada Tahun 2015-2018\n",
    "plt.figure(figsize=(12,6))\n",
    "ax = sns.barplot(data=kasus_week, x='Minggu',y=\"Jumlah Kasus\",color=\"navy\")\n",
    "plt.title(f'Rata-Rata Jumlah Kejahatan perhari di status minggunya\\nPada Tahun 2015-2018')\n",
    "plt.xlabel('Minggu')\n",
    "plt.ylabel('Rata-Rata Jumlah Kasus')\n",
    "#for i in range(0,2):\n",
    "plt.text(-0.050,rata_week[\"Jumlah Kasus\"].loc[0]+3.5,round(rata_week[\"Jumlah Kasus\"].iloc[0],2))\n",
    "plt.text(0.950,rata_week[\"Jumlah Kasus\"].loc[1]+3.5,round(rata_week[\"Jumlah Kasus\"].iloc[1],2))\n",
    "plt.ylabel('Rata-Rata Jumlah \\nKejahatan perhari')\n",
    "plt.show()"
   ]
  },
  {
   "cell_type": "markdown",
   "id": "4593833d-4328-4482-b920-14620606a1e9",
   "metadata": {},
   "source": [
    "didapatkan rata-rata kasus kejahatan perhari di hari yang weekday adalah 142.25 di tiap minggunya. sedangkan rata-rata kasus kejahatan di tiap minggu di hari weekend ialah 125.76. secara sekilas terdapat perbedaan rata-rata diantara 2 kelas tersebut. untuk konfirmasi perbedaan di tiap rata-ratanya maka diujikan uji hipotesis untuk membandingkan kedua rata-rata dari kelas tersebut. digunakanan hipotesis \n",
    "* h0 = kedua kelas memiliki rata-rata yang sama/tidak ada perbedaan\n",
    "* h1 = kedua kelas memiliki rata-rata yang berbeda satu sama lainnya"
   ]
  },
  {
   "cell_type": "code",
   "execution_count": 68,
   "id": "d2d9a749-713f-4296-a91a-68a536f96569",
   "metadata": {},
   "outputs": [
    {
     "name": "stdout",
     "output_type": "stream",
     "text": [
      "T-statistic: 11.321866640140366\n",
      "P-Value: 1.6677601970001745e-27\n",
      "Tolak H0\n"
     ]
    }
   ],
   "source": [
    "# uji hipotesis untuk konfirmasi perbedaan nilai rata-rata diantara kedua kelas\n",
    "# Import Library\n",
    "from scipy.stats import ttest_ind\n",
    "\n",
    "# Two sample independent t-test\n",
    "result = list(ttest_ind(\n",
    "                kasus_week[kasus_week['Minggu'] == 'Weekday']['Jumlah Kasus'],\n",
    "                kasus_week[kasus_week['Minggu'] == 'Weekend']['Jumlah Kasus'],\n",
    "                equal_var = False))\n",
    "\n",
    "print('T-statistic:', result[0])\n",
    "print('P-Value:', result[1]/2)\n",
    "\n",
    "# Conclusion\n",
    "if result[1]/2 < 0.05:\n",
    "    print('Tolak H0')\n",
    "else:\n",
    "    print('Terima H0')"
   ]
  },
  {
   "cell_type": "markdown",
   "id": "91a04fdb-2caf-4b1e-bfb4-339e3c6918e6",
   "metadata": {},
   "source": [
    "didapatkan nilai p-value lebih dari 0.05. maka kita punya cukup bukti untuk mengatakan kedua kelas tersebut memiliki rata-rata yang berbeda. perbedaan rata-rata ini disinyalir sama seperti bulan, yaitu berhubungan dengan hari masuk dari perkantoran dan persekolahan. seperti yang sudah dijelaskan sebelumnya Boston adalah kota pelajar dan juga kota industri membuat boston menjadi kota terbesar ke-21 di amerika serikat dan nomor 1 di negara bagian Massachusetts. jadi tentu hari weekdays akan terdapat kepadatan di kota boston dengan urusan-urusannya masing-masing, dibanding dengan hari yang weekend, yang membuat pelaku kejahatan menjadi lebih berpeluang untuk melakukan kejahatannya. kepoisian departemen boston perlu memberikan extra energinya dan spent lebih banyak waktunya di hari-hari weekdays agar dapat lebih mengontrol rata-rata jumlah kasus kriminal perhari di kota boston."
   ]
  },
  {
   "cell_type": "markdown",
   "id": "2a995a42-ddb3-4d52-836a-ccf273890d13",
   "metadata": {},
   "source": [
    "## Melihat Tren Kejahatan Berdasarkan Hari"
   ]
  },
  {
   "cell_type": "code",
   "execution_count": 69,
   "id": "404cdf44-6347-4a72-b720-fed833111a25",
   "metadata": {},
   "outputs": [
    {
     "data": {
      "text/html": [
       "<div>\n",
       "<style scoped>\n",
       "    .dataframe tbody tr th:only-of-type {\n",
       "        vertical-align: middle;\n",
       "    }\n",
       "\n",
       "    .dataframe tbody tr th {\n",
       "        vertical-align: top;\n",
       "    }\n",
       "\n",
       "    .dataframe thead th {\n",
       "        text-align: right;\n",
       "    }\n",
       "</style>\n",
       "<table border=\"1\" class=\"dataframe\">\n",
       "  <thead>\n",
       "    <tr style=\"text-align: right;\">\n",
       "      <th></th>\n",
       "      <th>Tanggal</th>\n",
       "      <th>Jumlah Kasus</th>\n",
       "      <th>Hari</th>\n",
       "    </tr>\n",
       "  </thead>\n",
       "  <tbody>\n",
       "    <tr>\n",
       "      <th>0</th>\n",
       "      <td>01 Apr 16</td>\n",
       "      <td>175</td>\n",
       "      <td>Friday</td>\n",
       "    </tr>\n",
       "    <tr>\n",
       "      <th>1</th>\n",
       "      <td>01 Apr 17</td>\n",
       "      <td>125</td>\n",
       "      <td>Saturday</td>\n",
       "    </tr>\n",
       "    <tr>\n",
       "      <th>2</th>\n",
       "      <td>01 Apr 18</td>\n",
       "      <td>111</td>\n",
       "      <td>Sunday</td>\n",
       "    </tr>\n",
       "    <tr>\n",
       "      <th>3</th>\n",
       "      <td>01 Aug 15</td>\n",
       "      <td>143</td>\n",
       "      <td>Saturday</td>\n",
       "    </tr>\n",
       "    <tr>\n",
       "      <th>4</th>\n",
       "      <td>01 Aug 16</td>\n",
       "      <td>143</td>\n",
       "      <td>Monday</td>\n",
       "    </tr>\n",
       "  </tbody>\n",
       "</table>\n",
       "</div>"
      ],
      "text/plain": [
       "     Tanggal  Jumlah Kasus      Hari\n",
       "0  01 Apr 16           175    Friday\n",
       "1  01 Apr 17           125  Saturday\n",
       "2  01 Apr 18           111    Sunday\n",
       "3  01 Aug 15           143  Saturday\n",
       "4  01 Aug 16           143    Monday"
      ]
     },
     "execution_count": 69,
     "metadata": {},
     "output_type": "execute_result"
    }
   ],
   "source": [
    "# membuat tabel yang berisi tanggal, jumlah kasus, dan hari (Weekday/Weekend)\n",
    "kasus_hari = df_crime[['Date', 'Day Name']].copy()\n",
    "kasus_hari['Date'] = pd.to_datetime(kasus_hari['Date'].sort_values()).dt.strftime('%d %b %y')\n",
    "df_A = kasus_hari.groupby('Date').count().reset_index().rename(columns={'Date' : 'Tanggal', 'Day Name' : 'Jumlah Kasus'})\n",
    "df_B = kasus_hari.groupby('Date').max().reset_index().rename(columns={'Date' : 'Tanggal', 'Day Name' : 'Hari'})\n",
    "\n",
    "kasus_hari = df_A.merge(df_B)\n",
    "kasus_hari.head()"
   ]
  },
  {
   "cell_type": "code",
   "execution_count": 70,
   "id": "626a400d-d227-4bb7-ae2f-6646148d2db4",
   "metadata": {},
   "outputs": [
    {
     "data": {
      "text/html": [
       "<div>\n",
       "<style scoped>\n",
       "    .dataframe tbody tr th:only-of-type {\n",
       "        vertical-align: middle;\n",
       "    }\n",
       "\n",
       "    .dataframe tbody tr th {\n",
       "        vertical-align: top;\n",
       "    }\n",
       "\n",
       "    .dataframe thead th {\n",
       "        text-align: right;\n",
       "    }\n",
       "</style>\n",
       "<table border=\"1\" class=\"dataframe\">\n",
       "  <thead>\n",
       "    <tr style=\"text-align: right;\">\n",
       "      <th></th>\n",
       "      <th>Hari</th>\n",
       "      <th>Jumlah Kasus</th>\n",
       "    </tr>\n",
       "    <tr>\n",
       "      <th>0</th>\n",
       "      <th></th>\n",
       "      <th></th>\n",
       "    </tr>\n",
       "  </thead>\n",
       "  <tbody>\n",
       "    <tr>\n",
       "      <th>1</th>\n",
       "      <td>Sunday</td>\n",
       "      <td>112.398810</td>\n",
       "    </tr>\n",
       "    <tr>\n",
       "      <th>2</th>\n",
       "      <td>Monday</td>\n",
       "      <td>129.266272</td>\n",
       "    </tr>\n",
       "    <tr>\n",
       "      <th>3</th>\n",
       "      <td>Tuesday</td>\n",
       "      <td>132.130952</td>\n",
       "    </tr>\n",
       "    <tr>\n",
       "      <th>4</th>\n",
       "      <td>Wednesday</td>\n",
       "      <td>133.815476</td>\n",
       "    </tr>\n",
       "    <tr>\n",
       "      <th>5</th>\n",
       "      <td>Thursday</td>\n",
       "      <td>133.172619</td>\n",
       "    </tr>\n",
       "    <tr>\n",
       "      <th>6</th>\n",
       "      <td>Friday</td>\n",
       "      <td>137.428571</td>\n",
       "    </tr>\n",
       "    <tr>\n",
       "      <th>7</th>\n",
       "      <td>Saturday</td>\n",
       "      <td>123.904762</td>\n",
       "    </tr>\n",
       "  </tbody>\n",
       "</table>\n",
       "</div>"
      ],
      "text/plain": [
       "        Hari  Jumlah Kasus\n",
       "0                         \n",
       "1     Sunday    112.398810\n",
       "2     Monday    129.266272\n",
       "3    Tuesday    132.130952\n",
       "4  Wednesday    133.815476\n",
       "5   Thursday    133.172619\n",
       "6     Friday    137.428571\n",
       "7   Saturday    123.904762"
      ]
     },
     "execution_count": 70,
     "metadata": {},
     "output_type": "execute_result"
    }
   ],
   "source": [
    "# mencari rata-rata jumlah kasus di setiap harinya\n",
    "rata_hari = kasus_hari.groupby(\"Hari\").mean().reset_index()[['Hari',\"Jumlah Kasus\"]]\n",
    "s1 = pd.Series([6,2,7,1,5,3,4])\n",
    "rata_hari\n",
    "rata_hari1 = pd.concat([rata_hari,s1],axis=1).sort_values(0).set_index(0)\n",
    "rata_hari1"
   ]
  },
  {
   "cell_type": "code",
   "execution_count": 71,
   "id": "43128d87-2699-40c1-839b-9fda448ff082",
   "metadata": {},
   "outputs": [
    {
     "data": {
      "image/png": "[encoded data removed]",
      "text/plain": [
       "<Figure size 864x432 with 1 Axes>"
      ]
     },
     "metadata": {
      "needs_background": "light"
     },
     "output_type": "display_data"
    }
   ],
   "source": [
    "# membuat barplot untuk melihat visualisasi rata-rata jumlah kejahatan di setiap harinya\n",
    "plt.figure(figsize=(12,6))\n",
    "ax = sns.barplot(data=kasus_hari, x=\"Hari\",y='Jumlah Kasus', color='navy',order=[\"Sunday\",'Monday',\"Tuesday\",\"Wednesday\",\"Thursday\",\"Friday\",\"Saturday\"])\n",
    "plt.title(f'Rata-Rata Jumlah Kejahatan Pada Tiap Hari \\n dari tahun 2015-2018')\n",
    "plt.xlabel(f'hari')\n",
    "plt.ylabel('Jumlah Kasus')\n",
    "for i in range(7):\n",
    "    plt.text(-0.0900+i,rata_hari1['Jumlah Kasus'].iloc[i]+5,round(rata_hari1['Jumlah Kasus'].iloc[i],2))\n",
    "plt.ylabel('Rata-Rata Jumlah \\nKejahatan perhari')\n",
    "plt.show()"
   ]
  },
  {
   "cell_type": "markdown",
   "id": "1d711064-a92a-45b3-89bd-3d15ee26066a",
   "metadata": {},
   "source": [
    "dapat dilihat pada visualisasi, sama seperti rata-rata jumlah kasus berdasarkan minggunya, visualisasi rata-rata jumlah kasus berdasarkan tiap harinya juga menunjukan bahwa hari senin, selasa, rabu, kamis, jumat memiliki rata-rata yang lebih tinggi daripada hari sabtu,minggu. hari minggu merupakan hari dengan kasus kriminalitas terendah diantara hari-hari lainnya, sedangkan jumat merupakan hari dengan rata-rata jumlah kasus terbanyak. kepolisian departemen boston dapat memfokuskan penanganan di hari weekdays dan menggunakan hari sabtu dan minggu untuk rolling libur anggotanya agar tetap menjaga work life balance angogotanya."
   ]
  },
  {
   "cell_type": "markdown",
   "id": "da1a2041-fcb5-4947-b5ef-d08971a6fe9a",
   "metadata": {},
   "source": [
    "## Melihat Tren Kejahatan Berdasarkan jam"
   ]
  },
  {
   "cell_type": "code",
   "execution_count": 72,
   "id": "fc131956-e1a1-4963-8474-bf4eeb15d90a",
   "metadata": {},
   "outputs": [
    {
     "data": {
      "text/html": [
       "<div>\n",
       "<style scoped>\n",
       "    .dataframe tbody tr th:only-of-type {\n",
       "        vertical-align: middle;\n",
       "    }\n",
       "\n",
       "    .dataframe tbody tr th {\n",
       "        vertical-align: top;\n",
       "    }\n",
       "\n",
       "    .dataframe thead th {\n",
       "        text-align: right;\n",
       "    }\n",
       "</style>\n",
       "<table border=\"1\" class=\"dataframe\">\n",
       "  <thead>\n",
       "    <tr style=\"text-align: right;\">\n",
       "      <th></th>\n",
       "      <th>Hour</th>\n",
       "      <th>Jumlah Kasus</th>\n",
       "    </tr>\n",
       "  </thead>\n",
       "  <tbody>\n",
       "    <tr>\n",
       "      <th>0</th>\n",
       "      <td>1</td>\n",
       "      <td>4529</td>\n",
       "    </tr>\n",
       "    <tr>\n",
       "      <th>1</th>\n",
       "      <td>2</td>\n",
       "      <td>3715</td>\n",
       "    </tr>\n",
       "    <tr>\n",
       "      <th>2</th>\n",
       "      <td>3</td>\n",
       "      <td>2090</td>\n",
       "    </tr>\n",
       "    <tr>\n",
       "      <th>3</th>\n",
       "      <td>4</td>\n",
       "      <td>1580</td>\n",
       "    </tr>\n",
       "    <tr>\n",
       "      <th>4</th>\n",
       "      <td>5</td>\n",
       "      <td>1360</td>\n",
       "    </tr>\n",
       "    <tr>\n",
       "      <th>5</th>\n",
       "      <td>6</td>\n",
       "      <td>1973</td>\n",
       "    </tr>\n",
       "    <tr>\n",
       "      <th>6</th>\n",
       "      <td>7</td>\n",
       "      <td>3316</td>\n",
       "    </tr>\n",
       "    <tr>\n",
       "      <th>7</th>\n",
       "      <td>8</td>\n",
       "      <td>5453</td>\n",
       "    </tr>\n",
       "    <tr>\n",
       "      <th>8</th>\n",
       "      <td>9</td>\n",
       "      <td>6432</td>\n",
       "    </tr>\n",
       "    <tr>\n",
       "      <th>9</th>\n",
       "      <td>10</td>\n",
       "      <td>7356</td>\n",
       "    </tr>\n",
       "    <tr>\n",
       "      <th>10</th>\n",
       "      <td>11</td>\n",
       "      <td>7604</td>\n",
       "    </tr>\n",
       "    <tr>\n",
       "      <th>11</th>\n",
       "      <td>12</td>\n",
       "      <td>9393</td>\n",
       "    </tr>\n",
       "    <tr>\n",
       "      <th>12</th>\n",
       "      <td>13</td>\n",
       "      <td>8127</td>\n",
       "    </tr>\n",
       "    <tr>\n",
       "      <th>13</th>\n",
       "      <td>14</td>\n",
       "      <td>8379</td>\n",
       "    </tr>\n",
       "    <tr>\n",
       "      <th>14</th>\n",
       "      <td>15</td>\n",
       "      <td>8101</td>\n",
       "    </tr>\n",
       "    <tr>\n",
       "      <th>15</th>\n",
       "      <td>16</td>\n",
       "      <td>9720</td>\n",
       "    </tr>\n",
       "    <tr>\n",
       "      <th>16</th>\n",
       "      <td>17</td>\n",
       "      <td>10429</td>\n",
       "    </tr>\n",
       "    <tr>\n",
       "      <th>17</th>\n",
       "      <td>18</td>\n",
       "      <td>10372</td>\n",
       "    </tr>\n",
       "    <tr>\n",
       "      <th>18</th>\n",
       "      <td>19</td>\n",
       "      <td>8903</td>\n",
       "    </tr>\n",
       "    <tr>\n",
       "      <th>19</th>\n",
       "      <td>20</td>\n",
       "      <td>7837</td>\n",
       "    </tr>\n",
       "    <tr>\n",
       "      <th>20</th>\n",
       "      <td>21</td>\n",
       "      <td>6614</td>\n",
       "    </tr>\n",
       "    <tr>\n",
       "      <th>21</th>\n",
       "      <td>22</td>\n",
       "      <td>5873</td>\n",
       "    </tr>\n",
       "    <tr>\n",
       "      <th>22</th>\n",
       "      <td>23</td>\n",
       "      <td>4764</td>\n",
       "    </tr>\n",
       "    <tr>\n",
       "      <th>23</th>\n",
       "      <td>24</td>\n",
       "      <td>7765</td>\n",
       "    </tr>\n",
       "  </tbody>\n",
       "</table>\n",
       "</div>"
      ],
      "text/plain": [
       "    Hour  Jumlah Kasus\n",
       "0      1          4529\n",
       "1      2          3715\n",
       "2      3          2090\n",
       "3      4          1580\n",
       "4      5          1360\n",
       "5      6          1973\n",
       "6      7          3316\n",
       "7      8          5453\n",
       "8      9          6432\n",
       "9     10          7356\n",
       "10    11          7604\n",
       "11    12          9393\n",
       "12    13          8127\n",
       "13    14          8379\n",
       "14    15          8101\n",
       "15    16          9720\n",
       "16    17         10429\n",
       "17    18         10372\n",
       "18    19          8903\n",
       "19    20          7837\n",
       "20    21          6614\n",
       "21    22          5873\n",
       "22    23          4764\n",
       "23    24          7765"
      ]
     },
     "execution_count": 72,
     "metadata": {},
     "output_type": "execute_result"
    }
   ],
   "source": [
    "#membuat tabel dengan kolom nama jam dan jumlah kasus\n",
    "crime_jam = df_crime.groupby(\"Hour\").count()[[\"Day Name\"]].reset_index()\n",
    "crime_jam['Hour'] = crime_jam['Hour'].replace({0:24})\n",
    "crime_jam = crime_jam.sort_values('Hour').reset_index()\n",
    "crime_jam.drop(columns='index',inplace=True)\n",
    "crime_jam.rename(columns={\"Day Name\":\"Jumlah Kasus\"},inplace=True)\n",
    "crime_jam"
   ]
  },
  {
   "cell_type": "code",
   "execution_count": 73,
   "id": "86eb72b5-3fd6-49d8-a917-f801b8a1ed9b",
   "metadata": {},
   "outputs": [
    {
     "data": {
      "image/png": "[encoded data removed]",
      "text/plain": [
       "<Figure size 1008x576 with 1 Axes>"
      ]
     },
     "metadata": {
      "needs_background": "light"
     },
     "output_type": "display_data"
    }
   ],
   "source": [
    "#visualisasi untuk melihatt jumlah kasus berdasarkan jamnya\n",
    "plt.figure(figsize=(14,8))\n",
    "sns.lineplot(data=crime_jam,x=\"Hour\",y=\"Jumlah Kasus\")#default akan menampilkan rata2 (agregat) dari jumlah penumpang\n",
    "plt.scatter(crime_jam['Hour'],crime_jam[\"Jumlah Kasus\"])\n",
    "plt.title(f'Jumlah Kejahatan \\n berdasarkan jam dari tahun 2015-2018')\n",
    "for i in range(0,24):\n",
    "    if i == 17:\n",
    "        plt.text(crime_jam['Hour'].iloc[i]+0.15,crime_jam[\"Jumlah Kasus\"].iloc[i]+500,crime_jam[\"Jumlah Kasus\"].iloc[i])\n",
    "    elif i == 16:\n",
    "        plt.text(crime_jam['Hour'].iloc[i]-0.25,crime_jam[\"Jumlah Kasus\"].iloc[i]+500,crime_jam[\"Jumlah Kasus\"].iloc[i])\n",
    "    else:\n",
    "        plt.text(crime_jam['Hour'].iloc[i],crime_jam[\"Jumlah Kasus\"].iloc[i]+500,crime_jam[\"Jumlah Kasus\"].iloc[i])\n",
    "for i in range(0,24):\n",
    "    if i == 16:\n",
    "        plt.text(crime_jam['Hour'].iloc[i]-0.5,crime_jam[\"Jumlah Kasus\"].iloc[i]+950,f\"({i+1}.00)\",color='red')\n",
    "    else:\n",
    "        plt.text(crime_jam['Hour'].iloc[i],crime_jam[\"Jumlah Kasus\"].iloc[i]+950,f\"({i+1}.00)\",color='red')\n",
    "plt.xlabel(\"Jam\")\n",
    "plt.ylabel(\"Jumlah Kasus\")\n",
    "plt.xticks(range(1,25))\n",
    "plt.yticks(np.arange(0,15001,2000))\n",
    "plt.show()"
   ]
  },
  {
   "cell_type": "code",
   "execution_count": 74,
   "id": "b2eb164d-e205-4f10-b55f-9858f4d8f6ba",
   "metadata": {},
   "outputs": [
    {
     "data": {
      "text/plain": [
       "6320.208333333333"
      ]
     },
     "execution_count": 74,
     "metadata": {},
     "output_type": "execute_result"
    }
   ],
   "source": [
    "#rata-rata jumlah kasus kejadian kejahatan dari setiap jamnya\n",
    "np.mean(crime_jam[\"Jumlah Kasus\"])"
   ]
  },
  {
   "cell_type": "markdown",
   "id": "717e4dea-c4de-4e49-afe6-fff4981786b1",
   "metadata": {},
   "source": [
    "dapat dilihat seperti pada visualisasi, bahwa jumlah kasus relatif rendah di pukul 1.00 sampai dengan pukul 6.00. kasus tertinggi terdapat pada pukul 17.00 dan 18.00, dan setelah pukul 18.00 ada tren penurunan jumlah kasus sampai pukul 23.00. bila kita lihat lebih teliti jumlah kasus kejadian yang ada di atas rata-rata jumlah kejadian di setiap jamnya ada di jam-jam produktif/kerja/ramai di setiap kota pada umumnya yaitu sekitar pukul 09.00 - 20.00. hal ini bisa terjadi dikarenakan sama seperti sebelumnya, bahwa ada hubungannya antara jumlah populasi di \"jalanan\" boston dengan tingkat kriminalitas. maka seharusnya bisa memperbanyak jadwal patroli polisi di sekitar jam 09.00 - 20.00."
   ]
  },
  {
   "cell_type": "markdown",
   "id": "7200a8e0-bc9c-4fa9-bd05-9b380d2d8a53",
   "metadata": {},
   "source": [
    "## Melihat Mayoritas Kejahatan berdasarkan district"
   ]
  },
  {
   "cell_type": "code",
   "execution_count": 75,
   "id": "9ffba025-eda0-4d84-8fbb-951e3ecff460",
   "metadata": {},
   "outputs": [
    {
     "data": {
      "image/png": "[encoded data removed]",
      "text/plain": [
       "<Figure size 864x432 with 1 Axes>"
      ]
     },
     "metadata": {
      "needs_background": "light"
     },
     "output_type": "display_data"
    }
   ],
   "source": [
    "#visualisasi melihat jumlah kasus kejahatan terbanyak berdasarkan ditrictnya\n",
    "ucr_table = df_crime[['District']].value_counts().reset_index().rename(columns={0 : 'Jumlah Kasus'}).head(10)\n",
    "plt.figure(figsize=(12,6))\n",
    "ax = sns.barplot(data=ucr_table, x = 'Jumlah Kasus', y ='District', ci=0, order=ucr_table['District'], palette=['green'])\n",
    "plt.title(f'TOP 10 District dengan Jumlah Kejahatan Terbanyak')\n",
    "container = ax.containers[0]\n",
    "ax.bar_label(container , labels=[f'{x:,.0f}' for x in container.datavalues], label_type='edge', padding = 5)\n",
    "plt.xticks(range(0,40001,5000))\n",
    "plt.show()"
   ]
  },
  {
   "cell_type": "markdown",
   "id": "55cca4c3-5367-4059-b45d-3780cd0b43ff",
   "metadata": {},
   "source": [
    "dapat dilihat melalui visualisasi bahwa district di kota boston dengan jumlah kasus kejahatan terbanyak berturut-turut ialah roxbury, south end,dorchester,downtown,mattapan. dan selebihnya memiliki jumlah kasus kejahatan tidak jauh berbeda"
   ]
  },
  {
   "cell_type": "markdown",
   "id": "5a98fc2b-9d6f-49c6-a55b-b3fd1f60d880",
   "metadata": {
    "tags": []
   },
   "source": [
    "## Melihat Mayoritas Kejahatan yang muncul di District yang mempunyai jumlah kasus tertinggi.\n",
    "setelah mengetahui District-District mana yang memiliki jumlah kasus tertinggi(roxbury, south end,dorchester,downtown,mattapan), sekarang akan dilakukan pengecekan untuk mengetahui mayoritas pelanggaran apa yang dilakukan di district-district tersebut."
   ]
  },
  {
   "cell_type": "code",
   "execution_count": 76,
   "id": "d355204a-a701-4609-8f04-f920d85fc8a6",
   "metadata": {},
   "outputs": [
    {
     "data": {
      "image/png": "[encoded data removed]",
      "text/plain": [
       "<Figure size 864x432 with 1 Axes>"
      ]
     },
     "metadata": {
      "needs_background": "light"
     },
     "output_type": "display_data"
    }
   ],
   "source": [
    "# membuat barplot untuk melihat kejahatan apa yang sering terjadi di bulan-bulan dengan rata-rata jumlah kasus tertinggi\n",
    "ucr_table = df_crime[df_crime['District'].isin([\"Roxbury\",'South End','Dorchester','Downtown','Mattapan',])][['Crime Classification']].value_counts().reset_index().rename(columns={'Crime Classification' : 'Jenis Kejahatan', 0 : 'Jumlah Kasus'}).head(10)\n",
    "plt.figure(figsize=(12,6))\n",
    "ax = sns.barplot(data=ucr_table, x = 'Jumlah Kasus', y ='Jenis Kejahatan', ci=0, order=ucr_table['Jenis Kejahatan'], palette=['navy'])\n",
    "plt.title(f'TOP 10 jumlah kasus kejahatan yang terjadi di district \\nRoxbury, South End, Dorchester, Downtown, Mattapan')\n",
    "container = ax.containers[0]\n",
    "ax.bar_label(container , labels=[f'{x:,.0f}' for x in container.datavalues], label_type='edge', padding = 5)\n",
    "plt.xticks(range(0,40001,5000))\n",
    "plt.show()"
   ]
  },
  {
   "cell_type": "markdown",
   "id": "bacff507-3345-4843-871e-d452cdf29cf2",
   "metadata": {},
   "source": [
    "larceny dan simple assault masih menjadi mayoritas kejahatan di district-district yang mempunyai kasus kejahatan tertinggi sama seperti kategori mayoritas kejahatan di kota Boston. maka kepolisian departemen Boston dapat melakukan kordinasi dengan kepolisian di tingkat district agar dapat untuk membantu penanganan kasus kriminal di category Larceny dan Simple Assault di districtnya masing-masing."
   ]
  },
  {
   "cell_type": "markdown",
   "id": "41fdf25b-cdf4-4540-a9c1-522f30693fe7",
   "metadata": {
    "tags": []
   },
   "source": [
    "## 2. Melihat Bagaimana Karakteristik Respon Polisi di kota Boston\n",
    "setelah melihat bagaimana karakteristik kejahatan di kota Boston, sekarang kita akan melihat bagaimana Karakteristik respon kepolisian di Kota Boston yang ditinjau dari beberapa aspek."
   ]
  },
  {
   "cell_type": "markdown",
   "id": "13de5732-e447-4334-8f84-c15504124358",
   "metadata": {},
   "source": [
    "### melihat mayoritas tindakan respon dari kepolisian kota boston "
   ]
  },
  {
   "cell_type": "code",
   "execution_count": 77,
   "id": "d2660f6a-4484-4192-9f88-dc30080e8aaa",
   "metadata": {},
   "outputs": [
    {
     "data": {
      "image/png": "[encoded data removed]",
      "text/plain": [
       "<Figure size 864x432 with 1 Axes>"
      ]
     },
     "metadata": {
      "needs_background": "light"
     },
     "output_type": "display_data"
    }
   ],
   "source": [
    "#visualisasi melihat top 10 respon dari kepolisian\n",
    "ucr_table = df_police[['Crime Classification']].value_counts().reset_index().rename(columns={'Crime Classification' : 'Jenis Kejahatan', 0 : 'Jumlah Kasus'}).head(10)\n",
    "plt.figure(figsize=(12,6))\n",
    "ax = sns.barplot(data=ucr_table, x = 'Jumlah Kasus', y ='Jenis Kejahatan', ci=0, order=ucr_table['Jenis Kejahatan'], palette=['navy'])\n",
    "plt.title('TOP 10 respon dari kepolisian di Boston')\n",
    "container = ax.containers[0]\n",
    "ax.bar_label(container , labels=[f'{x:,.0f}' for x in container.datavalues], label_type='edge', padding = 5)\n",
    "plt.xticks(range(0,40001,5000))\n",
    "plt.show()"
   ]
  },
  {
   "cell_type": "markdown",
   "id": "ac145b66-a783-4f71-98c4-e59466c15483",
   "metadata": {
    "tags": []
   },
   "source": [
    "dapat dilihat Motor Vehicle Accident Response(penanganan kecelakaan kendaraan bermotor) menjadi kasus yang paling sering ditangani oleh kepolisian di tahun 2015-2018, disusul dengan medical Assistance(bantuan medis)dan Investigate Person(investigasi seseorang). jumlah kasus penanganan Motor Vehicle Accident relatif mempunyai jumlah kasus yang besar apabaila dibanding dengan kasus-kasus lainnya. hal ini memberikan insight bahwa masih sering sekali terjadi kecelakaan di kota Boston. didapatkan fakta bahwa jalanan kota boston mendapat kritikan di beberapa media di amerika. contoh salah satu jalan di kota Boston yaitu jalan BlueHill Eve sering mendapat kritikan karena ketidakpuasan dari warga boston, seperti jalan yang sangat ramai hingga menyebabkan kemacetan apabila di jam-jam sibuk, jalur sepeda yang terlalu dekat dengan jalur mobil, jalan banyak yang berlubang. untuk mengatasi masalah kecelakaan tentu kepolisian departemen boston dan pemerintah hars melakukan suatu kolaborasi agar dapat menurunkan jumlah kecelakaan di boston, tapi setidaknya kepolisian departemen boston dapat sering-sering melakukan kampanye untuk berkendara yang baik dan benar di jalanan boston atau membantu menyarankan warga boston untuk naik angkutan umum saja. selain itu apabila dilihat juga medical assistance ialah respon terbanyak kedua yang dilakukan kepolisian, berarti diperlukannya diberikan tambahan ilmu-ilmu dasar pengobatan untuk seluruh anggota kepolisian kota boston. "
   ]
  },
  {
   "cell_type": "markdown",
   "id": "e561880f-81b4-4b53-b565-3fe27a8615ed",
   "metadata": {},
   "source": [
    "### melihat jam sibuk dari kepolisian"
   ]
  },
  {
   "cell_type": "code",
   "execution_count": 78,
   "id": "1682682f-6a5a-404f-aa75-1c2cb3c8c66d",
   "metadata": {},
   "outputs": [
    {
     "data": {
      "text/html": [
       "<div>\n",
       "<style scoped>\n",
       "    .dataframe tbody tr th:only-of-type {\n",
       "        vertical-align: middle;\n",
       "    }\n",
       "\n",
       "    .dataframe tbody tr th {\n",
       "        vertical-align: top;\n",
       "    }\n",
       "\n",
       "    .dataframe thead th {\n",
       "        text-align: right;\n",
       "    }\n",
       "</style>\n",
       "<table border=\"1\" class=\"dataframe\">\n",
       "  <thead>\n",
       "    <tr style=\"text-align: right;\">\n",
       "      <th></th>\n",
       "      <th>Hour</th>\n",
       "      <th>Jumlah Kasus</th>\n",
       "    </tr>\n",
       "  </thead>\n",
       "  <tbody>\n",
       "    <tr>\n",
       "      <th>0</th>\n",
       "      <td>1</td>\n",
       "      <td>3851</td>\n",
       "    </tr>\n",
       "    <tr>\n",
       "      <th>1</th>\n",
       "      <td>2</td>\n",
       "      <td>3169</td>\n",
       "    </tr>\n",
       "    <tr>\n",
       "      <th>2</th>\n",
       "      <td>3</td>\n",
       "      <td>2121</td>\n",
       "    </tr>\n",
       "    <tr>\n",
       "      <th>3</th>\n",
       "      <td>4</td>\n",
       "      <td>1566</td>\n",
       "    </tr>\n",
       "    <tr>\n",
       "      <th>4</th>\n",
       "      <td>5</td>\n",
       "      <td>1695</td>\n",
       "    </tr>\n",
       "    <tr>\n",
       "      <th>5</th>\n",
       "      <td>6</td>\n",
       "      <td>2678</td>\n",
       "    </tr>\n",
       "    <tr>\n",
       "      <th>6</th>\n",
       "      <td>7</td>\n",
       "      <td>4933</td>\n",
       "    </tr>\n",
       "    <tr>\n",
       "      <th>7</th>\n",
       "      <td>8</td>\n",
       "      <td>6721</td>\n",
       "    </tr>\n",
       "    <tr>\n",
       "      <th>8</th>\n",
       "      <td>9</td>\n",
       "      <td>7442</td>\n",
       "    </tr>\n",
       "    <tr>\n",
       "      <th>9</th>\n",
       "      <td>10</td>\n",
       "      <td>8027</td>\n",
       "    </tr>\n",
       "    <tr>\n",
       "      <th>10</th>\n",
       "      <td>11</td>\n",
       "      <td>7784</td>\n",
       "    </tr>\n",
       "    <tr>\n",
       "      <th>11</th>\n",
       "      <td>12</td>\n",
       "      <td>8130</td>\n",
       "    </tr>\n",
       "    <tr>\n",
       "      <th>12</th>\n",
       "      <td>13</td>\n",
       "      <td>7612</td>\n",
       "    </tr>\n",
       "    <tr>\n",
       "      <th>13</th>\n",
       "      <td>14</td>\n",
       "      <td>7623</td>\n",
       "    </tr>\n",
       "    <tr>\n",
       "      <th>14</th>\n",
       "      <td>15</td>\n",
       "      <td>7278</td>\n",
       "    </tr>\n",
       "    <tr>\n",
       "      <th>15</th>\n",
       "      <td>16</td>\n",
       "      <td>8672</td>\n",
       "    </tr>\n",
       "    <tr>\n",
       "      <th>16</th>\n",
       "      <td>17</td>\n",
       "      <td>8531</td>\n",
       "    </tr>\n",
       "    <tr>\n",
       "      <th>17</th>\n",
       "      <td>18</td>\n",
       "      <td>8216</td>\n",
       "    </tr>\n",
       "    <tr>\n",
       "      <th>18</th>\n",
       "      <td>19</td>\n",
       "      <td>7354</td>\n",
       "    </tr>\n",
       "    <tr>\n",
       "      <th>19</th>\n",
       "      <td>20</td>\n",
       "      <td>6966</td>\n",
       "    </tr>\n",
       "    <tr>\n",
       "      <th>20</th>\n",
       "      <td>21</td>\n",
       "      <td>6535</td>\n",
       "    </tr>\n",
       "    <tr>\n",
       "      <th>21</th>\n",
       "      <td>22</td>\n",
       "      <td>6121</td>\n",
       "    </tr>\n",
       "    <tr>\n",
       "      <th>22</th>\n",
       "      <td>23</td>\n",
       "      <td>5097</td>\n",
       "    </tr>\n",
       "    <tr>\n",
       "      <th>23</th>\n",
       "      <td>24</td>\n",
       "      <td>6312</td>\n",
       "    </tr>\n",
       "  </tbody>\n",
       "</table>\n",
       "</div>"
      ],
      "text/plain": [
       "    Hour  Jumlah Kasus\n",
       "0      1          3851\n",
       "1      2          3169\n",
       "2      3          2121\n",
       "3      4          1566\n",
       "4      5          1695\n",
       "5      6          2678\n",
       "6      7          4933\n",
       "7      8          6721\n",
       "8      9          7442\n",
       "9     10          8027\n",
       "10    11          7784\n",
       "11    12          8130\n",
       "12    13          7612\n",
       "13    14          7623\n",
       "14    15          7278\n",
       "15    16          8672\n",
       "16    17          8531\n",
       "17    18          8216\n",
       "18    19          7354\n",
       "19    20          6966\n",
       "20    21          6535\n",
       "21    22          6121\n",
       "22    23          5097\n",
       "23    24          6312"
      ]
     },
     "execution_count": 78,
     "metadata": {},
     "output_type": "execute_result"
    }
   ],
   "source": [
    "#membuat tabel dengan kolom nama jam dan jumlah kasus\n",
    "police_jam = df_police.groupby(\"Hour\").count()[[\"Day Name\"]].reset_index()\n",
    "police_jam['Hour'] = police_jam['Hour'].replace({0:24})\n",
    "police_jam = police_jam.sort_values('Hour').reset_index()\n",
    "police_jam.drop(columns='index',inplace=True)\n",
    "police_jam.rename(columns={\"Day Name\":\"Jumlah Kasus\"},inplace=True)\n",
    "police_jam"
   ]
  },
  {
   "cell_type": "code",
   "execution_count": 79,
   "id": "4541bf4a-6073-4c17-85bb-17b98e5c9ffc",
   "metadata": {},
   "outputs": [
    {
     "data": {
      "image/png": "[encoded data removed]",
      "text/plain": [
       "<Figure size 1008x576 with 1 Axes>"
      ]
     },
     "metadata": {
      "needs_background": "light"
     },
     "output_type": "display_data"
    }
   ],
   "source": [
    "#visualisasi untuk melihat jumlah respon dari kepolisian ditiap jamnya\n",
    "plt.figure(figsize=(14,8))\n",
    "sns.lineplot(data=police_jam,x=\"Hour\",y=\"Jumlah Kasus\")#default akan menampilkan rata2 (agregat) dari jumlah penumpang\n",
    "plt.scatter(police_jam['Hour'],police_jam[\"Jumlah Kasus\"])\n",
    "plt.title(f'Jumlah Kejahatan \\n berdasarkan jam dari tahun 2015-2018')\n",
    "for i in range(0,24):\n",
    "    plt.text(police_jam['Hour'].iloc[i]+0.05,police_jam[\"Jumlah Kasus\"].iloc[i]+500,police_jam[\"Jumlah Kasus\"].iloc[i])\n",
    "for i in range(0,24):\n",
    "    plt.text(police_jam['Hour'].iloc[i],police_jam[\"Jumlah Kasus\"].iloc[i]+950,f\"({i+1}.00)\",color='red')\n",
    "plt.xlabel(\"Jam\")\n",
    "plt.ylabel(\"Jumlah Kasus\")\n",
    "plt.xticks(range(1,25))\n",
    "plt.yticks(np.arange(0,15001,2000))\n",
    "plt.show()"
   ]
  },
  {
   "cell_type": "markdown",
   "id": "b632e408-44dd-4d07-a33f-582916ab376a",
   "metadata": {},
   "source": [
    "dapat dilihat pada visualisasi, jam sibuk kepolisian ialah dari sekitar pukul 8.00 - 19.00. maka disarankan untuk memperbanyak anggota siaga di sekitar jam 8.00 - 19.00 ini agar dapat melakukan respon tindak kejahatan dengan cepat."
   ]
  },
  {
   "cell_type": "markdown",
   "id": "27965d98-ad4c-41a3-8f2f-5db8a42d3a8b",
   "metadata": {
    "tags": []
   },
   "source": [
    "# kesimpulan dan rekomendasi"
   ]
  },
  {
   "cell_type": "markdown",
   "id": "20dc7b27-2e91-47ea-892c-c1f34833a187",
   "metadata": {},
   "source": [
    "## kesimpulan\n",
    "dari analisis yang telah dilakukan, dapat diambil kesimpulan bahwa \n",
    "karakteristik kejahatan di kota Boston:\n",
    "1. mayoritas kejahatan di kota Boston ialah Larceny dan Simple Assault\n",
    "2. mayoritas kejahatan dengan UCR bagian One ialah kejahatan yang berjenis pencurian seperti larceny, larceny from motorcycle, residential buglary, dll\n",
    "3. mayoritas kejahatan dengan UCR bagian Two ialah kejahatan yang berjenis yang melibatkan sesama penduduk kota Boston seperti simple assault, disordely conduct, dll\n",
    "4. pengambilan data kurang lengkap satu tahun ditahun 2015 dan 2018\n",
    "5. rata-rata jumlah kasus kejahatan perhari di tiap tahunnya mengalami penurunan dari tahun 2015 sampai 2018\n",
    "6. rata-rata jumlah kasus kejahatan perhari di bulan yang bermusim semi dan panas, seperti: april, mei, juni, juli, agustus, september lebih tinggi dibanding  rata-rata jumlah kasus kejahatan perhari di bulan yang bermusim gugur dan dingin,seperti oktober, november, desember, januari, februari, maret\n",
    "7. rata-rata jumlah kasus kejahatan perhari di hari yang weekday lebih tinggi dibanding rata-rata jumlah kasus kejahatan perhari di hari yang weekday\n",
    "8. rata-rata jumlah kasus kejahatan berdasarkan harinya menunjukan bahwa hari minggu memiliki rata-rata jumlah kasus terendah\n",
    "9. jam yang jumlah kasus kejadianya yang ada di atas rata-rata jumlah kejadian di setiap jamnya ada di jam-jam produktif/kerja/ramai perkotaan pada umumnya yaitu sekitar pukul 09.00 - 20.00.\n",
    "10. district dengan kejahatan terbanyak dipegang oleh district Roxbury, disusul oleh South End, Dorchester, Downtown, mattapan.\n",
    "11. mayoritas kejahatan di 5 district dengan kejahatan terbanyak, ialah larceny dan simple assault\n",
    "\n",
    "karakteristik respon kepolisian di kota Boston:\n",
    "1. Motor Vehicle Accident Response(penganan kecelakaan kendaraan bermotor) menjadi kasus yang paling sering ditangani oleh kepolisian di tahun 2015-2018, disusul dengan medical Assistance(bantuan medis)dan Investigate Person(investigasi seseorang).\n",
    "2. jam sibuk kepolisian ialah dari sekitar pukul 8.00 - 19.00."
   ]
  },
  {
   "cell_type": "markdown",
   "id": "868db89b-08b8-4c17-aee7-8aa0edd825cd",
   "metadata": {},
   "source": [
    "## rekomendasi\n",
    "1. perlu pengawasan yang lebih lagi dari kepolisian kota  boston untuk menaruh atau menyabarkan anggota-anggota nya dekat dengan titik yang banyak di lewati warga atau titik dimana tempat yang sering terjadi keramaian.\n",
    "2. penerapan cctv di tempat-tempat yang rawan pencurian\n",
    "3. kebijakan perlu sering di tinjau ulang dan diperbaiki di kebijakan yang kurang efektif agar kebijakan selalu sesuai dengan keadaan yang dibutuhkan.\n",
    "4. dibutuhkan anggota ekstra dan memperbanyak kampanye untuk mengingatkan warga boston tentang kejahatan pencurian, pengancaman, dll di bulan-bulan dengan tingkat kriminalitas yang tinggi yaitu bulan-bulan di bulan yang bermusim semi dan panas(april, mei, juni, juli, agustus, september).\n",
    "5. perlu menambah personel kepolisian yang bertugas dan jam kerjanya di hari-hari weekdays, dan memberikan rolling libur di hari sabtu dan minggu agar tercipta work life balance.\n",
    "6. memperbanyak jadwal patroli polisi di sekitar jam 09.00 - 20.00.\n",
    "7. melakukan kordinasi atau kerja sama dengan kepolisian di tingkat ditrict yang mempunyai jumlah kasus kejahatan tertinggi untuk menangani kasus kejahatan bersama-sama\n",
    "8. memperbanyak kampanye untuk berkendara yang baik dan benar di jalanan boston dan memperbanyak kampanye untuk merekomendasikan warga boston untuk naik angkutan umum.\n",
    "9. memberikan tambahan ilmu-ilmu dasar pengobatan untuk seluruh anggota kepolisian kota boston. \n",
    "10. memperbanyak anggota siaga di kantor kepolisian di sekitar jam 8.00 - 19.00.\n",
    "11. Pengambilan data seharusnya diusahakan lengkap agar lebih banyak insight yang dapat diambil."
   ]
  }
 ],
 "metadata": {
  "kernelspec": {
   "display_name": "Python 3 (ipykernel)",
   "language": "python",
   "name": "python3"
  },
  "language_info": {
   "codemirror_mode": {
    "name": "ipython",
    "version": 3
   },
   "file_extension": ".py",
   "mimetype": "text/x-python",
   "name": "python",
   "nbconvert_exporter": "python",
   "pygments_lexer": "ipython3",
   "version": "3.9.12"
  }
 },
 "nbformat": 4,
 "nbformat_minor": 5
}
